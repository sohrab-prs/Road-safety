{
 "cells": [
  {
   "cell_type": "code",
   "execution_count": 139,
   "id": "614f5584",
   "metadata": {},
   "outputs": [],
   "source": [
    "import numpy as np\n",
    "from sklearn.neighbors import NearestNeighbors\n",
    "from sklearn.cluster import DBSCAN\n",
    "from matplotlib import pyplot as plt\n",
    "import seaborn as sns\n",
    "import geopandas as gpd\n",
    "sns.set()"
   ]
  },
  {
   "cell_type": "code",
   "execution_count": 270,
   "id": "350034bc",
   "metadata": {},
   "outputs": [
    {
     "data": {
      "text/html": [
       "<div>\n",
       "<style scoped>\n",
       "    .dataframe tbody tr th:only-of-type {\n",
       "        vertical-align: middle;\n",
       "    }\n",
       "\n",
       "    .dataframe tbody tr th {\n",
       "        vertical-align: top;\n",
       "    }\n",
       "\n",
       "    .dataframe thead th {\n",
       "        text-align: right;\n",
       "    }\n",
       "</style>\n",
       "<table border=\"1\" class=\"dataframe\">\n",
       "  <thead>\n",
       "    <tr style=\"text-align: right;\">\n",
       "      <th></th>\n",
       "      <th>OBJECTID</th>\n",
       "      <th>OBJECTID_1</th>\n",
       "      <th>Cod_Uniq_F</th>\n",
       "      <th>Cod_Uniq</th>\n",
       "      <th>Name_Hoze</th>\n",
       "      <th>Cod_Hoze</th>\n",
       "      <th>Name_Mehva</th>\n",
       "      <th>Y</th>\n",
       "      <th>X</th>\n",
       "      <th>Band_Raft_</th>\n",
       "      <th>...</th>\n",
       "      <th>رفت</th>\n",
       "      <th>برگشت</th>\n",
       "      <th>Mahdode_Ab</th>\n",
       "      <th>Mahdode_Ma</th>\n",
       "      <th>Mahdode_Sh</th>\n",
       "      <th>Onvan_File</th>\n",
       "      <th>X_</th>\n",
       "      <th>Y_</th>\n",
       "      <th>ID</th>\n",
       "      <th>geometry</th>\n",
       "    </tr>\n",
       "  </thead>\n",
       "  <tbody>\n",
       "    <tr>\n",
       "      <th>0</th>\n",
       "      <td>149</td>\n",
       "      <td>0.0</td>\n",
       "      <td>None</td>\n",
       "      <td>None</td>\n",
       "      <td>None</td>\n",
       "      <td>None</td>\n",
       "      <td>None</td>\n",
       "      <td>0.0</td>\n",
       "      <td>0.0</td>\n",
       "      <td>None</td>\n",
       "      <td>...</td>\n",
       "      <td>None</td>\n",
       "      <td>None</td>\n",
       "      <td>0.0</td>\n",
       "      <td>0.0</td>\n",
       "      <td>0.0</td>\n",
       "      <td>None</td>\n",
       "      <td>562061.4358</td>\n",
       "      <td>4.005229e+06</td>\n",
       "      <td>-1.0</td>\n",
       "      <td>POINT (562061.436 4005229.099)</td>\n",
       "    </tr>\n",
       "    <tr>\n",
       "      <th>1</th>\n",
       "      <td>150</td>\n",
       "      <td>0.0</td>\n",
       "      <td>None</td>\n",
       "      <td>None</td>\n",
       "      <td>None</td>\n",
       "      <td>None</td>\n",
       "      <td>None</td>\n",
       "      <td>0.0</td>\n",
       "      <td>0.0</td>\n",
       "      <td>None</td>\n",
       "      <td>...</td>\n",
       "      <td>None</td>\n",
       "      <td>None</td>\n",
       "      <td>0.0</td>\n",
       "      <td>0.0</td>\n",
       "      <td>0.0</td>\n",
       "      <td>None</td>\n",
       "      <td>562056.1959</td>\n",
       "      <td>4.005130e+06</td>\n",
       "      <td>-1.0</td>\n",
       "      <td>POINT (562056.196 4005129.824)</td>\n",
       "    </tr>\n",
       "    <tr>\n",
       "      <th>2</th>\n",
       "      <td>151</td>\n",
       "      <td>0.0</td>\n",
       "      <td>None</td>\n",
       "      <td>None</td>\n",
       "      <td>None</td>\n",
       "      <td>None</td>\n",
       "      <td>None</td>\n",
       "      <td>0.0</td>\n",
       "      <td>0.0</td>\n",
       "      <td>None</td>\n",
       "      <td>...</td>\n",
       "      <td>None</td>\n",
       "      <td>None</td>\n",
       "      <td>0.0</td>\n",
       "      <td>0.0</td>\n",
       "      <td>0.0</td>\n",
       "      <td>None</td>\n",
       "      <td>562073.1524</td>\n",
       "      <td>4.005031e+06</td>\n",
       "      <td>-1.0</td>\n",
       "      <td>POINT (562073.152 4005031.428)</td>\n",
       "    </tr>\n",
       "    <tr>\n",
       "      <th>3</th>\n",
       "      <td>152</td>\n",
       "      <td>0.0</td>\n",
       "      <td>None</td>\n",
       "      <td>None</td>\n",
       "      <td>None</td>\n",
       "      <td>None</td>\n",
       "      <td>None</td>\n",
       "      <td>0.0</td>\n",
       "      <td>0.0</td>\n",
       "      <td>None</td>\n",
       "      <td>...</td>\n",
       "      <td>None</td>\n",
       "      <td>None</td>\n",
       "      <td>0.0</td>\n",
       "      <td>0.0</td>\n",
       "      <td>0.0</td>\n",
       "      <td>None</td>\n",
       "      <td>562106.7657</td>\n",
       "      <td>4.004937e+06</td>\n",
       "      <td>-1.0</td>\n",
       "      <td>POINT (562106.766 4004937.404)</td>\n",
       "    </tr>\n",
       "    <tr>\n",
       "      <th>4</th>\n",
       "      <td>153</td>\n",
       "      <td>0.0</td>\n",
       "      <td>None</td>\n",
       "      <td>None</td>\n",
       "      <td>None</td>\n",
       "      <td>None</td>\n",
       "      <td>None</td>\n",
       "      <td>0.0</td>\n",
       "      <td>0.0</td>\n",
       "      <td>None</td>\n",
       "      <td>...</td>\n",
       "      <td>None</td>\n",
       "      <td>None</td>\n",
       "      <td>0.0</td>\n",
       "      <td>0.0</td>\n",
       "      <td>0.0</td>\n",
       "      <td>None</td>\n",
       "      <td>562139.5274</td>\n",
       "      <td>4.004843e+06</td>\n",
       "      <td>-1.0</td>\n",
       "      <td>POINT (562139.527 4004842.944)</td>\n",
       "    </tr>\n",
       "  </tbody>\n",
       "</table>\n",
       "<p>5 rows × 117 columns</p>\n",
       "</div>"
      ],
      "text/plain": [
       "   OBJECTID  OBJECTID_1 Cod_Uniq_F Cod_Uniq Name_Hoze Cod_Hoze Name_Mehva  \\\n",
       "0       149         0.0       None     None      None     None       None   \n",
       "1       150         0.0       None     None      None     None       None   \n",
       "2       151         0.0       None     None      None     None       None   \n",
       "3       152         0.0       None     None      None     None       None   \n",
       "4       153         0.0       None     None      None     None       None   \n",
       "\n",
       "     Y    X Band_Raft_  ...   رفت  برگشت Mahdode_Ab  Mahdode_Ma Mahdode_Sh  \\\n",
       "0  0.0  0.0       None  ...  None   None        0.0         0.0        0.0   \n",
       "1  0.0  0.0       None  ...  None   None        0.0         0.0        0.0   \n",
       "2  0.0  0.0       None  ...  None   None        0.0         0.0        0.0   \n",
       "3  0.0  0.0       None  ...  None   None        0.0         0.0        0.0   \n",
       "4  0.0  0.0       None  ...  None   None        0.0         0.0        0.0   \n",
       "\n",
       "  Onvan_File           X_            Y_   ID                        geometry  \n",
       "0       None  562061.4358  4.005229e+06 -1.0  POINT (562061.436 4005229.099)  \n",
       "1       None  562056.1959  4.005130e+06 -1.0  POINT (562056.196 4005129.824)  \n",
       "2       None  562073.1524  4.005031e+06 -1.0  POINT (562073.152 4005031.428)  \n",
       "3       None  562106.7657  4.004937e+06 -1.0  POINT (562106.766 4004937.404)  \n",
       "4       None  562139.5274  4.004843e+06 -1.0  POINT (562139.527 4004842.944)  \n",
       "\n",
       "[5 rows x 117 columns]"
      ]
     },
     "execution_count": 270,
     "metadata": {},
     "output_type": "execute_result"
    }
   ],
   "source": [
    "data = gpd.read_file(\"C:/Users/sohra/Desktop/Dr_Baradaran/Bardaskan_Sabzevar/Temp/Tasadofat.shp\")\n",
    "data = data.sort_values(by=[\"Y_\"],ascending=False,ignore_index=True)\n",
    "data.head()"
   ]
  },
  {
   "cell_type": "code",
   "execution_count": 271,
   "id": "ab8eb6fc",
   "metadata": {},
   "outputs": [
    {
     "data": {
      "text/plain": [
       "array([[ 562061.4358, 4005229.0986],\n",
       "       [ 562056.1959, 4005129.8238],\n",
       "       [ 562073.1524, 4005031.4276],\n",
       "       ...,\n",
       "       [ 590613.409 , 3901548.5534],\n",
       "       [ 590620.2028, 3901449.5165],\n",
       "       [ 590617.6386, 3901405.9516]])"
      ]
     },
     "execution_count": 271,
     "metadata": {},
     "output_type": "execute_result"
    }
   ],
   "source": [
    "X = data.geometry.apply(lambda coordinate: list(coordinate.coords[0]))\n",
    "X = np.array(X.tolist())\n",
    "X"
   ]
  },
  {
   "cell_type": "code",
   "execution_count": 290,
   "id": "0cd3cc01",
   "metadata": {},
   "outputs": [],
   "source": [
    "N_Neighbors = NearestNeighbors(n_neighbors=2)\n",
    "Neighbors = N_Neighbors.fit(X_Acc_data)"
   ]
  },
  {
   "cell_type": "code",
   "execution_count": 291,
   "id": "6b7f830e",
   "metadata": {},
   "outputs": [],
   "source": [
    "X_Acc_data = data[data[\"ID\"] != -1]\n",
    "X_Acc_data = X_Acc_data.geometry.apply(lambda coordinate: list(coordinate.coords[0]))\n",
    "X_Acc_data = np.array(X_Acc_data.tolist())"
   ]
  },
  {
   "cell_type": "code",
   "execution_count": 292,
   "id": "de7954d7",
   "metadata": {},
   "outputs": [],
   "source": [
    "distances, indices = Neighbors.kneighbors()"
   ]
  },
  {
   "cell_type": "code",
   "execution_count": 293,
   "id": "598cb574",
   "metadata": {},
   "outputs": [
    {
     "data": {
      "text/plain": [
       "[<matplotlib.lines.Line2D at 0x1c4ce03a380>]"
      ]
     },
     "execution_count": 293,
     "metadata": {},
     "output_type": "execute_result"
    },
    {
     "data": {
      "image/png": "[encoded data removed]",
      "text/plain": [
       "<Figure size 640x480 with 1 Axes>"
      ]
     },
     "metadata": {},
     "output_type": "display_data"
    }
   ],
   "source": [
    "distances = np.sort(distances, axis=0)\n",
    "\n",
    "distances = distances[:,1]\n",
    "\n",
    "plt.plot(distances)"
   ]
  },
  {
   "cell_type": "code",
   "execution_count": 294,
   "id": "f6c5f3c0",
   "metadata": {},
   "outputs": [
    {
     "data": {
      "text/plain": [
       "array([[  1,   2],\n",
       "       [  2,   0],\n",
       "       [  1,   0],\n",
       "       [  4,   2],\n",
       "       [  3,   5],\n",
       "       [  6,   4],\n",
       "       [  5,   4],\n",
       "       [  8,   9],\n",
       "       [  9,  10],\n",
       "       [  8,  10],\n",
       "       [  9,   8],\n",
       "       [ 12,  13],\n",
       "       [ 11,  13],\n",
       "       [ 14,  12],\n",
       "       [ 13,  12],\n",
       "       [ 16,  17],\n",
       "       [ 15,  17],\n",
       "       [ 18,  19],\n",
       "       [ 17,  19],\n",
       "       [ 18,  17],\n",
       "       [ 19,  21],\n",
       "       [ 20,  22],\n",
       "       [ 21,  23],\n",
       "       [ 22,  21],\n",
       "       [ 25,  26],\n",
       "       [ 26,  24],\n",
       "       [ 27,  28],\n",
       "       [ 26,  28],\n",
       "       [ 27,  26],\n",
       "       [ 30,  31],\n",
       "       [ 31,  29],\n",
       "       [ 30,  32],\n",
       "       [ 31,  30],\n",
       "       [ 32,  31],\n",
       "       [ 35,  36],\n",
       "       [ 34,  36],\n",
       "       [ 37,  35],\n",
       "       [ 36,  35],\n",
       "       [ 39,  40],\n",
       "       [ 40,  41],\n",
       "       [ 39,  41],\n",
       "       [ 40,  39],\n",
       "       [ 43,  41],\n",
       "       [ 42,  44],\n",
       "       [ 43,  45],\n",
       "       [ 44,  43],\n",
       "       [ 47,  48],\n",
       "       [ 48,  49],\n",
       "       [ 47,  49],\n",
       "       [ 48,  47],\n",
       "       [ 51,  52],\n",
       "       [ 50,  52],\n",
       "       [ 50,  51],\n",
       "       [ 54,  55],\n",
       "       [ 55,  53],\n",
       "       [ 54,  53],\n",
       "       [ 57,  58],\n",
       "       [ 58,  56],\n",
       "       [ 57,  59],\n",
       "       [ 58,  57],\n",
       "       [ 61,  62],\n",
       "       [ 60,  62],\n",
       "       [ 63,  64],\n",
       "       [ 62,  64],\n",
       "       [ 63,  62],\n",
       "       [ 66,  64],\n",
       "       [ 65,  64],\n",
       "       [ 68,  69],\n",
       "       [ 67,  69],\n",
       "       [ 68,  67],\n",
       "       [ 71,  69],\n",
       "       [ 70,  72],\n",
       "       [ 73,  74],\n",
       "       [ 74,  75],\n",
       "       [ 73,  75],\n",
       "       [ 74,  73],\n",
       "       [ 77,  78],\n",
       "       [ 78,  79],\n",
       "       [ 77,  79],\n",
       "       [ 78,  80],\n",
       "       [ 79,  78],\n",
       "       [ 82,  83],\n",
       "       [ 83,  81],\n",
       "       [ 82,  81],\n",
       "       [ 85,  86],\n",
       "       [ 84,  86],\n",
       "       [ 87,  85],\n",
       "       [ 88,  86],\n",
       "       [ 87,  86],\n",
       "       [ 90,  91],\n",
       "       [ 91,  89],\n",
       "       [ 90,  89],\n",
       "       [ 93,  94],\n",
       "       [ 94,  92],\n",
       "       [ 93,  92],\n",
       "       [ 96,  94],\n",
       "       [ 95,  94],\n",
       "       [ 98,  99],\n",
       "       [ 99,  97],\n",
       "       [ 98,  97],\n",
       "       [101,  99],\n",
       "       [100, 102],\n",
       "       [103, 101],\n",
       "       [102, 104],\n",
       "       [105, 103],\n",
       "       [104, 106],\n",
       "       [107, 105],\n",
       "       [108, 106],\n",
       "       [107, 106],\n",
       "       [110, 108],\n",
       "       [109, 111],\n",
       "       [112, 113],\n",
       "       [111, 113],\n",
       "       [112, 111],\n",
       "       [115, 116],\n",
       "       [114, 116],\n",
       "       [115, 114],\n",
       "       [118, 116],\n",
       "       [117, 119],\n",
       "       [120, 121],\n",
       "       [121, 122],\n",
       "       [122, 120],\n",
       "       [121, 120],\n",
       "       [124, 126],\n",
       "       [125, 126],\n",
       "       [126, 124],\n",
       "       [125, 124],\n",
       "       [128, 129],\n",
       "       [127, 129],\n",
       "       [130, 128],\n",
       "       [129, 131],\n",
       "       [132, 133],\n",
       "       [133, 134],\n",
       "       [134, 132],\n",
       "       [133, 132],\n",
       "       [134, 133],\n",
       "       [137, 138],\n",
       "       [138, 136],\n",
       "       [137, 139],\n",
       "       [140, 138],\n",
       "       [141, 142],\n",
       "       [140, 142],\n",
       "       [141, 140],\n",
       "       [142, 141],\n",
       "       [145, 146],\n",
       "       [144, 146],\n",
       "       [147, 145],\n",
       "       [146, 145]], dtype=int64)"
      ]
     },
     "execution_count": 294,
     "metadata": {},
     "output_type": "execute_result"
    }
   ],
   "source": [
    "indices"
   ]
  },
  {
   "cell_type": "code",
   "execution_count": null,
   "id": "d40b482d",
   "metadata": {},
   "outputs": [],
   "source": [
    "sns.displot()"
   ]
  },
  {
   "cell_type": "code",
   "execution_count": 209,
   "id": "fd45359c",
   "metadata": {},
   "outputs": [
    {
     "data": {
      "text/html": [
       "<style>#sk-container-id-11 {color: black;background-color: white;}#sk-container-id-11 pre{padding: 0;}#sk-container-id-11 div.sk-toggleable {background-color: white;}#sk-container-id-11 label.sk-toggleable__label {cursor: pointer;display: block;width: 100%;margin-bottom: 0;padding: 0.3em;box-sizing: border-box;text-align: center;}#sk-container-id-11 label.sk-toggleable__label-arrow:before {content: \"▸\";float: left;margin-right: 0.25em;color: #696969;}#sk-container-id-11 label.sk-toggleable__label-arrow:hover:before {color: black;}#sk-container-id-11 div.sk-estimator:hover label.sk-toggleable__label-arrow:before {color: black;}#sk-container-id-11 div.sk-toggleable__content {max-height: 0;max-width: 0;overflow: hidden;text-align: left;background-color: #f0f8ff;}#sk-container-id-11 div.sk-toggleable__content pre {margin: 0.2em;color: black;border-radius: 0.25em;background-color: #f0f8ff;}#sk-container-id-11 input.sk-toggleable__control:checked~div.sk-toggleable__content {max-height: 200px;max-width: 100%;overflow: auto;}#sk-container-id-11 input.sk-toggleable__control:checked~label.sk-toggleable__label-arrow:before {content: \"▾\";}#sk-container-id-11 div.sk-estimator input.sk-toggleable__control:checked~label.sk-toggleable__label {background-color: #d4ebff;}#sk-container-id-11 div.sk-label input.sk-toggleable__control:checked~label.sk-toggleable__label {background-color: #d4ebff;}#sk-container-id-11 input.sk-hidden--visually {border: 0;clip: rect(1px 1px 1px 1px);clip: rect(1px, 1px, 1px, 1px);height: 1px;margin: -1px;overflow: hidden;padding: 0;position: absolute;width: 1px;}#sk-container-id-11 div.sk-estimator {font-family: monospace;background-color: #f0f8ff;border: 1px dotted black;border-radius: 0.25em;box-sizing: border-box;margin-bottom: 0.5em;}#sk-container-id-11 div.sk-estimator:hover {background-color: #d4ebff;}#sk-container-id-11 div.sk-parallel-item::after {content: \"\";width: 100%;border-bottom: 1px solid gray;flex-grow: 1;}#sk-container-id-11 div.sk-label:hover label.sk-toggleable__label {background-color: #d4ebff;}#sk-container-id-11 div.sk-serial::before {content: \"\";position: absolute;border-left: 1px solid gray;box-sizing: border-box;top: 0;bottom: 0;left: 50%;z-index: 0;}#sk-container-id-11 div.sk-serial {display: flex;flex-direction: column;align-items: center;background-color: white;padding-right: 0.2em;padding-left: 0.2em;position: relative;}#sk-container-id-11 div.sk-item {position: relative;z-index: 1;}#sk-container-id-11 div.sk-parallel {display: flex;align-items: stretch;justify-content: center;background-color: white;position: relative;}#sk-container-id-11 div.sk-item::before, #sk-container-id-11 div.sk-parallel-item::before {content: \"\";position: absolute;border-left: 1px solid gray;box-sizing: border-box;top: 0;bottom: 0;left: 50%;z-index: -1;}#sk-container-id-11 div.sk-parallel-item {display: flex;flex-direction: column;z-index: 1;position: relative;background-color: white;}#sk-container-id-11 div.sk-parallel-item:first-child::after {align-self: flex-end;width: 50%;}#sk-container-id-11 div.sk-parallel-item:last-child::after {align-self: flex-start;width: 50%;}#sk-container-id-11 div.sk-parallel-item:only-child::after {width: 0;}#sk-container-id-11 div.sk-dashed-wrapped {border: 1px dashed gray;margin: 0 0.4em 0.5em 0.4em;box-sizing: border-box;padding-bottom: 0.4em;background-color: white;}#sk-container-id-11 div.sk-label label {font-family: monospace;font-weight: bold;display: inline-block;line-height: 1.2em;}#sk-container-id-11 div.sk-label-container {text-align: center;}#sk-container-id-11 div.sk-container {/* jupyter's `normalize.less` sets `[hidden] { display: none; }` but bootstrap.min.css set `[hidden] { display: none !important; }` so we also need the `!important` here to be able to override the default hidden behavior on the sphinx rendered scikit-learn.org. See: https://github.com/scikit-learn/scikit-learn/issues/21755 */display: inline-block !important;position: relative;}#sk-container-id-11 div.sk-text-repr-fallback {display: none;}</style><div id=\"sk-container-id-11\" class=\"sk-top-container\"><div class=\"sk-text-repr-fallback\"><pre>DBSCAN(eps=130, min_samples=3)</pre><b>In a Jupyter environment, please rerun this cell to show the HTML representation or trust the notebook. <br />On GitHub, the HTML representation is unable to render, please try loading this page with nbviewer.org.</b></div><div class=\"sk-container\" hidden><div class=\"sk-item\"><div class=\"sk-estimator sk-toggleable\"><input class=\"sk-toggleable__control sk-hidden--visually\" id=\"sk-estimator-id-11\" type=\"checkbox\" checked><label for=\"sk-estimator-id-11\" class=\"sk-toggleable__label sk-toggleable__label-arrow\">DBSCAN</label><div class=\"sk-toggleable__content\"><pre>DBSCAN(eps=130, min_samples=3)</pre></div></div></div></div></div>"
      ],
      "text/plain": [
       "DBSCAN(eps=130, min_samples=3)"
      ]
     },
     "execution_count": 209,
     "metadata": {},
     "output_type": "execute_result"
    }
   ],
   "source": [
    "Clusterer_400 = DBSCAN(eps=130, min_samples=3)\n",
    "Clusterer_400.fit(X_Acc_data)"
   ]
  },
  {
   "cell_type": "code",
   "execution_count": 210,
   "id": "a2b2a929",
   "metadata": {},
   "outputs": [
    {
     "data": {
      "text/plain": [
       "array([-1, -1, -1, -1, -1, -1, -1,  0,  0,  0], dtype=int64)"
      ]
     },
     "execution_count": 210,
     "metadata": {},
     "output_type": "execute_result"
    }
   ],
   "source": [
    "clusters = Clusterer_400.labels_\n",
    "clusters[10:20]"
   ]
  },
  {
   "cell_type": "code",
   "execution_count": 222,
   "id": "fcba5c26",
   "metadata": {},
   "outputs": [
    {
     "data": {
      "text/plain": [
       "{'deeppink',\n",
       " 'forestgreen',\n",
       " 'goldenrod',\n",
       " 'lightcyan',\n",
       " 'maroon',\n",
       " 'mediumorchid',\n",
       " 'navy',\n",
       " 'olive',\n",
       " 'royalblue',\n",
       " 'tan',\n",
       " 'white'}"
      ]
     },
     "execution_count": 222,
     "metadata": {},
     "output_type": "execute_result"
    }
   ],
   "source": [
    "set(colors)"
   ]
  },
  {
   "cell_type": "code",
   "execution_count": 223,
   "id": "258d5a42",
   "metadata": {},
   "outputs": [],
   "source": [
    "colors = set(['white', 'royalblue', 'maroon', 'forestgreen', 'mediumorchid', 'tan', 'deeppink', 'olive', 'goldenrod', 'lightcyan', 'navy'])\n",
    "vectorizer = np.vectorize(lambda x: colors[x % len(colors)])"
   ]
  },
  {
   "cell_type": "code",
   "execution_count": 225,
   "id": "fb5cb57a",
   "metadata": {},
   "outputs": [
    {
     "data": {
      "text/plain": [
       "11"
      ]
     },
     "execution_count": 225,
     "metadata": {},
     "output_type": "execute_result"
    }
   ],
   "source": [
    "len(colors)"
   ]
  },
  {
   "cell_type": "code",
   "execution_count": 224,
   "id": "b6a14179",
   "metadata": {},
   "outputs": [
    {
     "ename": "TypeError",
     "evalue": "'set' object is not subscriptable",
     "output_type": "error",
     "traceback": [
      "\u001b[1;31m---------------------------------------------------------------------------\u001b[0m",
      "\u001b[1;31mTypeError\u001b[0m                                 Traceback (most recent call last)",
      "Cell \u001b[1;32mIn [224], line 1\u001b[0m\n\u001b[1;32m----> 1\u001b[0m plt\u001b[38;5;241m.\u001b[39mscatter(X_Acc_data[:,\u001b[38;5;241m0\u001b[39m], X_Acc_data[:,\u001b[38;5;241m1\u001b[39m], c\u001b[38;5;241m=\u001b[39mvectorizer(clusters))\n",
      "File \u001b[1;32mC:\\ProgramData\\Anaconda3\\envs\\python-gis\\lib\\site-packages\\numpy\\lib\\function_base.py:2328\u001b[0m, in \u001b[0;36mvectorize.__call__\u001b[1;34m(self, *args, **kwargs)\u001b[0m\n\u001b[0;32m   2325\u001b[0m     vargs \u001b[38;5;241m=\u001b[39m [args[_i] \u001b[38;5;28;01mfor\u001b[39;00m _i \u001b[38;5;129;01min\u001b[39;00m inds]\n\u001b[0;32m   2326\u001b[0m     vargs\u001b[38;5;241m.\u001b[39mextend([kwargs[_n] \u001b[38;5;28;01mfor\u001b[39;00m _n \u001b[38;5;129;01min\u001b[39;00m names])\n\u001b[1;32m-> 2328\u001b[0m \u001b[38;5;28;01mreturn\u001b[39;00m \u001b[38;5;28;43mself\u001b[39;49m\u001b[38;5;241;43m.\u001b[39;49m\u001b[43m_vectorize_call\u001b[49m\u001b[43m(\u001b[49m\u001b[43mfunc\u001b[49m\u001b[38;5;241;43m=\u001b[39;49m\u001b[43mfunc\u001b[49m\u001b[43m,\u001b[49m\u001b[43m \u001b[49m\u001b[43margs\u001b[49m\u001b[38;5;241;43m=\u001b[39;49m\u001b[43mvargs\u001b[49m\u001b[43m)\u001b[49m\n",
      "File \u001b[1;32mC:\\ProgramData\\Anaconda3\\envs\\python-gis\\lib\\site-packages\\numpy\\lib\\function_base.py:2406\u001b[0m, in \u001b[0;36mvectorize._vectorize_call\u001b[1;34m(self, func, args)\u001b[0m\n\u001b[0;32m   2404\u001b[0m     res \u001b[38;5;241m=\u001b[39m func()\n\u001b[0;32m   2405\u001b[0m \u001b[38;5;28;01melse\u001b[39;00m:\n\u001b[1;32m-> 2406\u001b[0m     ufunc, otypes \u001b[38;5;241m=\u001b[39m \u001b[38;5;28;43mself\u001b[39;49m\u001b[38;5;241;43m.\u001b[39;49m\u001b[43m_get_ufunc_and_otypes\u001b[49m\u001b[43m(\u001b[49m\u001b[43mfunc\u001b[49m\u001b[38;5;241;43m=\u001b[39;49m\u001b[43mfunc\u001b[49m\u001b[43m,\u001b[49m\u001b[43m \u001b[49m\u001b[43margs\u001b[49m\u001b[38;5;241;43m=\u001b[39;49m\u001b[43margs\u001b[49m\u001b[43m)\u001b[49m\n\u001b[0;32m   2408\u001b[0m     \u001b[38;5;66;03m# Convert args to object arrays first\u001b[39;00m\n\u001b[0;32m   2409\u001b[0m     inputs \u001b[38;5;241m=\u001b[39m [asanyarray(a, dtype\u001b[38;5;241m=\u001b[39m\u001b[38;5;28mobject\u001b[39m) \u001b[38;5;28;01mfor\u001b[39;00m a \u001b[38;5;129;01min\u001b[39;00m args]\n",
      "File \u001b[1;32mC:\\ProgramData\\Anaconda3\\envs\\python-gis\\lib\\site-packages\\numpy\\lib\\function_base.py:2366\u001b[0m, in \u001b[0;36mvectorize._get_ufunc_and_otypes\u001b[1;34m(self, func, args)\u001b[0m\n\u001b[0;32m   2362\u001b[0m     \u001b[38;5;28;01mraise\u001b[39;00m \u001b[38;5;167;01mValueError\u001b[39;00m(\u001b[38;5;124m'\u001b[39m\u001b[38;5;124mcannot call `vectorize` on size 0 inputs \u001b[39m\u001b[38;5;124m'\u001b[39m\n\u001b[0;32m   2363\u001b[0m                      \u001b[38;5;124m'\u001b[39m\u001b[38;5;124munless `otypes` is set\u001b[39m\u001b[38;5;124m'\u001b[39m)\n\u001b[0;32m   2365\u001b[0m inputs \u001b[38;5;241m=\u001b[39m [arg\u001b[38;5;241m.\u001b[39mflat[\u001b[38;5;241m0\u001b[39m] \u001b[38;5;28;01mfor\u001b[39;00m arg \u001b[38;5;129;01min\u001b[39;00m args]\n\u001b[1;32m-> 2366\u001b[0m outputs \u001b[38;5;241m=\u001b[39m \u001b[43mfunc\u001b[49m\u001b[43m(\u001b[49m\u001b[38;5;241;43m*\u001b[39;49m\u001b[43minputs\u001b[49m\u001b[43m)\u001b[49m\n\u001b[0;32m   2368\u001b[0m \u001b[38;5;66;03m# Performance note: profiling indicates that -- for simple\u001b[39;00m\n\u001b[0;32m   2369\u001b[0m \u001b[38;5;66;03m# functions at least -- this wrapping can almost double the\u001b[39;00m\n\u001b[0;32m   2370\u001b[0m \u001b[38;5;66;03m# execution time.\u001b[39;00m\n\u001b[0;32m   2371\u001b[0m \u001b[38;5;66;03m# Hence we make it optional.\u001b[39;00m\n\u001b[0;32m   2372\u001b[0m \u001b[38;5;28;01mif\u001b[39;00m \u001b[38;5;28mself\u001b[39m\u001b[38;5;241m.\u001b[39mcache:\n",
      "Cell \u001b[1;32mIn [223], line 2\u001b[0m, in \u001b[0;36m<lambda>\u001b[1;34m(x)\u001b[0m\n\u001b[0;32m      1\u001b[0m colors \u001b[38;5;241m=\u001b[39m \u001b[38;5;28mset\u001b[39m([\u001b[38;5;124m'\u001b[39m\u001b[38;5;124mwhite\u001b[39m\u001b[38;5;124m'\u001b[39m, \u001b[38;5;124m'\u001b[39m\u001b[38;5;124mroyalblue\u001b[39m\u001b[38;5;124m'\u001b[39m, \u001b[38;5;124m'\u001b[39m\u001b[38;5;124mmaroon\u001b[39m\u001b[38;5;124m'\u001b[39m, \u001b[38;5;124m'\u001b[39m\u001b[38;5;124mforestgreen\u001b[39m\u001b[38;5;124m'\u001b[39m, \u001b[38;5;124m'\u001b[39m\u001b[38;5;124mmediumorchid\u001b[39m\u001b[38;5;124m'\u001b[39m, \u001b[38;5;124m'\u001b[39m\u001b[38;5;124mtan\u001b[39m\u001b[38;5;124m'\u001b[39m, \u001b[38;5;124m'\u001b[39m\u001b[38;5;124mdeeppink\u001b[39m\u001b[38;5;124m'\u001b[39m, \u001b[38;5;124m'\u001b[39m\u001b[38;5;124molive\u001b[39m\u001b[38;5;124m'\u001b[39m, \u001b[38;5;124m'\u001b[39m\u001b[38;5;124mgoldenrod\u001b[39m\u001b[38;5;124m'\u001b[39m, \u001b[38;5;124m'\u001b[39m\u001b[38;5;124mlightcyan\u001b[39m\u001b[38;5;124m'\u001b[39m, \u001b[38;5;124m'\u001b[39m\u001b[38;5;124mnavy\u001b[39m\u001b[38;5;124m'\u001b[39m])\n\u001b[1;32m----> 2\u001b[0m vectorizer \u001b[38;5;241m=\u001b[39m np\u001b[38;5;241m.\u001b[39mvectorize(\u001b[38;5;28;01mlambda\u001b[39;00m x: \u001b[43mcolors\u001b[49m\u001b[43m[\u001b[49m\u001b[43mx\u001b[49m\u001b[43m \u001b[49m\u001b[38;5;241;43m%\u001b[39;49m\u001b[43m \u001b[49m\u001b[38;5;28;43mlen\u001b[39;49m\u001b[43m(\u001b[49m\u001b[43mcolors\u001b[49m\u001b[43m)\u001b[49m\u001b[43m]\u001b[49m)\n",
      "\u001b[1;31mTypeError\u001b[0m: 'set' object is not subscriptable"
     ]
    }
   ],
   "source": [
    "plt.scatter(X_Acc_data[:,0], X_Acc_data[:,1], c=vectorizer(clusters))"
   ]
  },
  {
   "cell_type": "code",
   "execution_count": null,
   "id": "5fe6dc6f",
   "metadata": {},
   "outputs": [],
   "source": []
  }
 ],
 "metadata": {
  "kernelspec": {
   "display_name": "Python 3 (ipykernel)",
   "language": "python",
   "name": "python3"
  },
  "language_info": {
   "codemirror_mode": {
    "name": "ipython",
    "version": 3
   },
   "file_extension": ".py",
   "mimetype": "text/x-python",
   "name": "python",
   "nbconvert_exporter": "python",
   "pygments_lexer": "ipython3",
   "version": "3.10.6"
  }
 },
 "nbformat": 4,
 "nbformat_minor": 5
}
