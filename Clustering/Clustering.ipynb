{
 "cells": [
  {
   "cell_type": "code",
   "execution_count": 1,
   "id": "adbe0b31",
   "metadata": {},
   "outputs": [],
   "source": [
    "import numpy as np\n",
    "import matplotlib.pyplot as plt\n",
    "from sklearn.cluster import DBSCAN\n",
    "import pandas as pd"
   ]
  },
  {
   "cell_type": "code",
   "execution_count": 2,
   "id": "a060da3c",
   "metadata": {},
   "outputs": [
    {
     "data": {
      "text/html": [
       "<div>\n",
       "<style scoped>\n",
       "    .dataframe tbody tr th:only-of-type {\n",
       "        vertical-align: middle;\n",
       "    }\n",
       "\n",
       "    .dataframe tbody tr th {\n",
       "        vertical-align: top;\n",
       "    }\n",
       "\n",
       "    .dataframe thead th {\n",
       "        text-align: right;\n",
       "    }\n",
       "</style>\n",
       "<table border=\"1\" class=\"dataframe\">\n",
       "  <thead>\n",
       "    <tr style=\"text-align: right;\">\n",
       "      <th></th>\n",
       "      <th>Join_Count</th>\n",
       "      <th>TARGET_FID</th>\n",
       "      <th>OBJECTID</th>\n",
       "      <th>Cod_Uniq_F</th>\n",
       "      <th>Cod_Uniq</th>\n",
       "      <th>Name_Hoze</th>\n",
       "      <th>Cod_Hoze</th>\n",
       "      <th>Name_Mehva</th>\n",
       "      <th>Y</th>\n",
       "      <th>X</th>\n",
       "      <th>...</th>\n",
       "      <th>Mahdode_Ab</th>\n",
       "      <th>Mahdode_Ma</th>\n",
       "      <th>Mahdode_Sh</th>\n",
       "      <th>Onvan_File</th>\n",
       "      <th>Date_1</th>\n",
       "      <th>Seg_name</th>\n",
       "      <th>Long_</th>\n",
       "      <th>Lat</th>\n",
       "      <th>ID</th>\n",
       "      <th>Unique_ID</th>\n",
       "    </tr>\n",
       "    <tr>\n",
       "      <th>OBJECTID_1</th>\n",
       "      <th></th>\n",
       "      <th></th>\n",
       "      <th></th>\n",
       "      <th></th>\n",
       "      <th></th>\n",
       "      <th></th>\n",
       "      <th></th>\n",
       "      <th></th>\n",
       "      <th></th>\n",
       "      <th></th>\n",
       "      <th></th>\n",
       "      <th></th>\n",
       "      <th></th>\n",
       "      <th></th>\n",
       "      <th></th>\n",
       "      <th></th>\n",
       "      <th></th>\n",
       "      <th></th>\n",
       "      <th></th>\n",
       "      <th></th>\n",
       "      <th></th>\n",
       "    </tr>\n",
       "  </thead>\n",
       "  <tbody>\n",
       "    <tr>\n",
       "      <th>1</th>\n",
       "      <td>1</td>\n",
       "      <td>1</td>\n",
       "      <td>168</td>\n",
       "      <td></td>\n",
       "      <td>H3-29R</td>\n",
       "      <td>حوزه نيشابور</td>\n",
       "      <td></td>\n",
       "      <td>نیشابور-سبزوار</td>\n",
       "      <td>1.368700e+06</td>\n",
       "      <td>429537.9005</td>\n",
       "      <td>...</td>\n",
       "      <td>1</td>\n",
       "      <td>0</td>\n",
       "      <td>1</td>\n",
       "      <td></td>\n",
       "      <td>1997.06.19</td>\n",
       "      <td>59.0</td>\n",
       "      <td>58.778848</td>\n",
       "      <td>36.237378</td>\n",
       "      <td>42</td>\n",
       "      <td>59-42</td>\n",
       "    </tr>\n",
       "    <tr>\n",
       "      <th>2</th>\n",
       "      <td>1</td>\n",
       "      <td>2</td>\n",
       "      <td>171</td>\n",
       "      <td></td>\n",
       "      <td>H3-43R</td>\n",
       "      <td>حوزه نيشابور</td>\n",
       "      <td></td>\n",
       "      <td>نیشابور-سبزوار</td>\n",
       "      <td>1.366845e+06</td>\n",
       "      <td>426071.3530</td>\n",
       "      <td>...</td>\n",
       "      <td>1</td>\n",
       "      <td>0</td>\n",
       "      <td>1</td>\n",
       "      <td></td>\n",
       "      <td>1997.06.28</td>\n",
       "      <td>58.0</td>\n",
       "      <td>58.739444</td>\n",
       "      <td>36.221944</td>\n",
       "      <td>42</td>\n",
       "      <td>58-42</td>\n",
       "    </tr>\n",
       "    <tr>\n",
       "      <th>3</th>\n",
       "      <td>1</td>\n",
       "      <td>3</td>\n",
       "      <td>179</td>\n",
       "      <td></td>\n",
       "      <td>H3-29R</td>\n",
       "      <td>حوزه نيشابور</td>\n",
       "      <td></td>\n",
       "      <td>نیشابور-سبزوار</td>\n",
       "      <td>1.368701e+06</td>\n",
       "      <td>429562.8506</td>\n",
       "      <td>...</td>\n",
       "      <td>1</td>\n",
       "      <td>0</td>\n",
       "      <td>1</td>\n",
       "      <td></td>\n",
       "      <td>1997.08.13</td>\n",
       "      <td>59.0</td>\n",
       "      <td>58.779169</td>\n",
       "      <td>36.237341</td>\n",
       "      <td>44</td>\n",
       "      <td>59-44</td>\n",
       "    </tr>\n",
       "    <tr>\n",
       "      <th>4</th>\n",
       "      <td>1</td>\n",
       "      <td>4</td>\n",
       "      <td>183</td>\n",
       "      <td></td>\n",
       "      <td>H3-36R</td>\n",
       "      <td>حوزه نيشابور</td>\n",
       "      <td></td>\n",
       "      <td>نیشابور-سبزوار</td>\n",
       "      <td>1.367938e+06</td>\n",
       "      <td>427722.2649</td>\n",
       "      <td>...</td>\n",
       "      <td>1</td>\n",
       "      <td>0</td>\n",
       "      <td>1</td>\n",
       "      <td></td>\n",
       "      <td>1997.07.15</td>\n",
       "      <td>59.0</td>\n",
       "      <td>58.758239</td>\n",
       "      <td>36.231234</td>\n",
       "      <td>20</td>\n",
       "      <td>59-20</td>\n",
       "    </tr>\n",
       "    <tr>\n",
       "      <th>5</th>\n",
       "      <td>1</td>\n",
       "      <td>5</td>\n",
       "      <td>186</td>\n",
       "      <td></td>\n",
       "      <td>H3-32R</td>\n",
       "      <td>حوزه نيشابور</td>\n",
       "      <td></td>\n",
       "      <td>نیشابور-سبزوار</td>\n",
       "      <td>1.368537e+06</td>\n",
       "      <td>428670.2353</td>\n",
       "      <td>...</td>\n",
       "      <td>1</td>\n",
       "      <td>0</td>\n",
       "      <td>1</td>\n",
       "      <td></td>\n",
       "      <td>1997.07.14</td>\n",
       "      <td>59.0</td>\n",
       "      <td>58.769115</td>\n",
       "      <td>36.236176</td>\n",
       "      <td>30</td>\n",
       "      <td>59-30</td>\n",
       "    </tr>\n",
       "  </tbody>\n",
       "</table>\n",
       "<p>5 rows × 120 columns</p>\n",
       "</div>"
      ],
      "text/plain": [
       "            Join_Count  TARGET_FID  OBJECTID Cod_Uniq_F Cod_Uniq  \\\n",
       "OBJECTID_1                                                         \n",
       "1                    1           1       168              H3-29R   \n",
       "2                    1           2       171              H3-43R   \n",
       "3                    1           3       179              H3-29R   \n",
       "4                    1           4       183              H3-36R   \n",
       "5                    1           5       186              H3-32R   \n",
       "\n",
       "               Name_Hoze Cod_Hoze      Name_Mehva             Y            X  \\\n",
       "OBJECTID_1                                                                     \n",
       "1           حوزه نيشابور           نیشابور-سبزوار  1.368700e+06  429537.9005   \n",
       "2           حوزه نيشابور           نیشابور-سبزوار  1.366845e+06  426071.3530   \n",
       "3           حوزه نيشابور           نیشابور-سبزوار  1.368701e+06  429562.8506   \n",
       "4           حوزه نيشابور           نیشابور-سبزوار  1.367938e+06  427722.2649   \n",
       "5           حوزه نيشابور           نیشابور-سبزوار  1.368537e+06  428670.2353   \n",
       "\n",
       "            ... Mahdode_Ab  Mahdode_Ma  Mahdode_Sh Onvan_File      Date_1  \\\n",
       "OBJECTID_1  ...                                                             \n",
       "1           ...          1           0           1             1997.06.19   \n",
       "2           ...          1           0           1             1997.06.28   \n",
       "3           ...          1           0           1             1997.08.13   \n",
       "4           ...          1           0           1             1997.07.15   \n",
       "5           ...          1           0           1             1997.07.14   \n",
       "\n",
       "           Seg_name      Long_        Lat  ID Unique_ID  \n",
       "OBJECTID_1                                               \n",
       "1              59.0  58.778848  36.237378  42     59-42  \n",
       "2              58.0  58.739444  36.221944  42     58-42  \n",
       "3              59.0  58.779169  36.237341  44     59-44  \n",
       "4              59.0  58.758239  36.231234  20     59-20  \n",
       "5              59.0  58.769115  36.236176  30     59-30  \n",
       "\n",
       "[5 rows x 120 columns]"
      ]
     },
     "execution_count": 2,
     "metadata": {},
     "output_type": "execute_result"
    }
   ],
   "source": [
    "data = pd.read_excel(\"Raw_data.xls\",index_col=0)\n",
    "data.head()"
   ]
  },
  {
   "cell_type": "code",
   "execution_count": 3,
   "id": "46b8331e",
   "metadata": {},
   "outputs": [],
   "source": [
    "data.drop(columns=data.columns[0:115],inplace=True)"
   ]
  },
  {
   "cell_type": "code",
   "execution_count": 47,
   "id": "ee51d73e",
   "metadata": {},
   "outputs": [
    {
     "data": {
      "text/plain": [
       "1000    1000\n",
       "dtype: int64"
      ]
     },
     "execution_count": 47,
     "metadata": {},
     "output_type": "execute_result"
    }
   ],
   "source": [
    "data_lables = pd.Series([1000], index=[1000])\n",
    "data_lables"
   ]
  },
  {
   "cell_type": "code",
   "execution_count": 48,
   "id": "26c63419",
   "metadata": {},
   "outputs": [],
   "source": [
    "for i in range(60):\n",
    "    df = data.loc[data[\"Seg_name\"] == i]\n",
    "    if len(df)>2:    \n",
    "        clusterer = DBSCAN(eps=0.0025, min_samples=3)\n",
    "        clusterer.fit(df[['Long_', 'Lat']])\n",
    "        lbls = pd.Series(clusterer.labels_, index=df.index)\n",
    "        data_lables = data_lables.append(lbls)"
   ]
  },
  {
   "cell_type": "code",
   "execution_count": 58,
   "id": "70640414",
   "metadata": {},
   "outputs": [
    {
     "name": "stdout",
     "output_type": "stream",
     "text": [
      "Number of clusters: 10\n"
     ]
    },
    {
     "name": "stderr",
     "output_type": "stream",
     "text": [
      "C:\\Users\\SSP\\AppData\\Local\\Temp/ipykernel_12404/2080250932.py:2: UserWarning: Boolean Series key will be reindexed to match DataFrame index.\n",
      "  clusters = pd.Series([df[['Long_', 'Lat']][data_lables == n] for n in range(num_clusters)])\n"
     ]
    }
   ],
   "source": [
    "num_clusters = len(set(data_lables))\n",
    "clusters = pd.Series([df[['Long_', 'Lat']][data_lables == n] for n in range(num_clusters)])\n",
    "print('Number of clusters: {}'.format(num_clusters))"
   ]
  },
  {
   "cell_type": "code",
   "execution_count": 59,
   "id": "283d7af7",
   "metadata": {},
   "outputs": [
    {
     "data": {
      "text/plain": [
       "1000    1000\n",
       "17         0\n",
       "363        0\n",
       "370        0\n",
       "482        1\n",
       "        ... \n",
       "785        3\n",
       "791        3\n",
       "867        3\n",
       "878        3\n",
       "879        1\n",
       "Length: 858, dtype: int64"
      ]
     },
     "execution_count": 59,
     "metadata": {},
     "output_type": "execute_result"
    }
   ],
   "source": [
    "data_lables"
   ]
  },
  {
   "cell_type": "code",
   "execution_count": null,
   "id": "c97e75ef",
   "metadata": {},
   "outputs": [],
   "source": []
  },
  {
   "cell_type": "code",
   "execution_count": 49,
   "id": "3d504d73",
   "metadata": {},
   "outputs": [
    {
     "data": {
      "text/plain": [
       " 0       299\n",
       "-1       194\n",
       " 1       139\n",
       " 2        91\n",
       " 3        72\n",
       " 5        25\n",
       " 4        16\n",
       " 6        14\n",
       " 7         7\n",
       " 1000      1\n",
       "dtype: int64"
      ]
     },
     "execution_count": 49,
     "metadata": {},
     "output_type": "execute_result"
    }
   ],
   "source": [
    "data_lables.value_counts()"
   ]
  },
  {
   "cell_type": "code",
   "execution_count": 50,
   "id": "a48f5810",
   "metadata": {},
   "outputs": [
    {
     "data": {
      "text/plain": [
       "array([ 0,  1,  2,  3,  4,  5,  6,  8, 10, 11, 12, 13, 14, 15, 16, 17, 18,\n",
       "       19, 21, 22, 23, 25, 26, 27, 28, 29, 31, 32, 33, 34, 35, 36, 37, 38,\n",
       "       39, 40, 41, 42, 43, 44, 45, 46, 47, 48], dtype=int64)"
      ]
     },
     "execution_count": 50,
     "metadata": {},
     "output_type": "execute_result"
    }
   ],
   "source": [
    "clusterer.core_sample_indices_"
   ]
  },
  {
   "cell_type": "code",
   "execution_count": 57,
   "id": "88bfb326",
   "metadata": {},
   "outputs": [
    {
     "data": {
      "text/plain": [
       "array([ 0,  0,  1,  2,  0,  0,  0, -1,  0, -1,  2,  0,  0,  2,  3,  1,  1,\n",
       "        1,  0,  3, -1,  2,  3,  1,  2,  0,  0,  3,  3,  3,  1,  2,  0,  0,\n",
       "        3,  3,  0,  2,  2,  0,  0,  1,  3,  2,  3,  3,  3,  3,  1],\n",
       "      dtype=int64)"
      ]
     },
     "execution_count": 57,
     "metadata": {},
     "output_type": "execute_result"
    }
   ],
   "source": [
    "clusterer.labels_"
   ]
  },
  {
   "cell_type": "code",
   "execution_count": 34,
   "id": "753b2681",
   "metadata": {},
   "outputs": [
    {
     "data": {
      "text/plain": [
       "2"
      ]
     },
     "execution_count": 34,
     "metadata": {},
     "output_type": "execute_result"
    }
   ],
   "source": [
    "clusterer.n_features_in_"
   ]
  },
  {
   "cell_type": "code",
   "execution_count": 42,
   "id": "359161e9",
   "metadata": {},
   "outputs": [],
   "source": [
    "#clusterer.get_params(deep=True)"
   ]
  },
  {
   "cell_type": "code",
   "execution_count": 41,
   "id": "6d8ebfab",
   "metadata": {},
   "outputs": [],
   "source": [
    "#clusterer.feature_names_in_"
   ]
  },
  {
   "cell_type": "code",
   "execution_count": 289,
   "id": "bef7f8ca",
   "metadata": {},
   "outputs": [],
   "source": [
    "data_lables.to_excel(\"v1.xlsx\")"
   ]
  },
  {
   "cell_type": "code",
   "execution_count": 37,
   "id": "06b035fd",
   "metadata": {},
   "outputs": [
    {
     "data": {
      "text/plain": [
       "1000    1000\n",
       "dtype: int64"
      ]
     },
     "execution_count": 37,
     "metadata": {},
     "output_type": "execute_result"
    }
   ],
   "source": [
    "data_lables = pd.Series([1000], index=[1000])\n",
    "data_lables"
   ]
  },
  {
   "cell_type": "code",
   "execution_count": 38,
   "id": "41d81803",
   "metadata": {},
   "outputs": [],
   "source": [
    "kms_per_radian = 6371.0088\n",
    "epsilon = 0.25 / kms_per_radian\n",
    "\n",
    "for i in range(60):\n",
    "    df = data.loc[data[\"Seg_name\"] == i]\n",
    "    if len(df)>2:\n",
    "        clusterer = DBSCAN(eps=epsilon, min_samples=3, algorithm='ball_tree', metric='haversine').fit(np.radians(df[['Long_', 'Lat']]))\n",
    "        lbls = pd.Series(clusterer.labels_, index=df.index)\n",
    "        data_lables = data_lables.append(lbls)"
   ]
  },
  {
   "cell_type": "code",
   "execution_count": 39,
   "id": "caa9eb92",
   "metadata": {},
   "outputs": [
    {
     "data": {
      "text/plain": [
       " 0       289\n",
       "-1       210\n",
       " 1       136\n",
       " 2        88\n",
       " 3        69\n",
       " 4        22\n",
       " 5        22\n",
       " 6        14\n",
       " 7         7\n",
       " 1000      1\n",
       "dtype: int64"
      ]
     },
     "execution_count": 39,
     "metadata": {},
     "output_type": "execute_result"
    }
   ],
   "source": [
    "data_lables.value_counts()"
   ]
  },
  {
   "cell_type": "code",
   "execution_count": 45,
   "id": "34ee5fbc",
   "metadata": {},
   "outputs": [
    {
     "data": {
      "text/plain": [
       "array([[1.02588443, 0.63246156],\n",
       "       [1.02589004, 0.63246092],\n",
       "       [1.02552473, 0.63235433],\n",
       "       [1.02571456, 0.63244058],\n",
       "       [1.02588443, 0.63246156],\n",
       "       [1.02589437, 0.63246072],\n",
       "       [1.02589971, 0.63245988],\n",
       "       [1.02589004, 0.63246092],\n",
       "       [1.02567623, 0.63242603],\n",
       "       [1.02587536, 0.632462  ],\n",
       "       [1.02587536, 0.632462  ],\n",
       "       [1.02567623, 0.63242603],\n",
       "       [1.02525548, 0.6322204 ],\n",
       "       [1.02555137, 0.63236596],\n",
       "       [1.02553424, 0.63235853],\n",
       "       [1.02554808, 0.63236441],\n",
       "       [1.02580157, 0.63245862],\n",
       "       [1.0253169 , 0.63224507],\n",
       "       [1.02573049, 0.63244362],\n",
       "       [1.02533527, 0.63225315],\n",
       "       [1.02550104, 0.6323416 ],\n",
       "       [1.02582937, 0.63246073],\n",
       "       [1.02528322, 0.63223186],\n",
       "       [1.02528322, 0.63223186],\n",
       "       [1.02527708, 0.63222963],\n",
       "       [1.02573049, 0.63244362],\n",
       "       [1.02584347, 0.63246169],\n",
       "       [1.02581583, 0.63245976],\n",
       "       [1.02529562, 0.63223676],\n",
       "       [1.02531791, 0.63224552],\n",
       "       [1.02585076, 0.63246197],\n",
       "       [1.02563789, 0.63241036],\n",
       "       [1.02568926, 0.6324319 ],\n",
       "       [1.02590938, 0.63245884],\n",
       "       [1.02583211, 0.63246071],\n",
       "       [1.02552168, 0.63235258],\n",
       "       [1.02527708, 0.63222963],\n",
       "       [1.02574581, 0.63244749],\n",
       "       [1.02525623, 0.6322206 ],\n",
       "       [1.02527211, 0.63222745],\n",
       "       [1.02528211, 0.63223171],\n",
       "       [1.02525957, 0.63222197]])"
      ]
     },
     "execution_count": 45,
     "metadata": {},
     "output_type": "execute_result"
    }
   ],
   "source": [
    "clusterer.components_"
   ]
  },
  {
   "cell_type": "code",
   "execution_count": 40,
   "id": "843d1ca9",
   "metadata": {},
   "outputs": [],
   "source": [
    "data_lables.to_excel(\"v2.xlsx\")"
   ]
  },
  {
   "cell_type": "code",
   "execution_count": 5,
   "id": "6be481d8",
   "metadata": {},
   "outputs": [],
   "source": [
    "import pysal\n",
    "import contextily\n",
    "import geopandas\n",
    "import seaborn as sns"
   ]
  },
  {
   "cell_type": "code",
   "execution_count": 16,
   "id": "dde5597c",
   "metadata": {},
   "outputs": [],
   "source": [
    "geo_data = geopandas.read_file(\"shp_layer/Accidents_96_97_98.shp\")"
   ]
  },
  {
   "cell_type": "code",
   "execution_count": 33,
   "id": "282a42cb",
   "metadata": {},
   "outputs": [
    {
     "data": {
      "text/plain": [
       "<Projected CRS: EPSG:32640>\n",
       "Name: WGS 84 / UTM zone 40N\n",
       "Axis Info [cartesian]:\n",
       "- E[east]: Easting (metre)\n",
       "- N[north]: Northing (metre)\n",
       "Area of Use:\n",
       "- name: Between 54°E and 60°E, northern hemisphere between equator and 84°N, onshore and offshore. Islamic Republic of Iran. kazakhstan. Oman. Russian Federation. Saudi Arabia. Turkmenistan. United Arab Emirates. Uzbekistan.\n",
       "- bounds: (54.0, 0.0, 60.0, 84.0)\n",
       "Coordinate Operation:\n",
       "- name: UTM zone 40N\n",
       "- method: Transverse Mercator\n",
       "Datum: World Geodetic System 1984 ensemble\n",
       "- Ellipsoid: WGS 84\n",
       "- Prime Meridian: Greenwich"
      ]
     },
     "execution_count": 33,
     "metadata": {},
     "output_type": "execute_result"
    }
   ],
   "source": [
    "geo_data.crs"
   ]
  },
  {
   "cell_type": "code",
   "execution_count": 32,
   "id": "01121c65",
   "metadata": {},
   "outputs": [
    {
     "data": {
      "image/png": "[encoded data removed]",
      "text/plain": [
       "<Figure size 432x432 with 3 Axes>"
      ]
     },
     "metadata": {
      "needs_background": "light"
     },
     "output_type": "display_data"
    }
   ],
   "source": [
    "sns.jointplot(x='Long_', y='Lat', data=data, s=0.5);\n",
    "#contextily.add_basemap(joint_axes.ax_joint,crs=geo_data.crs.to_string(),source=contextily.providers.CartoDB.PositronNoLabels)"
   ]
  },
  {
   "cell_type": "code",
   "execution_count": 64,
   "id": "59210e5c",
   "metadata": {},
   "outputs": [
    {
     "name": "stderr",
     "output_type": "stream",
     "text": [
      "C:\\Users\\SSP\\miniconda3\\envs\\python-gis\\lib\\site-packages\\contextily\\tile.py:632: UserWarning: The inferred zoom level of 28 is not valid for the current tile provider (valid zooms: 0 - 18).\n",
      "  warnings.warn(msg)\n"
     ]
    },
    {
     "data": {
      "image/png": "[encoded data removed]",
      "text/plain": [
       "<Figure size 1440x1440 with 1 Axes>"
      ]
     },
     "metadata": {
      "needs_background": "light"
     },
     "output_type": "display_data"
    }
   ],
   "source": [
    "# Run DBSCAN\n",
    "clusterer = DBSCAN(eps=500, min_samples=3)\n",
    "clusterer.fit(data[['Long_', 'Lat']])\n",
    "# Turn labels into a Series\n",
    "lbls = pd.Series(clusterer.labels_, index=data.index)\n",
    "# Setup figure and axis\n",
    "f, ax = plt.subplots(1, figsize=(20, 20))\n",
    "# Subset points that are not part of any cluster (noise)\n",
    "noise = data.loc[lbls==-1, ['Long_', 'Lat']]\n",
    "# Plot noise in grey\n",
    "ax.scatter(noise['Long_'], noise['Lat'], c='grey', s=5, linewidth=0)\n",
    "# Plot all points that are not noise in red\n",
    "# NOTE how this is done through some fancy indexing, where\n",
    "#      we take the index of all points (db) and substract from\n",
    "#      it the index of those that are noise\n",
    "ax.scatter(\n",
    "    data.loc[data.index.difference(noise.index), 'Long_'],\n",
    "    data.loc[data.index.difference(noise.index), 'Lat'],\n",
    "    c='red', \n",
    "    linewidth=0\n",
    ")\n",
    "# Add basemap\n",
    "contextily.add_basemap(\n",
    "    ax, \n",
    "    #source=contextily.providers.CartoDB.Positron\n",
    ")\n",
    "# Remove axes\n",
    "ax.set_axis_off()\n",
    "# Display the figure\n",
    "plt.show()"
   ]
  },
  {
   "cell_type": "code",
   "execution_count": 63,
   "id": "bcc0f7c1",
   "metadata": {},
   "outputs": [
    {
     "data": {
      "text/plain": [
       "0    880\n",
       "dtype: int64"
      ]
     },
     "execution_count": 63,
     "metadata": {},
     "output_type": "execute_result"
    }
   ],
   "source": [
    "lbls.value_counts()"
   ]
  },
  {
   "cell_type": "code",
   "execution_count": null,
   "id": "99f07e9b",
   "metadata": {},
   "outputs": [],
   "source": []
  },
  {
   "cell_type": "code",
   "execution_count": null,
   "id": "6467b644",
   "metadata": {},
   "outputs": [],
   "source": [
    "data = np.array([[-37.530, 3.109, -16.452],\n",
    "                [40.247, 5.483, -15.209],\n",
    "                [-31.920, 12.584, -12.916],\n",
    "                [-32.760, 14.072, -13.749],\n",
    "                [-37.100, 1.953, -15.720],\n",
    "                [-32.143, 12.990, -13.488],\n",
    "                [-41.077, 4.651, -15.651], \n",
    "                [-34.219, 13.611, -13.090],\n",
    "                [-33.117, 15.875, -13.738]])\n",
    "\n",
    "fig = plt.figure()\n",
    "ax = Axes3D(fig)\n",
    "ax.scatter(data[:,0], data[:,1], data[:,2], s=300)\n",
    "ax.view_init(azim=200)\n",
    "plt.show()\n",
    "\n",
    "model = DBSCAN(eps=2.5, min_samples=2)\n",
    "model.fit_predict(data)\n",
    "pred = model.fit_predict(data)\n",
    "\n",
    "fig = plt.figure()\n",
    "ax = Axes3D(fig)\n",
    "ax.scatter(data[:,0], data[:,1], data[:,2], c=model.labels_, s=300)\n",
    "ax.view_init(azim=200)\n",
    "plt.show()\n",
    "\n",
    "print(\"number of cluster found: {}\".format(len(set(model.labels_))))\n",
    "print('cluster for each point: ', model.labels_)"
   ]
  },
  {
   "cell_type": "code",
   "execution_count": null,
   "id": "f320f2ec",
   "metadata": {},
   "outputs": [],
   "source": []
  },
  {
   "cell_type": "code",
   "execution_count": null,
   "id": "38b5423f",
   "metadata": {},
   "outputs": [],
   "source": []
  },
  {
   "cell_type": "code",
   "execution_count": null,
   "id": "ee09dbbe",
   "metadata": {},
   "outputs": [],
   "source": []
  },
  {
   "cell_type": "code",
   "execution_count": null,
   "id": "82cad080",
   "metadata": {},
   "outputs": [],
   "source": []
  },
  {
   "cell_type": "code",
   "execution_count": null,
   "id": "c99a3f99",
   "metadata": {},
   "outputs": [],
   "source": []
  }
 ],
 "metadata": {
  "kernelspec": {
   "display_name": "Python 3.9.5 ('base')",
   "language": "python",
   "name": "python3"
  },
  "language_info": {
   "codemirror_mode": {
    "name": "ipython",
    "version": 3
   },
   "file_extension": ".py",
   "mimetype": "text/x-python",
   "name": "python",
   "nbconvert_exporter": "python",
   "pygments_lexer": "ipython3",
   "version": "3.9.5"
  },
  "vscode": {
   "interpreter": {
    "hash": "5381e7af6fd84f1fcf06b0d22b61d71d57880fbb7c22c062b13119e4267276e5"
   }
  }
 },
 "nbformat": 4,
 "nbformat_minor": 5
}
