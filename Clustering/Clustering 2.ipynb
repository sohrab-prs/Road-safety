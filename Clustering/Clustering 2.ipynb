{
 "cells": [
  {
   "cell_type": "code",
   "execution_count": 1,
   "id": "d70feaf6",
   "metadata": {},
   "outputs": [],
   "source": [
    "import pandas as pd\n",
    "import geopandas as gdp"
   ]
  },
  {
   "cell_type": "code",
   "execution_count": 2,
   "id": "18496207",
   "metadata": {},
   "outputs": [],
   "source": [
    "data = pd.read_excel(\"Segment_Cluster_ID.xls\")\n",
    "data.head()"
   ]
  },
  {
   "cell_type": "code",
   "execution_count": 4,
   "id": "9369bb98",
   "metadata": {},
   "outputs": [],
   "source": [
    "data = data.drop(columns=data.columns[1:116])\n",
    "data.head()"
   ]
  },
  {
   "cell_type": "code",
   "execution_count": 11,
   "id": "578ed174",
   "metadata": {},
   "outputs": [
    {
     "data": {
      "text/plain": [
       "0      True\n",
       "1      True\n",
       "2      True\n",
       "3      True\n",
       "4      True\n",
       "       ... \n",
       "875    True\n",
       "876    True\n",
       "877    True\n",
       "878    True\n",
       "879    True\n",
       "Name: Long_, Length: 880, dtype: bool"
      ]
     },
     "execution_count": 11,
     "metadata": {},
     "output_type": "execute_result"
    }
   ],
   "source": [
    "data[\"Long_\"] == data.Long_"
   ]
  },
  {
   "cell_type": "code",
   "execution_count": 15,
   "id": "904ed51b",
   "metadata": {},
   "outputs": [
    {
     "data": {
      "text/html": [
       "<div>\n",
       "<style scoped>\n",
       "    .dataframe tbody tr th:only-of-type {\n",
       "        vertical-align: middle;\n",
       "    }\n",
       "\n",
       "    .dataframe tbody tr th {\n",
       "        vertical-align: top;\n",
       "    }\n",
       "\n",
       "    .dataframe thead th {\n",
       "        text-align: right;\n",
       "    }\n",
       "</style>\n",
       "<table border=\"1\" class=\"dataframe\">\n",
       "  <thead>\n",
       "    <tr style=\"text-align: right;\">\n",
       "      <th></th>\n",
       "      <th>OBJECTID_1</th>\n",
       "      <th>Seg_name</th>\n",
       "      <th>Long_</th>\n",
       "      <th>Lat</th>\n",
       "      <th>ID</th>\n",
       "      <th>Unique_ID</th>\n",
       "      <th>Seg_Cluster_id</th>\n",
       "      <th>id_1</th>\n",
       "      <th>V1</th>\n",
       "      <th>geometry</th>\n",
       "    </tr>\n",
       "  </thead>\n",
       "  <tbody>\n",
       "    <tr>\n",
       "      <th>0</th>\n",
       "      <td>1</td>\n",
       "      <td>59.0</td>\n",
       "      <td>58.778848</td>\n",
       "      <td>36.237378</td>\n",
       "      <td>42</td>\n",
       "      <td>59-42</td>\n",
       "      <td>59-0</td>\n",
       "      <td>1.0</td>\n",
       "      <td>0.0</td>\n",
       "      <td>POINT (58.77885 36.23738)</td>\n",
       "    </tr>\n",
       "    <tr>\n",
       "      <th>1</th>\n",
       "      <td>2</td>\n",
       "      <td>58.0</td>\n",
       "      <td>58.739444</td>\n",
       "      <td>36.221944</td>\n",
       "      <td>42</td>\n",
       "      <td>58-42</td>\n",
       "      <td>58-0</td>\n",
       "      <td>2.0</td>\n",
       "      <td>0.0</td>\n",
       "      <td>POINT (58.73944 36.22194)</td>\n",
       "    </tr>\n",
       "    <tr>\n",
       "      <th>2</th>\n",
       "      <td>3</td>\n",
       "      <td>59.0</td>\n",
       "      <td>58.779169</td>\n",
       "      <td>36.237341</td>\n",
       "      <td>44</td>\n",
       "      <td>59-44</td>\n",
       "      <td>59-0</td>\n",
       "      <td>3.0</td>\n",
       "      <td>0.0</td>\n",
       "      <td>POINT (58.77917 36.23734)</td>\n",
       "    </tr>\n",
       "    <tr>\n",
       "      <th>3</th>\n",
       "      <td>4</td>\n",
       "      <td>59.0</td>\n",
       "      <td>58.758239</td>\n",
       "      <td>36.231234</td>\n",
       "      <td>20</td>\n",
       "      <td>59-20</td>\n",
       "      <td>59-1</td>\n",
       "      <td>4.0</td>\n",
       "      <td>1.0</td>\n",
       "      <td>POINT (58.75824 36.23123)</td>\n",
       "    </tr>\n",
       "    <tr>\n",
       "      <th>4</th>\n",
       "      <td>5</td>\n",
       "      <td>59.0</td>\n",
       "      <td>58.769115</td>\n",
       "      <td>36.236176</td>\n",
       "      <td>30</td>\n",
       "      <td>59-30</td>\n",
       "      <td>59-2</td>\n",
       "      <td>5.0</td>\n",
       "      <td>2.0</td>\n",
       "      <td>POINT (58.76912 36.23618)</td>\n",
       "    </tr>\n",
       "  </tbody>\n",
       "</table>\n",
       "</div>"
      ],
      "text/plain": [
       "   OBJECTID_1  Seg_name      Long_        Lat  ID Unique_ID Seg_Cluster_id  \\\n",
       "0           1      59.0  58.778848  36.237378  42     59-42           59-0   \n",
       "1           2      58.0  58.739444  36.221944  42     58-42           58-0   \n",
       "2           3      59.0  58.779169  36.237341  44     59-44           59-0   \n",
       "3           4      59.0  58.758239  36.231234  20     59-20           59-1   \n",
       "4           5      59.0  58.769115  36.236176  30     59-30           59-2   \n",
       "\n",
       "   id_1   V1                   geometry  \n",
       "0   1.0  0.0  POINT (58.77885 36.23738)  \n",
       "1   2.0  0.0  POINT (58.73944 36.22194)  \n",
       "2   3.0  0.0  POINT (58.77917 36.23734)  \n",
       "3   4.0  1.0  POINT (58.75824 36.23123)  \n",
       "4   5.0  2.0  POINT (58.76912 36.23618)  "
      ]
     },
     "execution_count": 15,
     "metadata": {},
     "output_type": "execute_result"
    }
   ],
   "source": [
    "geodata = gdp.GeoDataFrame(data, geometry=gdp.points_from_xy(data.Long_, data.Lat))\n",
    "geodata.head()"
   ]
  },
  {
   "cell_type": "code",
   "execution_count": 124,
   "id": "d7824989",
   "metadata": {},
   "outputs": [],
   "source": [
    "index_list = []\n",
    "max_dist = []\n",
    "for name, group in geodata.groupby([\"Seg_name\", \"V1\"]):\n",
    "    max_dist.append(group[\"geometry\"].apply(lambda point: group[\"geometry\"].distance(point)).max().max() * 100000)\n",
    "    index_list.append(name)\n",
    "    #index_list.append(group[\"geometry\"].apply(lambda point: group[\"geometry\"].distance(point)).max().idxmax())"
   ]
  },
  {
   "cell_type": "code",
   "execution_count": 123,
   "id": "dca0eb15",
   "metadata": {},
   "outputs": [
    {
     "data": {
      "text/plain": [
       "1.0"
      ]
     },
     "execution_count": 123,
     "metadata": {},
     "output_type": "execute_result"
    }
   ],
   "source": [
    "index_list[0][0]"
   ]
  },
  {
   "cell_type": "code",
   "execution_count": 138,
   "id": "a549745b",
   "metadata": {},
   "outputs": [],
   "source": [
    "Final = pd.DataFrame(list(zip(index_list, max_dist)), columns =['Seg_Cluster', 'Max_Dist'])"
   ]
  },
  {
   "cell_type": "code",
   "execution_count": 139,
   "id": "ba080a8d",
   "metadata": {},
   "outputs": [
    {
     "data": {
      "text/html": [
       "<div>\n",
       "<style scoped>\n",
       "    .dataframe tbody tr th:only-of-type {\n",
       "        vertical-align: middle;\n",
       "    }\n",
       "\n",
       "    .dataframe tbody tr th {\n",
       "        vertical-align: top;\n",
       "    }\n",
       "\n",
       "    .dataframe thead th {\n",
       "        text-align: right;\n",
       "    }\n",
       "</style>\n",
       "<table border=\"1\" class=\"dataframe\">\n",
       "  <thead>\n",
       "    <tr style=\"text-align: right;\">\n",
       "      <th></th>\n",
       "      <th>Seg_Cluster</th>\n",
       "      <th>Max_Dist</th>\n",
       "      <th>Seg_id</th>\n",
       "      <th>Cluster_id</th>\n",
       "    </tr>\n",
       "  </thead>\n",
       "  <tbody>\n",
       "    <tr>\n",
       "      <th>0</th>\n",
       "      <td>(1.0, -1.0)</td>\n",
       "      <td>2068.244346</td>\n",
       "      <td>1.0</td>\n",
       "      <td>-1.0</td>\n",
       "    </tr>\n",
       "    <tr>\n",
       "      <th>1</th>\n",
       "      <td>(1.0, 0.0)</td>\n",
       "      <td>565.669476</td>\n",
       "      <td>1.0</td>\n",
       "      <td>0.0</td>\n",
       "    </tr>\n",
       "    <tr>\n",
       "      <th>2</th>\n",
       "      <td>(1.0, 1.0)</td>\n",
       "      <td>166.641138</td>\n",
       "      <td>1.0</td>\n",
       "      <td>1.0</td>\n",
       "    </tr>\n",
       "    <tr>\n",
       "      <th>3</th>\n",
       "      <td>(2.0, -1.0)</td>\n",
       "      <td>4012.330357</td>\n",
       "      <td>2.0</td>\n",
       "      <td>-1.0</td>\n",
       "    </tr>\n",
       "    <tr>\n",
       "      <th>4</th>\n",
       "      <td>(2.0, 0.0)</td>\n",
       "      <td>254.168173</td>\n",
       "      <td>2.0</td>\n",
       "      <td>0.0</td>\n",
       "    </tr>\n",
       "  </tbody>\n",
       "</table>\n",
       "</div>"
      ],
      "text/plain": [
       "   Seg_Cluster     Max_Dist  Seg_id  Cluster_id\n",
       "0  (1.0, -1.0)  2068.244346     1.0        -1.0\n",
       "1   (1.0, 0.0)   565.669476     1.0         0.0\n",
       "2   (1.0, 1.0)   166.641138     1.0         1.0\n",
       "3  (2.0, -1.0)  4012.330357     2.0        -1.0\n",
       "4   (2.0, 0.0)   254.168173     2.0         0.0"
      ]
     },
     "execution_count": 139,
     "metadata": {},
     "output_type": "execute_result"
    }
   ],
   "source": [
    "Final[\"Seg_id\"] = Final[\"Seg_Cluster\"].apply(lambda x: x[0])\n",
    "Final[\"Cluster_id\"] = Final[\"Seg_Cluster\"].apply(lambda x: x[1])\n",
    "Final.head()"
   ]
  },
  {
   "cell_type": "code",
   "execution_count": 140,
   "id": "be45d0e3",
   "metadata": {},
   "outputs": [],
   "source": [
    "Final.to_excel(\"Final.xlsx\")"
   ]
  },
  {
   "cell_type": "code",
   "execution_count": null,
   "id": "7cb7f43d",
   "metadata": {},
   "outputs": [],
   "source": []
  }
 ],
 "metadata": {
  "kernelspec": {
   "display_name": "Python 3.9.5 ('base')",
   "language": "python",
   "name": "python3"
  },
  "language_info": {
   "codemirror_mode": {
    "name": "ipython",
    "version": 3
   },
   "file_extension": ".py",
   "mimetype": "text/x-python",
   "name": "python",
   "nbconvert_exporter": "python",
   "pygments_lexer": "ipython3",
   "version": "3.9.5"
  },
  "vscode": {
   "interpreter": {
    "hash": "5381e7af6fd84f1fcf06b0d22b61d71d57880fbb7c22c062b13119e4267276e5"
   }
  }
 },
 "nbformat": 4,
 "nbformat_minor": 5
}
