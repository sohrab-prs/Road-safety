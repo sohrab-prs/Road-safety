{
 "cells": [
  {
   "cell_type": "code",
   "execution_count": 2,
   "id": "1f9a4a0f",
   "metadata": {},
   "outputs": [],
   "source": [
    "import pandas as pd\n",
    "from patsy import dmatrices\n",
    "import numpy as np\n",
    "import statsmodels.api as sm\n",
    "import matplotlib.pyplot as plt"
   ]
  },
  {
   "cell_type": "code",
   "execution_count": 3,
   "id": "f112bbf9",
   "metadata": {},
   "outputs": [
    {
     "data": {
      "text/html": [
       "<div>\n",
       "<style scoped>\n",
       "    .dataframe tbody tr th:only-of-type {\n",
       "        vertical-align: middle;\n",
       "    }\n",
       "\n",
       "    .dataframe tbody tr th {\n",
       "        vertical-align: top;\n",
       "    }\n",
       "\n",
       "    .dataframe thead th {\n",
       "        text-align: right;\n",
       "    }\n",
       "</style>\n",
       "<table border=\"1\" class=\"dataframe\">\n",
       "  <thead>\n",
       "    <tr style=\"text-align: right;\">\n",
       "      <th></th>\n",
       "      <th>seg</th>\n",
       "      <th>Y</th>\n",
       "      <th>X1</th>\n",
       "      <th>X2</th>\n",
       "      <th>X3</th>\n",
       "    </tr>\n",
       "  </thead>\n",
       "  <tbody>\n",
       "    <tr>\n",
       "      <th>0</th>\n",
       "      <td>59</td>\n",
       "      <td>49</td>\n",
       "      <td>4.344300</td>\n",
       "      <td>8076.666667</td>\n",
       "      <td>0.920747</td>\n",
       "    </tr>\n",
       "    <tr>\n",
       "      <th>1</th>\n",
       "      <td>58</td>\n",
       "      <td>44</td>\n",
       "      <td>9.025771</td>\n",
       "      <td>8076.666667</td>\n",
       "      <td>0.997145</td>\n",
       "    </tr>\n",
       "    <tr>\n",
       "      <th>2</th>\n",
       "      <td>57</td>\n",
       "      <td>35</td>\n",
       "      <td>9.401453</td>\n",
       "      <td>8076.666667</td>\n",
       "      <td>0.744566</td>\n",
       "    </tr>\n",
       "    <tr>\n",
       "      <th>3</th>\n",
       "      <td>56</td>\n",
       "      <td>1</td>\n",
       "      <td>0.685524</td>\n",
       "      <td>8076.666667</td>\n",
       "      <td>0.000000</td>\n",
       "    </tr>\n",
       "    <tr>\n",
       "      <th>4</th>\n",
       "      <td>55</td>\n",
       "      <td>5</td>\n",
       "      <td>1.494137</td>\n",
       "      <td>8076.666667</td>\n",
       "      <td>0.669283</td>\n",
       "    </tr>\n",
       "  </tbody>\n",
       "</table>\n",
       "</div>"
      ],
      "text/plain": [
       "   seg   Y        X1           X2        X3\n",
       "0   59  49  4.344300  8076.666667  0.920747\n",
       "1   58  44  9.025771  8076.666667  0.997145\n",
       "2   57  35  9.401453  8076.666667  0.744566\n",
       "3   56   1  0.685524  8076.666667  0.000000\n",
       "4   55   5  1.494137  8076.666667  0.669283"
      ]
     },
     "execution_count": 3,
     "metadata": {},
     "output_type": "execute_result"
    }
   ],
   "source": [
    "data = pd.read_excel(\"../Data/SPF_data.xlsx\")\n",
    "data.head()"
   ]
  },
  {
   "cell_type": "code",
   "execution_count": 5,
   "id": "8f7105ae",
   "metadata": {},
   "outputs": [],
   "source": [
    "#STEP1: fitting the Poisson regression model\n",
    "\n",
    "expr = \"\"\"Y ~ X1  + X2 + X3\"\"\"\n",
    "y, X = dmatrices(expr, data, return_type='dataframe')"
   ]
  },
  {
   "cell_type": "code",
   "execution_count": 6,
   "id": "8952e502",
   "metadata": {},
   "outputs": [
    {
     "name": "stdout",
     "output_type": "stream",
     "text": [
      "                 Generalized Linear Model Regression Results                  \n",
      "==============================================================================\n",
      "Dep. Variable:                      Y   No. Observations:                   59\n",
      "Model:                            GLM   Df Residuals:                       55\n",
      "Model Family:                 Poisson   Df Model:                            3\n",
      "Link Function:                    log   Scale:                          1.0000\n",
      "Method:                          IRLS   Log-Likelihood:                -246.85\n",
      "Date:                Mon, 29 Aug 2022   Deviance:                       256.43\n",
      "Time:                        18:38:54   Pearson chi2:                     273.\n",
      "No. Iterations:                     5                                         \n",
      "Covariance Type:            nonrobust                                         \n",
      "==============================================================================\n",
      "                 coef    std err          z      P>|z|      [0.025      0.975]\n",
      "------------------------------------------------------------------------------\n",
      "Intercept      4.4218      0.779      5.674      0.000       2.895       5.949\n",
      "X1             0.2225      0.013     17.687      0.000       0.198       0.247\n",
      "X2            -0.0004      0.000     -3.472      0.001      -0.001      -0.000\n",
      "X3             0.0313      0.063      0.497      0.619      -0.092       0.154\n",
      "==============================================================================\n"
     ]
    }
   ],
   "source": [
    "poisson_training_results = sm.GLM(y, X, family=sm.families.Poisson()).fit()\n",
    "print(poisson_training_results.summary())"
   ]
  },
  {
   "cell_type": "code",
   "execution_count": 7,
   "id": "0067dd14",
   "metadata": {},
   "outputs": [
    {
     "data": {
      "text/plain": [
       "array([12.71830932, 36.13459729, 38.97643128,  5.47407288,  6.69192303,\n",
       "        8.78535575,  5.48651306,  6.59852074,  8.38989961,  9.98524284,\n",
       "        6.71254683,  7.78458374, 25.94777247,  6.8893098 ,  8.1332193 ,\n",
       "       18.83511683, 12.85633274, 31.68268253, 44.91925185, 11.00146828,\n",
       "       11.63153292, 28.37975061, 28.40002064, 25.15942636,  7.98148665,\n",
       "       10.64464069,  9.21098932,  9.90371576,  6.91506913,  7.85356889,\n",
       "        8.72912333, 10.33046171,  8.45728685,  8.35933126,  9.94157857,\n",
       "        7.43472519,  8.46645925,  8.45384905,  9.19494825,  9.39030579,\n",
       "       14.83139332, 23.07613469, 16.76158833, 38.33599515,  9.01503771,\n",
       "        7.22762013, 29.56115627,  8.35845593, 20.68745882,  8.11414041,\n",
       "        9.55496081, 32.68986756, 11.80435773,  7.39749738, 14.39911253,\n",
       "        9.83078711, 14.71237973, 14.1535599 , 22.64707611])"
      ]
     },
     "execution_count": 7,
     "metadata": {},
     "output_type": "execute_result"
    }
   ],
   "source": [
    "poisson_training_results.mu"
   ]
  },
  {
   "cell_type": "code",
   "execution_count": 8,
   "id": "617b5260",
   "metadata": {},
   "outputs": [],
   "source": [
    "#STEP 2: The determination of α\n",
    "\n",
    "import statsmodels.formula.api as smf"
   ]
  },
  {
   "cell_type": "code",
   "execution_count": 9,
   "id": "81ef52c9",
   "metadata": {},
   "outputs": [],
   "source": [
    "data['Y_LAMBDA'] = poisson_training_results.mu"
   ]
  },
  {
   "cell_type": "code",
   "execution_count": 10,
   "id": "b7567378",
   "metadata": {},
   "outputs": [],
   "source": [
    "data['AUX_OLS_DEP'] = data.apply(lambda x: ((x['Y'] - x['Y_LAMBDA'])**2 - x['Y_LAMBDA']) / x['Y_LAMBDA'], axis=1)"
   ]
  },
  {
   "cell_type": "code",
   "execution_count": 11,
   "id": "db3309d5",
   "metadata": {},
   "outputs": [],
   "source": [
    "ols_expr = \"\"\"AUX_OLS_DEP ~ Y_LAMBDA - 1\"\"\""
   ]
  },
  {
   "cell_type": "code",
   "execution_count": 12,
   "id": "4c836752",
   "metadata": {},
   "outputs": [],
   "source": [
    "aux_olsr_results = smf.ols(ols_expr, data).fit()"
   ]
  },
  {
   "cell_type": "code",
   "execution_count": 13,
   "id": "662337b7",
   "metadata": {},
   "outputs": [
    {
     "name": "stdout",
     "output_type": "stream",
     "text": [
      "Y_LAMBDA    0.135324\n",
      "dtype: float64\n"
     ]
    }
   ],
   "source": [
    "print(aux_olsr_results.params)"
   ]
  },
  {
   "cell_type": "code",
   "execution_count": 14,
   "id": "923dc3aa",
   "metadata": {},
   "outputs": [
    {
     "data": {
      "text/plain": [
       "Y_LAMBDA    1.310507\n",
       "dtype: float64"
      ]
     },
     "execution_count": 14,
     "metadata": {},
     "output_type": "execute_result"
    }
   ],
   "source": [
    "aux_olsr_results.tvalues"
   ]
  },
  {
   "cell_type": "code",
   "execution_count": 15,
   "id": "34200e86",
   "metadata": {},
   "outputs": [
    {
     "name": "stdout",
     "output_type": "stream",
     "text": [
      "Critical t-value at a 99% confidence level (right-tailed), and degrees of freedom=59 is 2.391229\n",
      "which is not comfortably less than the t-statistic of alpha (1.404661)\n",
      "So α=0.133967 is NOT statistically significant\n",
      "Therefore, the Negative Binomial regression model cannot do a better job of fitting the training data set than a Poisson regression model.\n"
     ]
    }
   ],
   "source": [
    "print(\"Critical t-value at a 99% confidence level (right-tailed), and degrees of freedom=59 is 2.391229\")\n",
    "print(\"which is not comfortably less than the t-statistic of alpha (1.404661)\")\n",
    "print(\"So α=0.133967 is NOT statistically significant\")\n",
    "print(\"Therefore, the Negative Binomial regression model cannot do a better job of fitting the training data set than a Poisson regression model.\")"
   ]
  },
  {
   "cell_type": "code",
   "execution_count": 16,
   "id": "0fd71b65",
   "metadata": {},
   "outputs": [],
   "source": [
    "#STEP 3: Train the NB2 on the data using the alpha found in the previous step\n",
    "\n",
    "nb2_training_results = sm.GLM(y, X,family=sm.families.NegativeBinomial(alpha=aux_olsr_results.params[0])).fit()"
   ]
  },
  {
   "cell_type": "code",
   "execution_count": 17,
   "id": "927b1c5a",
   "metadata": {},
   "outputs": [
    {
     "name": "stdout",
     "output_type": "stream",
     "text": [
      "                 Generalized Linear Model Regression Results                  \n",
      "==============================================================================\n",
      "Dep. Variable:                      Y   No. Observations:                   59\n",
      "Model:                            GLM   Df Residuals:                       55\n",
      "Model Family:        NegativeBinomial   Df Model:                            3\n",
      "Link Function:                    log   Scale:                          1.0000\n",
      "Method:                          IRLS   Log-Likelihood:                -202.42\n",
      "Date:                Mon, 29 Aug 2022   Deviance:                       110.89\n",
      "Time:                        18:39:37   Pearson chi2:                     111.\n",
      "No. Iterations:                     8                                         \n",
      "Covariance Type:            nonrobust                                         \n",
      "==============================================================================\n",
      "                 coef    std err          z      P>|z|      [0.025      0.975]\n",
      "------------------------------------------------------------------------------\n",
      "Intercept      4.5497      1.455      3.127      0.002       1.698       7.401\n",
      "X1             0.2401      0.024     10.165      0.000       0.194       0.286\n",
      "X2            -0.0004      0.000     -2.017      0.044      -0.001   -1.08e-05\n",
      "X3             0.0329      0.100      0.329      0.742      -0.163       0.229\n",
      "==============================================================================\n"
     ]
    }
   ],
   "source": [
    "print(nb2_training_results.summary())"
   ]
  },
  {
   "cell_type": "code",
   "execution_count": 18,
   "id": "be16e268",
   "metadata": {},
   "outputs": [],
   "source": [
    "#STEP 4:  Make some predictions\n",
    "\n",
    "nb2_predictions = nb2_training_results.get_prediction(X)"
   ]
  },
  {
   "cell_type": "code",
   "execution_count": 19,
   "id": "261c5f2f",
   "metadata": {},
   "outputs": [
    {
     "name": "stdout",
     "output_type": "stream",
     "text": [
      "         mean   mean_se  mean_ci_lower  mean_ci_upper\n",
      "0   12.614459  1.472207      10.035216      15.856618\n",
      "1   38.909811  6.430906      28.143291      53.795179\n",
      "2   42.230206  6.869784      30.701124      58.088761\n",
      "3    5.084571  0.823894       3.701070       6.985241\n",
      "4    6.311249  0.834267       4.870767       8.177740\n",
      "5    8.464667  1.012186       6.696149      10.700268\n",
      "6    5.097037  0.825114       3.711285       7.000214\n",
      "7    6.216102  0.826536       4.790011       8.066772\n",
      "8    8.053922  0.982413       6.341300      10.229078\n",
      "9    9.719394  1.117032       7.759115      12.174922\n",
      "10   6.335910  0.943007       4.732821       8.481992\n",
      "11   7.431140  0.936317       5.805034       9.512751\n",
      "12  27.232231  3.569843      21.062026      35.210021\n",
      "13   6.516084  0.959795       4.882113       8.696920\n",
      "14   7.791047  0.970281       6.103640       9.944953\n",
      "15  19.272762  2.269638      15.300409      24.276434\n",
      "16  12.767429  1.422423      10.262917      15.883129\n",
      "17  33.776392  4.876160      25.452402      44.822673\n",
      "18  49.164024  7.110815      37.028344      65.277053\n",
      "19  10.771580  0.889663       9.161692      12.664357\n",
      "20  11.439779  0.906520       9.794134      13.361931\n",
      "21  29.949558  3.181621      24.320081      36.882114\n",
      "22  29.980467  3.277306      24.198562      37.143877\n",
      "23  26.290937  2.805949      21.328484      32.407993\n",
      "24   7.621285  0.740370       6.299967       9.219730\n",
      "25  10.389872  1.159821       8.348157      12.930931\n",
      "26   8.887501  1.105942       6.963986      11.342307\n",
      "27   9.602751  1.940416       6.462409      14.269110\n",
      "28   6.534413  1.019418       4.812964       8.871571\n",
      "29   7.475544  1.671664       4.822798      11.587414\n",
      "30   8.383216  1.386808       6.061766      11.593703\n",
      "31  10.062992  0.904782       8.437116      12.002182\n",
      "32   8.114091  0.801321       6.686179       9.846951\n",
      "33   8.005494  0.931687       6.372714      10.056614\n",
      "34   9.658466  0.817947       8.181302      11.402338\n",
      "35   7.055385  0.806902       5.638603       8.828154\n",
      "36   8.123607  0.802582       6.693502       9.859262\n",
      "37   8.110525  0.800849       6.683435       9.842337\n",
      "38   8.876486  0.792697       7.451199      10.574406\n",
      "39   9.085507  0.925637       7.440948      11.093538\n",
      "40  14.876574  1.338514      12.471435      17.745549\n",
      "41  23.963176  2.273126      19.897575      28.859487\n",
      "42  16.966070  1.375805      14.472914      19.888706\n",
      "43  41.440748  5.514350      31.927264      53.789000\n",
      "44   8.698624  1.224001       6.602012      11.461060\n",
      "45   6.853585  1.050004       5.075857       9.253930\n",
      "46  31.317051  4.051968      24.302327      40.356536\n",
      "47   8.004582  0.932088       6.371198      10.056718\n",
      "48  21.297355  1.879937      17.913866      25.319902\n",
      "49   7.758535  0.755644       6.410277       9.390370\n",
      "50   9.253035  0.797757       7.814428      10.956483\n",
      "51  34.895145  4.191647      27.575135      44.158302\n",
      "52  11.634515  1.508453       9.023754      15.000624\n",
      "53   7.025008  0.628399       5.895293       8.371210\n",
      "54  14.418958  1.231181      12.196998      17.045697\n",
      "55   9.535883  1.454805       7.071322      12.859415\n",
      "56  14.754700  1.053346      12.828110      16.970636\n",
      "57  14.150790  0.997948      12.324006      16.248357\n",
      "58  23.500264  2.121421      19.689418      28.048690\n"
     ]
    }
   ],
   "source": [
    "predictions_summary_frame = nb2_predictions.summary_frame()\n",
    "print(predictions_summary_frame)"
   ]
  },
  {
   "cell_type": "code",
   "execution_count": 20,
   "id": "d959fe9e",
   "metadata": {},
   "outputs": [
    {
     "data": {
      "image/png": "[encoded data removed]",
      "text/plain": [
       "<Figure size 432x288 with 1 Axes>"
      ]
     },
     "metadata": {
      "needs_background": "light"
     },
     "output_type": "display_data"
    }
   ],
   "source": [
    "# Plotting Residuals\n",
    "predicted_counts=predictions_summary_frame['mean']\n",
    "actual_counts = y['Y']\n",
    "fig = plt.figure()\n",
    "fig.suptitle('Predicted versus actual accident counts')\n",
    "predicted, = plt.plot(X.index, predicted_counts, 'go-', label='Predicted counts')\n",
    "actual, = plt.plot(X.index, actual_counts, 'ro-', label='Actual counts')\n",
    "plt.legend(handles=[predicted, actual])\n",
    "plt.show()"
   ]
  },
  {
   "cell_type": "code",
   "execution_count": 21,
   "id": "4561c02e",
   "metadata": {},
   "outputs": [
    {
     "name": "stdout",
     "output_type": "stream",
     "text": [
      "LR test value = 87.5\n",
      "χ2(1) = 6.635\n"
     ]
    }
   ],
   "source": [
    "#STEP 5: Measuring the goodness-of-fit of the NB2 model\n",
    "\n",
    "#Log-Likelihood: Likelihood-ratio (LR) test - negative two times the difference in the fitted log-likelihoods of the two models\n",
    "LR = 2*(245.95-202.20)\n",
    "print(\"LR test value =\", LR)\n",
    "print(\"χ2(1) = 6.635\") # critical value of χ2(1) at the 1% significance level"
   ]
  },
  {
   "cell_type": "code",
   "execution_count": 22,
   "id": "5c21282d",
   "metadata": {},
   "outputs": [
    {
     "name": "stdout",
     "output_type": "stream",
     "text": [
      "Deviance and Pearson chi-squared for the NB2 model are greater than the standard Chi-Squared value at p=0.05 and DF=59\n",
      "We might be able to do better!!\n"
     ]
    }
   ],
   "source": [
    "#The Deviance and Pearson chi-squared statistics\n",
    "NB_Deviance = 110.79\n",
    "NB_Pearson_chi2 = 108\n",
    "\n",
    "Chi_Squared_0_05 = 77.931\n",
    "print(\"Deviance and Pearson chi-squared for the NB2 model are greater than the standard Chi-Squared value at p=0.05 and DF=59\")\n",
    "print(\"We might be able to do better!!\")"
   ]
  },
  {
   "cell_type": "code",
   "execution_count": null,
   "id": "5dc21df9",
   "metadata": {},
   "outputs": [],
   "source": []
  }
 ],
 "metadata": {
  "kernelspec": {
   "display_name": "Python 3.8.12 ('python-gis')",
   "language": "python",
   "name": "python3"
  },
  "language_info": {
   "codemirror_mode": {
    "name": "ipython",
    "version": 3
   },
   "file_extension": ".py",
   "mimetype": "text/x-python",
   "name": "python",
   "nbconvert_exporter": "python",
   "pygments_lexer": "ipython3",
   "version": "3.8.12"
  },
  "vscode": {
   "interpreter": {
    "hash": "b4dacf161575ab7b7676af65d73f104ed35865179caca0de6f0e6afc00eff265"
   }
  }
 },
 "nbformat": 4,
 "nbformat_minor": 5
}
