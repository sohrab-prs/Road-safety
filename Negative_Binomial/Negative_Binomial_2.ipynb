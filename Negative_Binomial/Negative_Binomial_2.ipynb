{
 "cells": [
  {
   "cell_type": "code",
   "execution_count": 2,
   "id": "1f9a4a0f",
   "metadata": {},
   "outputs": [],
   "source": [
    "import pandas as pd\n",
    "from patsy import dmatrices\n",
    "import numpy as np\n",
    "import statsmodels.api as sm\n",
    "import matplotlib.pyplot as plt"
   ]
  },
  {
   "cell_type": "code",
   "execution_count": 3,
   "id": "f112bbf9",
   "metadata": {},
   "outputs": [
    {
     "data": {
      "text/html": [
       "<div>\n",
       "<style scoped>\n",
       "    .dataframe tbody tr th:only-of-type {\n",
       "        vertical-align: middle;\n",
       "    }\n",
       "\n",
       "    .dataframe tbody tr th {\n",
       "        vertical-align: top;\n",
       "    }\n",
       "\n",
       "    .dataframe thead th {\n",
       "        text-align: right;\n",
       "    }\n",
       "</style>\n",
       "<table border=\"1\" class=\"dataframe\">\n",
       "  <thead>\n",
       "    <tr style=\"text-align: right;\">\n",
       "      <th></th>\n",
       "      <th>seg</th>\n",
       "      <th>Y</th>\n",
       "      <th>X1</th>\n",
       "      <th>X2</th>\n",
       "      <th>X3</th>\n",
       "      <th>X4</th>\n",
       "      <th>Unnamed: 6</th>\n",
       "    </tr>\n",
       "  </thead>\n",
       "  <tbody>\n",
       "    <tr>\n",
       "      <th>0</th>\n",
       "      <td>59</td>\n",
       "      <td>49</td>\n",
       "      <td>4.344300</td>\n",
       "      <td>8076.666667</td>\n",
       "      <td>0.920747</td>\n",
       "      <td>4</td>\n",
       "      <td>1</td>\n",
       "    </tr>\n",
       "    <tr>\n",
       "      <th>1</th>\n",
       "      <td>58</td>\n",
       "      <td>44</td>\n",
       "      <td>9.025771</td>\n",
       "      <td>8076.666667</td>\n",
       "      <td>0.553969</td>\n",
       "      <td>5</td>\n",
       "      <td>2</td>\n",
       "    </tr>\n",
       "    <tr>\n",
       "      <th>2</th>\n",
       "      <td>57</td>\n",
       "      <td>35</td>\n",
       "      <td>9.401453</td>\n",
       "      <td>8076.666667</td>\n",
       "      <td>0.106367</td>\n",
       "      <td>1</td>\n",
       "      <td>3</td>\n",
       "    </tr>\n",
       "    <tr>\n",
       "      <th>3</th>\n",
       "      <td>56</td>\n",
       "      <td>1</td>\n",
       "      <td>0.685524</td>\n",
       "      <td>8076.666667</td>\n",
       "      <td>0.000000</td>\n",
       "      <td>0</td>\n",
       "      <td>4</td>\n",
       "    </tr>\n",
       "    <tr>\n",
       "      <th>4</th>\n",
       "      <td>55</td>\n",
       "      <td>5</td>\n",
       "      <td>1.494137</td>\n",
       "      <td>8076.666667</td>\n",
       "      <td>0.000000</td>\n",
       "      <td>0</td>\n",
       "      <td>5</td>\n",
       "    </tr>\n",
       "  </tbody>\n",
       "</table>\n",
       "</div>"
      ],
      "text/plain": [
       "   seg   Y        X1           X2        X3  X4  Unnamed: 6\n",
       "0   59  49  4.344300  8076.666667  0.920747   4           1\n",
       "1   58  44  9.025771  8076.666667  0.553969   5           2\n",
       "2   57  35  9.401453  8076.666667  0.106367   1           3\n",
       "3   56   1  0.685524  8076.666667  0.000000   0           4\n",
       "4   55   5  1.494137  8076.666667  0.000000   0           5"
      ]
     },
     "execution_count": 3,
     "metadata": {},
     "output_type": "execute_result"
    }
   ],
   "source": [
    "data = pd.read_excel(\"C:\\\\Users\\\\SSP\\\\Desktop\\\\Dr_Baradaran\\\\spf.data.xlsx\",header=2)\n",
    "data.head()"
   ]
  },
  {
   "cell_type": "code",
   "execution_count": 12,
   "id": "8f7105ae",
   "metadata": {},
   "outputs": [
    {
     "name": "stdout",
     "output_type": "stream",
     "text": [
      "Training data set length=50\n",
      "Testing data set length=9\n"
     ]
    }
   ],
   "source": [
    "#STEP1: fitting the Poisson regression model\n",
    "\n",
    "mask = np.random.rand(len(data)) < 0.8\n",
    "data_train = data[mask]\n",
    "data_test = data[~mask]\n",
    "print('Training data set length='+str(len(data_train)))\n",
    "print('Testing data set length='+str(len(data_test)))"
   ]
  },
  {
   "cell_type": "code",
   "execution_count": 13,
   "id": "4bfc119e",
   "metadata": {},
   "outputs": [],
   "source": [
    "expr = \"\"\"Y ~ X1  + X2 + X3\"\"\""
   ]
  },
  {
   "cell_type": "code",
   "execution_count": 14,
   "id": "ee12dba2",
   "metadata": {},
   "outputs": [],
   "source": [
    "y_train, X_train = dmatrices(expr, data_train, return_type='dataframe')\n",
    "y_test, X_test = dmatrices(expr, data_test, return_type='dataframe')"
   ]
  },
  {
   "cell_type": "code",
   "execution_count": 15,
   "id": "8952e502",
   "metadata": {},
   "outputs": [
    {
     "name": "stdout",
     "output_type": "stream",
     "text": [
      "                 Generalized Linear Model Regression Results                  \n",
      "==============================================================================\n",
      "Dep. Variable:                      Y   No. Observations:                   50\n",
      "Model:                            GLM   Df Residuals:                       46\n",
      "Model Family:                 Poisson   Df Model:                            3\n",
      "Link Function:                    log   Scale:                          1.0000\n",
      "Method:                          IRLS   Log-Likelihood:                -212.51\n",
      "Date:                Mon, 20 Jun 2022   Deviance:                       228.16\n",
      "Time:                        17:52:38   Pearson chi2:                     240.\n",
      "No. Iterations:                     5   Pseudo R-squ. (CS):             0.9974\n",
      "Covariance Type:            nonrobust                                         \n",
      "==============================================================================\n",
      "                 coef    std err          z      P>|z|      [0.025      0.975]\n",
      "------------------------------------------------------------------------------\n",
      "Intercept      3.5729      0.845      4.230      0.000       1.917       5.228\n",
      "X1             0.2298      0.014     16.936      0.000       0.203       0.256\n",
      "X2            -0.0003      0.000     -2.311      0.021      -0.000   -3.89e-05\n",
      "X3             0.1198      0.078      1.529      0.126      -0.034       0.273\n",
      "==============================================================================\n"
     ]
    }
   ],
   "source": [
    "poisson_training_results = sm.GLM(y_train, X_train, family=sm.families.Poisson()).fit()\n",
    "print(poisson_training_results.summary())"
   ]
  },
  {
   "cell_type": "code",
   "execution_count": 16,
   "id": "0067dd14",
   "metadata": {},
   "outputs": [
    {
     "name": "stdout",
     "output_type": "stream",
     "text": [
      "[13.59882739 38.16475583 39.43329689  5.25296448  6.32573253  8.73843402\n",
      "  5.26529295  6.22819147  8.34728481  6.48451309  7.86284525 25.75800975\n",
      "  6.66092969  7.80099944 18.79098892 12.50388055 32.95911774 41.62761873\n",
      " 10.01118639 11.0773348  27.04457488  7.76344532  9.07024844  9.99016404\n",
      "  6.13921936  9.23015813  7.95970246  9.94353166  7.37284294  7.85130621\n",
      "  6.26642981  8.0905017   8.86144331  7.91597336 13.69456609 21.71863121\n",
      " 16.48743419 37.57895179  8.07327727  6.42598457 27.39475255  8.75245162\n",
      "  9.44771476 31.4984061  10.66479779  6.58608807 13.77322359 14.37066871\n",
      " 13.83193957 21.30936578]\n",
      "50\n"
     ]
    }
   ],
   "source": [
    "print(poisson_training_results.mu)\n",
    "print(len(poisson_training_results.mu))"
   ]
  },
  {
   "cell_type": "code",
   "execution_count": 17,
   "id": "617b5260",
   "metadata": {},
   "outputs": [],
   "source": [
    "#STEP 2: The determination of α\n",
    "\n",
    "import statsmodels.formula.api as smf"
   ]
  },
  {
   "cell_type": "code",
   "execution_count": 18,
   "id": "81ef52c9",
   "metadata": {},
   "outputs": [
    {
     "name": "stderr",
     "output_type": "stream",
     "text": [
      "C:\\Users\\SSP\\AppData\\Local\\Temp/ipykernel_6044/4190094296.py:1: SettingWithCopyWarning: \n",
      "A value is trying to be set on a copy of a slice from a DataFrame.\n",
      "Try using .loc[row_indexer,col_indexer] = value instead\n",
      "\n",
      "See the caveats in the documentation: https://pandas.pydata.org/pandas-docs/stable/user_guide/indexing.html#returning-a-view-versus-a-copy\n",
      "  data_train['Y_LAMBDA'] = poisson_training_results.mu\n"
     ]
    }
   ],
   "source": [
    "data_train['Y_LAMBDA'] = poisson_training_results.mu"
   ]
  },
  {
   "cell_type": "code",
   "execution_count": 19,
   "id": "b7567378",
   "metadata": {},
   "outputs": [
    {
     "name": "stderr",
     "output_type": "stream",
     "text": [
      "C:\\Users\\SSP\\AppData\\Local\\Temp/ipykernel_6044/2348541616.py:1: SettingWithCopyWarning: \n",
      "A value is trying to be set on a copy of a slice from a DataFrame.\n",
      "Try using .loc[row_indexer,col_indexer] = value instead\n",
      "\n",
      "See the caveats in the documentation: https://pandas.pydata.org/pandas-docs/stable/user_guide/indexing.html#returning-a-view-versus-a-copy\n",
      "  data_train['AUX_OLS_DEP'] = data_train.apply(lambda x: ((x['Y'] - x['Y_LAMBDA'])**2 - x['Y_LAMBDA']) / x['Y_LAMBDA'], axis=1)\n"
     ]
    }
   ],
   "source": [
    "data_train['AUX_OLS_DEP'] = data_train.apply(lambda x: ((x['Y'] - x['Y_LAMBDA'])**2 - x['Y_LAMBDA']) / x['Y_LAMBDA'], axis=1)"
   ]
  },
  {
   "cell_type": "code",
   "execution_count": 20,
   "id": "db3309d5",
   "metadata": {},
   "outputs": [],
   "source": [
    "ols_expr = \"\"\"AUX_OLS_DEP ~ Y_LAMBDA - 1\"\"\""
   ]
  },
  {
   "cell_type": "code",
   "execution_count": 21,
   "id": "4c836752",
   "metadata": {},
   "outputs": [],
   "source": [
    "aux_olsr_results = smf.ols(ols_expr, data_train).fit()"
   ]
  },
  {
   "cell_type": "code",
   "execution_count": 22,
   "id": "662337b7",
   "metadata": {},
   "outputs": [
    {
     "name": "stdout",
     "output_type": "stream",
     "text": [
      "Y_LAMBDA    0.148111\n",
      "dtype: float64\n"
     ]
    }
   ],
   "source": [
    "print(aux_olsr_results.params)"
   ]
  },
  {
   "cell_type": "code",
   "execution_count": 23,
   "id": "923dc3aa",
   "metadata": {},
   "outputs": [
    {
     "data": {
      "text/plain": [
       "Y_LAMBDA    1.336886\n",
       "dtype: float64"
      ]
     },
     "execution_count": 23,
     "metadata": {},
     "output_type": "execute_result"
    }
   ],
   "source": [
    "aux_olsr_results.tvalues"
   ]
  },
  {
   "cell_type": "code",
   "execution_count": 28,
   "id": "34200e86",
   "metadata": {},
   "outputs": [
    {
     "name": "stdout",
     "output_type": "stream",
     "text": [
      "Critical t-value at a 99% confidence level (right-tailed), and degrees of freedom=49 is 2.404892\n",
      "which is not comfortably less than the t-statistic of alpha (1.336886)\n",
      "So α=0.148111 is NOT statistically significant\n",
      "Therefore, the Negative Binomial regression model cannot do a better job of fitting the training data set than a Poisson regression model.\n"
     ]
    }
   ],
   "source": [
    "print(\"Critical t-value at a 99% confidence level (right-tailed), and degrees of freedom=49 is 2.404892\")\n",
    "print(\"which is not comfortably less than the t-statistic of alpha (1.336886)\")\n",
    "print(\"So α=0.148111 is NOT statistically significant\")\n",
    "print(\"Therefore, the Negative Binomial regression model cannot do a better job of fitting the training data set than a Poisson regression model.\")"
   ]
  },
  {
   "cell_type": "code",
   "execution_count": 29,
   "id": "0fd71b65",
   "metadata": {},
   "outputs": [],
   "source": [
    "#STEP 3: Train the NB2 on the data using the alpha found in the previous step\n",
    "\n",
    "nb2_training_results = sm.GLM(y_train, X_train,family=sm.families.NegativeBinomial(alpha=aux_olsr_results.params[0])).fit()"
   ]
  },
  {
   "cell_type": "code",
   "execution_count": 30,
   "id": "927b1c5a",
   "metadata": {},
   "outputs": [
    {
     "name": "stdout",
     "output_type": "stream",
     "text": [
      "                 Generalized Linear Model Regression Results                  \n",
      "==============================================================================\n",
      "Dep. Variable:                      Y   No. Observations:                   50\n",
      "Model:                            GLM   Df Residuals:                       46\n",
      "Model Family:        NegativeBinomial   Df Model:                            3\n",
      "Link Function:                    log   Scale:                          1.0000\n",
      "Method:                          IRLS   Log-Likelihood:                -170.98\n",
      "Date:                Mon, 20 Jun 2022   Deviance:                       96.041\n",
      "Time:                        18:53:04   Pearson chi2:                     92.8\n",
      "No. Iterations:                     8   Pseudo R-squ. (CS):             0.8525\n",
      "Covariance Type:            nonrobust                                         \n",
      "==============================================================================\n",
      "                 coef    std err          z      P>|z|      [0.025      0.975]\n",
      "------------------------------------------------------------------------------\n",
      "Intercept      3.6774      1.612      2.281      0.023       0.518       6.837\n",
      "X1             0.2470      0.026      9.560      0.000       0.196       0.298\n",
      "X2            -0.0003      0.000     -1.325      0.185      -0.001       0.000\n",
      "X3             0.1151      0.127      0.906      0.365      -0.134       0.364\n",
      "==============================================================================\n"
     ]
    }
   ],
   "source": [
    "print(nb2_training_results.summary())"
   ]
  },
  {
   "cell_type": "code",
   "execution_count": 32,
   "id": "be16e268",
   "metadata": {},
   "outputs": [],
   "source": [
    "#STEP 4:  Make some predictions\n",
    "\n",
    "nb2_predictions = nb2_training_results.get_prediction(X_test)"
   ]
  },
  {
   "cell_type": "code",
   "execution_count": 33,
   "id": "261c5f2f",
   "metadata": {},
   "outputs": [
    {
     "name": "stdout",
     "output_type": "stream",
     "text": [
      "         mean   mean_se  mean_ci_lower  mean_ci_upper\n",
      "9    9.703975  1.195095       7.622893      12.353203\n",
      "22  27.835802  3.603061      21.598539      35.874272\n",
      "23  23.779153  2.858619      18.787496      30.097046\n",
      "25  10.330029  1.327367       8.030186      13.288547\n",
      "34   9.443604  0.980799       7.704300      11.575569\n",
      "39   8.021810  1.068154       6.179162      10.413942\n",
      "48  20.874845  2.182591      17.006894      25.622500\n",
      "49   7.483490  0.817244       6.041540       9.269596\n",
      "55  10.660801  2.490075       6.744848      16.850295\n"
     ]
    }
   ],
   "source": [
    "predictions_summary_frame = nb2_predictions.summary_frame()\n",
    "print(predictions_summary_frame)"
   ]
  },
  {
   "cell_type": "code",
   "execution_count": 34,
   "id": "d959fe9e",
   "metadata": {},
   "outputs": [
    {
     "data": {
      "image/png": "[encoded data removed]",
      "text/plain": [
       "<Figure size 432x288 with 1 Axes>"
      ]
     },
     "metadata": {
      "needs_background": "light"
     },
     "output_type": "display_data"
    }
   ],
   "source": [
    "predicted_counts=predictions_summary_frame['mean']\n",
    "actual_counts = y_test['Y']\n",
    "fig = plt.figure()\n",
    "fig.suptitle('Predicted versus actual accident counts')\n",
    "predicted, = plt.plot(X_test.index, predicted_counts, 'go-', label='Predicted counts')\n",
    "actual, = plt.plot(X_test.index, actual_counts, 'ro-', label='Actual counts')\n",
    "plt.legend(handles=[predicted, actual])\n",
    "plt.show()"
   ]
  },
  {
   "cell_type": "code",
   "execution_count": 35,
   "id": "4561c02e",
   "metadata": {},
   "outputs": [
    {
     "name": "stdout",
     "output_type": "stream",
     "text": [
      "LR test value = 83.06\n",
      "χ2(1) = 6.635\n"
     ]
    }
   ],
   "source": [
    "#STEP 5: Measuring the goodness-of-fit of the NB2 model\n",
    "\n",
    "#Log-Likelihood: Likelihood-ratio (LR) test\n",
    "LR = 2*(212.51-170.98)\n",
    "print(\"LR test value =\", LR)\n",
    "print(\"χ2(1) = 6.635\") # critical value of χ2(1) at the 1% significance level"
   ]
  },
  {
   "cell_type": "code",
   "execution_count": 39,
   "id": "5c21282d",
   "metadata": {},
   "outputs": [
    {
     "name": "stdout",
     "output_type": "stream",
     "text": [
      "Deviance and Pearson chi-squared for the NB2 model are greater than the standard Chi-Squared value at p=0.05 and DF=49\n",
      "We might be able to do better!!\n"
     ]
    }
   ],
   "source": [
    "#The Deviance and Pearson chi-squared statistics\n",
    "NB_Deviance = 96.041\n",
    "NB_Pearson_chi2 = 92.8\n",
    "\n",
    "Chi_Squared_0_05 = 66.339\n",
    "print(\"Deviance and Pearson chi-squared for the NB2 model are greater than the standard Chi-Squared value at p=0.05 and DF=49\")\n",
    "print(\"We might be able to do better!!\")"
   ]
  },
  {
   "cell_type": "code",
   "execution_count": null,
   "id": "5dc21df9",
   "metadata": {},
   "outputs": [],
   "source": []
  },
  {
   "cell_type": "code",
   "execution_count": null,
   "id": "a49807eb",
   "metadata": {},
   "outputs": [],
   "source": []
  },
  {
   "cell_type": "code",
   "execution_count": null,
   "id": "8b6b90b5",
   "metadata": {},
   "outputs": [],
   "source": []
  }
 ],
 "metadata": {
  "kernelspec": {
   "display_name": "Python 3 (ipykernel)",
   "language": "python",
   "name": "python3"
  },
  "language_info": {
   "codemirror_mode": {
    "name": "ipython",
    "version": 3
   },
   "file_extension": ".py",
   "mimetype": "text/x-python",
   "name": "python",
   "nbconvert_exporter": "python",
   "pygments_lexer": "ipython3",
   "version": "3.8.12"
  }
 },
 "nbformat": 4,
 "nbformat_minor": 5
}
