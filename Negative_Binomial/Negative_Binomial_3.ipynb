{
 "cells": [
  {
   "cell_type": "code",
   "execution_count": 1,
   "id": "1f9a4a0f",
   "metadata": {},
   "outputs": [],
   "source": [
    "import pandas as pd\n",
    "from patsy import dmatrices\n",
    "import numpy as np\n",
    "import statsmodels.api as sm\n",
    "import matplotlib.pyplot as plt"
   ]
  },
  {
   "cell_type": "code",
   "execution_count": 2,
   "id": "f112bbf9",
   "metadata": {},
   "outputs": [
    {
     "data": {
      "text/html": [
       "<div>\n",
       "<style scoped>\n",
       "    .dataframe tbody tr th:only-of-type {\n",
       "        vertical-align: middle;\n",
       "    }\n",
       "\n",
       "    .dataframe tbody tr th {\n",
       "        vertical-align: top;\n",
       "    }\n",
       "\n",
       "    .dataframe thead th {\n",
       "        text-align: right;\n",
       "    }\n",
       "</style>\n",
       "<table border=\"1\" class=\"dataframe\">\n",
       "  <thead>\n",
       "    <tr style=\"text-align: right;\">\n",
       "      <th></th>\n",
       "      <th>seg</th>\n",
       "      <th>Y</th>\n",
       "      <th>X1</th>\n",
       "      <th>X2</th>\n",
       "      <th>X3</th>\n",
       "      <th>X4</th>\n",
       "      <th>Unnamed: 6</th>\n",
       "    </tr>\n",
       "  </thead>\n",
       "  <tbody>\n",
       "    <tr>\n",
       "      <th>0</th>\n",
       "      <td>59</td>\n",
       "      <td>49</td>\n",
       "      <td>4.344300</td>\n",
       "      <td>8076.666667</td>\n",
       "      <td>0.920747</td>\n",
       "      <td>4</td>\n",
       "      <td>1</td>\n",
       "    </tr>\n",
       "    <tr>\n",
       "      <th>1</th>\n",
       "      <td>58</td>\n",
       "      <td>44</td>\n",
       "      <td>9.025771</td>\n",
       "      <td>8076.666667</td>\n",
       "      <td>0.553969</td>\n",
       "      <td>5</td>\n",
       "      <td>2</td>\n",
       "    </tr>\n",
       "    <tr>\n",
       "      <th>2</th>\n",
       "      <td>57</td>\n",
       "      <td>35</td>\n",
       "      <td>9.401453</td>\n",
       "      <td>8076.666667</td>\n",
       "      <td>0.106367</td>\n",
       "      <td>1</td>\n",
       "      <td>3</td>\n",
       "    </tr>\n",
       "    <tr>\n",
       "      <th>3</th>\n",
       "      <td>56</td>\n",
       "      <td>1</td>\n",
       "      <td>0.685524</td>\n",
       "      <td>8076.666667</td>\n",
       "      <td>0.000000</td>\n",
       "      <td>0</td>\n",
       "      <td>4</td>\n",
       "    </tr>\n",
       "    <tr>\n",
       "      <th>4</th>\n",
       "      <td>55</td>\n",
       "      <td>5</td>\n",
       "      <td>1.494137</td>\n",
       "      <td>8076.666667</td>\n",
       "      <td>0.000000</td>\n",
       "      <td>0</td>\n",
       "      <td>5</td>\n",
       "    </tr>\n",
       "  </tbody>\n",
       "</table>\n",
       "</div>"
      ],
      "text/plain": [
       "   seg   Y        X1           X2        X3  X4  Unnamed: 6\n",
       "0   59  49  4.344300  8076.666667  0.920747   4           1\n",
       "1   58  44  9.025771  8076.666667  0.553969   5           2\n",
       "2   57  35  9.401453  8076.666667  0.106367   1           3\n",
       "3   56   1  0.685524  8076.666667  0.000000   0           4\n",
       "4   55   5  1.494137  8076.666667  0.000000   0           5"
      ]
     },
     "execution_count": 2,
     "metadata": {},
     "output_type": "execute_result"
    }
   ],
   "source": [
    "data = pd.read_excel(\"C:\\\\Users\\\\SSP\\\\Desktop\\\\Dr_Baradaran\\\\spf.data.xlsx\",header=2)\n",
    "data.head()"
   ]
  },
  {
   "cell_type": "code",
   "execution_count": 3,
   "id": "8f7105ae",
   "metadata": {},
   "outputs": [],
   "source": [
    "#STEP1: fitting the Poisson regression model\n",
    "\n",
    "expr = \"\"\"Y ~ X1  + X2 + X3\"\"\"\n",
    "y, X = dmatrices(expr, data, return_type='dataframe')"
   ]
  },
  {
   "cell_type": "code",
   "execution_count": 4,
   "id": "8952e502",
   "metadata": {},
   "outputs": [
    {
     "name": "stdout",
     "output_type": "stream",
     "text": [
      "                 Generalized Linear Model Regression Results                  \n",
      "==============================================================================\n",
      "Dep. Variable:                      Y   No. Observations:                   59\n",
      "Model:                            GLM   Df Residuals:                       55\n",
      "Model Family:                 Poisson   Df Model:                            3\n",
      "Link Function:                    log   Scale:                          1.0000\n",
      "Method:                          IRLS   Log-Likelihood:                -245.95\n",
      "Date:                Mon, 20 Jun 2022   Deviance:                       254.63\n",
      "Time:                        20:06:31   Pearson chi2:                     266.\n",
      "No. Iterations:                     5   Pseudo R-squ. (CS):             0.9961\n",
      "Covariance Type:            nonrobust                                         \n",
      "==============================================================================\n",
      "                 coef    std err          z      P>|z|      [0.025      0.975]\n",
      "------------------------------------------------------------------------------\n",
      "Intercept      4.2476      0.780      5.444      0.000       2.718       5.777\n",
      "X1             0.2270      0.013     17.581      0.000       0.202       0.252\n",
      "X2            -0.0003      0.000     -3.284      0.001      -0.001      -0.000\n",
      "X3             0.0989      0.068      1.448      0.147      -0.035       0.233\n",
      "==============================================================================\n"
     ]
    }
   ],
   "source": [
    "poisson_training_results = sm.GLM(y, X, family=sm.families.Poisson()).fit()\n",
    "print(poisson_training_results.summary())"
   ]
  },
  {
   "cell_type": "code",
   "execution_count": 5,
   "id": "0067dd14",
   "metadata": {},
   "outputs": [
    {
     "name": "stdout",
     "output_type": "stream",
     "text": [
      "[13.36062859 37.28995131 38.85169061  5.31621739  6.38731073  8.72546845\n",
      "  5.32854092  6.29002033  8.33438161  9.91947923  6.545644    7.84843888\n",
      " 25.56415015  6.72150783  7.85668845 18.66260826 12.52039594 32.38823492\n",
      " 43.84603708 10.64460884 11.687831   28.38896959 27.8502436  24.09449681\n",
      "  8.18799293 11.10504495  9.4866596  10.3479221   6.62017752  9.31213262\n",
      "  8.41812668 10.46386326  7.93258919  8.2928592  10.2524749   6.75565228\n",
      "  8.56603812  9.23146771  8.50952346  8.88640723 14.54896533 22.90559728\n",
      " 17.25040427 39.25294105  8.67652551  6.92552495 29.00330913  9.07030364\n",
      " 21.28905197  8.28421437  9.91708174 33.02891818 11.42257342  6.93636556\n",
      " 14.30824687 11.11390997 14.85399023 14.29817883 22.12142147]\n",
      "59\n"
     ]
    }
   ],
   "source": [
    "print(poisson_training_results.mu)\n",
    "print(len(poisson_training_results.mu))"
   ]
  },
  {
   "cell_type": "code",
   "execution_count": 6,
   "id": "617b5260",
   "metadata": {},
   "outputs": [],
   "source": [
    "#STEP 2: The determination of α\n",
    "\n",
    "import statsmodels.formula.api as smf"
   ]
  },
  {
   "cell_type": "code",
   "execution_count": 7,
   "id": "81ef52c9",
   "metadata": {},
   "outputs": [],
   "source": [
    "data['Y_LAMBDA'] = poisson_training_results.mu"
   ]
  },
  {
   "cell_type": "code",
   "execution_count": 8,
   "id": "b7567378",
   "metadata": {},
   "outputs": [],
   "source": [
    "data['AUX_OLS_DEP'] = data.apply(lambda x: ((x['Y'] - x['Y_LAMBDA'])**2 - x['Y_LAMBDA']) / x['Y_LAMBDA'], axis=1)"
   ]
  },
  {
   "cell_type": "code",
   "execution_count": 9,
   "id": "db3309d5",
   "metadata": {},
   "outputs": [],
   "source": [
    "ols_expr = \"\"\"AUX_OLS_DEP ~ Y_LAMBDA - 1\"\"\""
   ]
  },
  {
   "cell_type": "code",
   "execution_count": 10,
   "id": "4c836752",
   "metadata": {},
   "outputs": [],
   "source": [
    "aux_olsr_results = smf.ols(ols_expr, data).fit()"
   ]
  },
  {
   "cell_type": "code",
   "execution_count": 16,
   "id": "662337b7",
   "metadata": {},
   "outputs": [
    {
     "name": "stdout",
     "output_type": "stream",
     "text": [
      "Y_LAMBDA    0.133967\n",
      "dtype: float64\n"
     ]
    }
   ],
   "source": [
    "print(aux_olsr_results.params)"
   ]
  },
  {
   "cell_type": "code",
   "execution_count": 17,
   "id": "923dc3aa",
   "metadata": {},
   "outputs": [
    {
     "data": {
      "text/plain": [
       "Y_LAMBDA    1.404661\n",
       "dtype: float64"
      ]
     },
     "execution_count": 17,
     "metadata": {},
     "output_type": "execute_result"
    }
   ],
   "source": [
    "aux_olsr_results.tvalues"
   ]
  },
  {
   "cell_type": "code",
   "execution_count": 18,
   "id": "34200e86",
   "metadata": {},
   "outputs": [
    {
     "name": "stdout",
     "output_type": "stream",
     "text": [
      "Critical t-value at a 99% confidence level (right-tailed), and degrees of freedom=59 is 2.391229\n",
      "which is not comfortably less than the t-statistic of alpha (1.404661)\n",
      "So α=0.133967 is NOT statistically significant\n",
      "Therefore, the Negative Binomial regression model cannot do a better job of fitting the training data set than a Poisson regression model.\n"
     ]
    }
   ],
   "source": [
    "print(\"Critical t-value at a 99% confidence level (right-tailed), and degrees of freedom=59 is 2.391229\")\n",
    "print(\"which is not comfortably less than the t-statistic of alpha (1.404661)\")\n",
    "print(\"So α=0.133967 is NOT statistically significant\")\n",
    "print(\"Therefore, the Negative Binomial regression model cannot do a better job of fitting the training data set than a Poisson regression model.\")"
   ]
  },
  {
   "cell_type": "code",
   "execution_count": 19,
   "id": "0fd71b65",
   "metadata": {},
   "outputs": [],
   "source": [
    "#STEP 3: Train the NB2 on the data using the alpha found in the previous step\n",
    "\n",
    "nb2_training_results = sm.GLM(y, X,family=sm.families.NegativeBinomial(alpha=aux_olsr_results.params[0])).fit()"
   ]
  },
  {
   "cell_type": "code",
   "execution_count": 20,
   "id": "927b1c5a",
   "metadata": {},
   "outputs": [
    {
     "name": "stdout",
     "output_type": "stream",
     "text": [
      "                 Generalized Linear Model Regression Results                  \n",
      "==============================================================================\n",
      "Dep. Variable:                      Y   No. Observations:                   59\n",
      "Model:                            GLM   Df Residuals:                       55\n",
      "Model Family:        NegativeBinomial   Df Model:                            3\n",
      "Link Function:                    log   Scale:                          1.0000\n",
      "Method:                          IRLS   Log-Likelihood:                -202.20\n",
      "Date:                Mon, 20 Jun 2022   Deviance:                       110.79\n",
      "Time:                        20:15:42   Pearson chi2:                     108.\n",
      "No. Iterations:                     7   Pseudo R-squ. (CS):             0.8473\n",
      "Covariance Type:            nonrobust                                         \n",
      "==============================================================================\n",
      "                 coef    std err          z      P>|z|      [0.025      0.975]\n",
      "------------------------------------------------------------------------------\n",
      "Intercept      4.3921      1.438      3.053      0.002       1.573       7.211\n",
      "X1             0.2437      0.024     10.234      0.000       0.197       0.290\n",
      "X2            -0.0004      0.000     -1.941      0.052      -0.001    3.52e-06\n",
      "X3             0.0983      0.108      0.907      0.364      -0.114       0.310\n",
      "==============================================================================\n"
     ]
    }
   ],
   "source": [
    "print(nb2_training_results.summary())"
   ]
  },
  {
   "cell_type": "code",
   "execution_count": 21,
   "id": "be16e268",
   "metadata": {},
   "outputs": [],
   "source": [
    "#STEP 4:  Make some predictions\n",
    "\n",
    "nb2_predictions = nb2_training_results.get_prediction(X)"
   ]
  },
  {
   "cell_type": "code",
   "execution_count": 22,
   "id": "261c5f2f",
   "metadata": {},
   "outputs": [
    {
     "name": "stdout",
     "output_type": "stream",
     "text": [
      "         mean   mean_se  mean_ci_lower  mean_ci_upper\n",
      "0   13.231448  1.754876      10.202655      17.159377\n",
      "1   39.946011  6.485070      29.059248      54.911393\n",
      "2   41.892726  6.550870      30.834301      56.917147\n",
      "3    4.955081  0.752578       3.679343       6.673156\n",
      "4    6.034475  0.843642       4.588158       7.936712\n",
      "5    8.410575  1.003597       6.656646      10.626637\n",
      "6    4.967415  0.753648       3.689670       6.687648\n",
      "7    5.935843  0.835484       4.504782       7.821516\n",
      "8    8.004481  0.971023       6.310648      10.152954\n",
      "9    9.657340  1.110042       7.709355      12.097539\n",
      "10   6.195229  0.856898       4.724141       8.124412\n",
      "11   7.501383  0.932621       5.879148       9.571243\n",
      "12  26.750458  3.477891      20.733111      34.514212\n",
      "13   6.374118  0.871602       4.875579       8.333243\n",
      "14   7.536790  0.966997       5.861033       9.691670\n",
      "15  19.056605  2.210688      15.181011      23.921608\n",
      "16  12.430144  1.415879       9.943024      15.539386\n",
      "17  34.391199  5.042340      25.801595      45.840365\n",
      "18  47.855118  7.078730      35.811182      63.949645\n",
      "19  10.433051  0.904774       8.802246      12.365998\n",
      "20  11.504612  0.906718       9.857933      13.426355\n",
      "21  29.902615  3.162267      24.304838      36.789646\n",
      "22  29.362859  3.274290      23.598249      36.535656\n",
      "23  25.130354  2.590778      20.532660      30.757569\n",
      "24   7.835914  0.766408       6.468986       9.491682\n",
      "25  10.836074  1.167965       8.772538      13.385009\n",
      "26   9.153849  0.981826       7.418317      11.295413\n",
      "27  10.014466  1.389987       7.629267      13.145369\n",
      "28   6.285966  0.858760       4.809332       8.215977\n",
      "29   8.844010  2.408424       5.186182      15.081713\n",
      "30   8.082623  0.752996       6.733678       9.701799\n",
      "31  10.199836  0.878253       8.615903      12.074957\n",
      "32   7.633163  0.952402       5.977213       9.747884\n",
      "33   7.948895  0.756287       6.596602       9.578404\n",
      "34   9.974524  0.883939       8.384149      11.866574\n",
      "35   6.424182  0.868601       4.928657       8.373502\n",
      "36   8.239597  0.755378       6.884474       9.861460\n",
      "37   8.874405  1.091948       6.972739      11.294710\n",
      "38   8.230787  0.993174       6.497263      10.426829\n",
      "39   8.622815  1.019986       6.838504      10.872690\n",
      "40  14.609741  1.262554      12.333401      17.306219\n",
      "41  23.767617  2.243566      19.753120      28.597996\n",
      "42  17.449154  1.499506      14.744353      20.650142\n",
      "43  42.329519  5.538063      32.755089      54.702589\n",
      "44   8.404345  1.005029       6.648343      10.624153\n",
      "45   6.597782  0.880860       5.078732       8.571180\n",
      "46  30.705864  3.692007      24.259100      38.865831\n",
      "47   8.689202  1.263288       6.534723      11.554006\n",
      "48  21.900809  1.962575      18.373094      26.105860\n",
      "49   7.939625  0.756797       6.586646       9.570523\n",
      "50   9.616445  0.906320       7.994504      11.567450\n",
      "51  35.191622  4.123542      27.970526      44.276976\n",
      "52  11.290695  1.211629       9.149059      13.933652\n",
      "53   6.603393  0.757652       5.273549       8.268587\n",
      "54  14.340808  0.963295      12.571788      16.358753\n",
      "55  10.759084  2.100332       7.338515      15.774021\n",
      "56  14.901699  0.920248      13.202926      16.819048\n",
      "57  14.301558  0.877446      12.681173      16.128995\n",
      "58  22.938203  2.064426      19.228778      27.363212\n"
     ]
    }
   ],
   "source": [
    "predictions_summary_frame = nb2_predictions.summary_frame()\n",
    "print(predictions_summary_frame)"
   ]
  },
  {
   "cell_type": "code",
   "execution_count": 23,
   "id": "d959fe9e",
   "metadata": {},
   "outputs": [
    {
     "data": {
      "image/png": "[encoded data removed]",
      "text/plain": [
       "<Figure size 432x288 with 1 Axes>"
      ]
     },
     "metadata": {
      "needs_background": "light"
     },
     "output_type": "display_data"
    }
   ],
   "source": [
    "predicted_counts=predictions_summary_frame['mean']\n",
    "actual_counts = y['Y']\n",
    "fig = plt.figure()\n",
    "fig.suptitle('Predicted versus actual accident counts')\n",
    "predicted, = plt.plot(X.index, predicted_counts, 'go-', label='Predicted counts')\n",
    "actual, = plt.plot(X.index, actual_counts, 'ro-', label='Actual counts')\n",
    "plt.legend(handles=[predicted, actual])\n",
    "plt.show()"
   ]
  },
  {
   "cell_type": "code",
   "execution_count": 24,
   "id": "4561c02e",
   "metadata": {},
   "outputs": [
    {
     "name": "stdout",
     "output_type": "stream",
     "text": [
      "LR test value = 87.5\n",
      "χ2(1) = 6.635\n"
     ]
    }
   ],
   "source": [
    "#STEP 5: Measuring the goodness-of-fit of the NB2 model\n",
    "\n",
    "#Log-Likelihood: Likelihood-ratio (LR) test - negative two times the difference in the fitted log-likelihoods of the two models\n",
    "LR = 2*(245.95-202.20)\n",
    "print(\"LR test value =\", LR)\n",
    "print(\"χ2(1) = 6.635\") # critical value of χ2(1) at the 1% significance level"
   ]
  },
  {
   "cell_type": "code",
   "execution_count": 25,
   "id": "5c21282d",
   "metadata": {},
   "outputs": [
    {
     "name": "stdout",
     "output_type": "stream",
     "text": [
      "Deviance and Pearson chi-squared for the NB2 model are greater than the standard Chi-Squared value at p=0.05 and DF=59\n",
      "We might be able to do better!!\n"
     ]
    }
   ],
   "source": [
    "#The Deviance and Pearson chi-squared statistics\n",
    "NB_Deviance = 110.79\n",
    "NB_Pearson_chi2 = 108\n",
    "\n",
    "Chi_Squared_0_05 = 77.931\n",
    "print(\"Deviance and Pearson chi-squared for the NB2 model are greater than the standard Chi-Squared value at p=0.05 and DF=59\")\n",
    "print(\"We might be able to do better!!\")"
   ]
  },
  {
   "cell_type": "code",
   "execution_count": null,
   "id": "5dc21df9",
   "metadata": {},
   "outputs": [],
   "source": []
  },
  {
   "cell_type": "code",
   "execution_count": null,
   "id": "a49807eb",
   "metadata": {},
   "outputs": [],
   "source": []
  },
  {
   "cell_type": "code",
   "execution_count": null,
   "id": "8b6b90b5",
   "metadata": {},
   "outputs": [],
   "source": []
  }
 ],
 "metadata": {
  "kernelspec": {
   "display_name": "Python 3 (ipykernel)",
   "language": "python",
   "name": "python3"
  },
  "language_info": {
   "codemirror_mode": {
    "name": "ipython",
    "version": 3
   },
   "file_extension": ".py",
   "mimetype": "text/x-python",
   "name": "python",
   "nbconvert_exporter": "python",
   "pygments_lexer": "ipython3",
   "version": "3.8.12"
  }
 },
 "nbformat": 4,
 "nbformat_minor": 5
}
