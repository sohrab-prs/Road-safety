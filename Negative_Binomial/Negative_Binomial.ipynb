{
 "cells": [
  {
   "cell_type": "code",
   "execution_count": 1,
   "id": "5741620d",
   "metadata": {},
   "outputs": [],
   "source": [
    "import pandas as pd"
   ]
  },
  {
   "cell_type": "code",
   "execution_count": 4,
   "id": "0df6164c",
   "metadata": {
    "scrolled": true
   },
   "outputs": [],
   "source": [
    "data = pd.read_excel(\"C:\\\\Users\\\\SSP\\\\Desktop\\\\Dr_Baradaran\\\\spf.data.4.401.V1.xlsx\")"
   ]
  },
  {
   "cell_type": "code",
   "execution_count": 5,
   "id": "c14cf3c6",
   "metadata": {},
   "outputs": [
    {
     "data": {
      "text/html": [
       "<div>\n",
       "<style scoped>\n",
       "    .dataframe tbody tr th:only-of-type {\n",
       "        vertical-align: middle;\n",
       "    }\n",
       "\n",
       "    .dataframe tbody tr th {\n",
       "        vertical-align: top;\n",
       "    }\n",
       "\n",
       "    .dataframe thead th {\n",
       "        text-align: right;\n",
       "    }\n",
       "</style>\n",
       "<table border=\"1\" class=\"dataframe\">\n",
       "  <thead>\n",
       "    <tr style=\"text-align: right;\">\n",
       "      <th></th>\n",
       "      <th>seg</th>\n",
       "      <th>Y</th>\n",
       "      <th>X1</th>\n",
       "      <th>X2</th>\n",
       "      <th>X3</th>\n",
       "    </tr>\n",
       "  </thead>\n",
       "  <tbody>\n",
       "    <tr>\n",
       "      <th>0</th>\n",
       "      <td>59</td>\n",
       "      <td>49</td>\n",
       "      <td>4.344300</td>\n",
       "      <td>8076.666667</td>\n",
       "      <td>0.920747</td>\n",
       "    </tr>\n",
       "    <tr>\n",
       "      <th>1</th>\n",
       "      <td>58</td>\n",
       "      <td>44</td>\n",
       "      <td>9.025771</td>\n",
       "      <td>8076.666667</td>\n",
       "      <td>0.997145</td>\n",
       "    </tr>\n",
       "    <tr>\n",
       "      <th>2</th>\n",
       "      <td>57</td>\n",
       "      <td>35</td>\n",
       "      <td>9.401453</td>\n",
       "      <td>8076.666667</td>\n",
       "      <td>0.744566</td>\n",
       "    </tr>\n",
       "    <tr>\n",
       "      <th>3</th>\n",
       "      <td>56</td>\n",
       "      <td>1</td>\n",
       "      <td>0.685524</td>\n",
       "      <td>8076.666667</td>\n",
       "      <td>0.000000</td>\n",
       "    </tr>\n",
       "    <tr>\n",
       "      <th>4</th>\n",
       "      <td>55</td>\n",
       "      <td>5</td>\n",
       "      <td>1.494137</td>\n",
       "      <td>8076.666667</td>\n",
       "      <td>0.669283</td>\n",
       "    </tr>\n",
       "  </tbody>\n",
       "</table>\n",
       "</div>"
      ],
      "text/plain": [
       "   seg   Y        X1           X2        X3\n",
       "0   59  49  4.344300  8076.666667  0.920747\n",
       "1   58  44  9.025771  8076.666667  0.997145\n",
       "2   57  35  9.401453  8076.666667  0.744566\n",
       "3   56   1  0.685524  8076.666667  0.000000\n",
       "4   55   5  1.494137  8076.666667  0.669283"
      ]
     },
     "execution_count": 5,
     "metadata": {},
     "output_type": "execute_result"
    }
   ],
   "source": [
    "data.head()"
   ]
  },
  {
   "cell_type": "code",
   "execution_count": 6,
   "id": "652b21dc",
   "metadata": {},
   "outputs": [
    {
     "data": {
      "image/png": "[encoded data removed]",
      "text/plain": [
       "<Figure size 1080x252 with 1 Axes>"
      ]
     },
     "metadata": {},
     "output_type": "display_data"
    }
   ],
   "source": [
    "import matplotlib.pyplot as plt\n",
    "\n",
    "plt.style.use('ggplot')\n",
    "\n",
    "m = data['Y'].mean()\n",
    "s = data['Y'].value_counts().sort_index()\n",
    "ax = s.plot(kind='bar', figsize=(15, 3.5), title=rf'Distribution of $y$, $\\lambda={m:.1f}$')\n",
    "_ = ax.xaxis.set_major_locator(plt.MaxNLocator(50))"
   ]
  },
  {
   "cell_type": "code",
   "execution_count": 7,
   "id": "cca80a14",
   "metadata": {},
   "outputs": [],
   "source": [
    "import statsmodels.api as sm \n",
    "import matplotlib.pyplot as plt"
   ]
  },
  {
   "cell_type": "code",
   "execution_count": 8,
   "id": "908f3b12",
   "metadata": {},
   "outputs": [
    {
     "name": "stdout",
     "output_type": "stream",
     "text": [
      "14.610169491525424\n",
      "147.96610169491524\n"
     ]
    }
   ],
   "source": [
    "print(data['Y'].mean())\n",
    "print(data['Y'].var())"
   ]
  },
  {
   "cell_type": "code",
   "execution_count": 9,
   "id": "5991668e",
   "metadata": {
    "scrolled": true
   },
   "outputs": [
    {
     "name": "stderr",
     "output_type": "stream",
     "text": [
      "C:\\Users\\SSP\\miniconda3\\envs\\python-gis\\lib\\site-packages\\statsmodels\\discrete\\discrete_model.py:861: RuntimeWarning: overflow encountered in exp\n",
      "  return np.exp(linpred) # not cdf\n",
      "C:\\Users\\SSP\\miniconda3\\envs\\python-gis\\lib\\site-packages\\statsmodels\\discrete\\discrete_model.py:2642: RuntimeWarning: divide by zero encountered in log\n",
      "  llf = coeff + size*np.log(prob) + endog*np.log(1-prob)\n",
      "C:\\Users\\SSP\\miniconda3\\envs\\python-gis\\lib\\site-packages\\statsmodels\\discrete\\discrete_model.py:2733: RuntimeWarning: invalid value encountered in multiply\n",
      "  dparams = exog*a1 * (y-mu)/(mu+a1)\n",
      "C:\\Users\\SSP\\miniconda3\\envs\\python-gis\\lib\\site-packages\\statsmodels\\discrete\\discrete_model.py:2733: RuntimeWarning: invalid value encountered in true_divide\n",
      "  dparams = exog*a1 * (y-mu)/(mu+a1)\n",
      "C:\\Users\\SSP\\miniconda3\\envs\\python-gis\\lib\\site-packages\\statsmodels\\discrete\\discrete_model.py:2736: RuntimeWarning: invalid value encountered in true_divide\n",
      "  - np.log(a1+mu) - (y-mu)/(a1+mu)).sum() * da1\n",
      "C:\\Users\\SSP\\miniconda3\\envs\\python-gis\\lib\\site-packages\\statsmodels\\discrete\\discrete_model.py:861: RuntimeWarning: overflow encountered in exp\n",
      "  return np.exp(linpred) # not cdf\n",
      "C:\\Users\\SSP\\miniconda3\\envs\\python-gis\\lib\\site-packages\\statsmodels\\discrete\\discrete_model.py:2642: RuntimeWarning: divide by zero encountered in log\n",
      "  llf = coeff + size*np.log(prob) + endog*np.log(1-prob)\n",
      "C:\\Users\\SSP\\miniconda3\\envs\\python-gis\\lib\\site-packages\\statsmodels\\base\\model.py:547: HessianInversionWarning: Inverting hessian failed, no bse or cov_params available\n",
      "  warnings.warn('Inverting hessian failed, no bse or cov_params '\n",
      "C:\\Users\\SSP\\miniconda3\\envs\\python-gis\\lib\\site-packages\\statsmodels\\base\\model.py:566: ConvergenceWarning: Maximum Likelihood optimization failed to converge. Check mle_retvals\n",
      "  warnings.warn(\"Maximum Likelihood optimization failed to \"\n"
     ]
    },
    {
     "name": "stdout",
     "output_type": "stream",
     "text": [
      "Warning: Desired error not necessarily achieved due to precision loss.\n",
      "         Current function value: 3.666553\n",
      "         Iterations: 0\n",
      "         Function evaluations: 15\n",
      "         Gradient evaluations: 3\n",
      "                     NegativeBinomial Regression Results                      \n",
      "==============================================================================\n",
      "Dep. Variable:                      Y   No. Observations:                   59\n",
      "Model:               NegativeBinomial   Df Residuals:                       56\n",
      "Method:                           MLE   Df Model:                            2\n",
      "Date:                Mon, 01 Aug 2022   Pseudo R-squ.:                0.008023\n",
      "Time:                        10:36:19   Log-Likelihood:                -216.33\n",
      "converged:                      False   LL-Null:                       -218.08\n",
      "Covariance Type:            nonrobust   LLR p-value:                    0.1739\n",
      "==============================================================================\n",
      "                 coef    std err          z      P>|z|      [0.025      0.975]\n",
      "------------------------------------------------------------------------------\n",
      "X1             0.2174        nan        nan        nan         nan         nan\n",
      "X2             0.0002        nan        nan        nan         nan         nan\n",
      "X3             0.1259        nan        nan        nan         nan         nan\n",
      "alpha          1.4371        nan        nan        nan         nan         nan\n",
      "==============================================================================\n"
     ]
    }
   ],
   "source": [
    "X = data[['X1', 'X2', 'X3']]\n",
    "Y = data['Y']\n",
    "model_1 = sm.NegativeBinomial(Y,X).fit()\n",
    "print(model_1.summary())"
   ]
  },
  {
   "cell_type": "code",
   "execution_count": 10,
   "id": "21ac98e9",
   "metadata": {
    "scrolled": true
   },
   "outputs": [
    {
     "name": "stdout",
     "output_type": "stream",
     "text": [
      "Optimization terminated successfully.\n",
      "         Current function value: 3.400313\n",
      "         Iterations: 131\n",
      "         Function evaluations: 230\n",
      "                     NegativeBinomial Regression Results                      \n",
      "==============================================================================\n",
      "Dep. Variable:                      Y   No. Observations:                   59\n",
      "Model:               NegativeBinomial   Df Residuals:                       56\n",
      "Method:                           MLE   Df Model:                            2\n",
      "Date:                Mon, 01 Aug 2022   Pseudo R-squ.:                 0.08005\n",
      "Time:                        10:36:55   Log-Likelihood:                -200.62\n",
      "converged:                       True   LL-Null:                       -218.08\n",
      "Covariance Type:            nonrobust   LLR p-value:                 2.619e-08\n",
      "==============================================================================\n",
      "                 coef    std err          z      P>|z|      [0.025      0.975]\n",
      "------------------------------------------------------------------------------\n",
      "X1             0.2480      0.037      6.697      0.000       0.175       0.321\n",
      "X2             0.0002   3.04e-05      6.603      0.000       0.000       0.000\n",
      "X3             0.1618      0.156      1.034      0.301      -0.145       0.468\n",
      "alpha          0.3496      0.088      3.982      0.000       0.177       0.522\n",
      "==============================================================================\n"
     ]
    }
   ],
   "source": [
    "data = pd.read_excel(\"C:\\\\Users\\\\SSP\\\\Desktop\\\\Dr_Baradaran\\\\spf.data.4.401.V1.xlsx\")\n",
    "X = data[['X1', 'X2', 'X3']]\n",
    "Y = data['Y']\n",
    "model_2 = sm.NegativeBinomial(Y,X).fit(method='nm', maxiter=1000)\n",
    "print(model_2.summary())"
   ]
  },
  {
   "cell_type": "code",
   "execution_count": 11,
   "id": "65ca377c",
   "metadata": {},
   "outputs": [
    {
     "data": {
      "image/png": "[encoded data removed]",
      "text/plain": [
       "<Figure size 432x288 with 1 Axes>"
      ]
     },
     "metadata": {},
     "output_type": "display_data"
    }
   ],
   "source": [
    "nb_predictions = model_2.predict(X)\n",
    "actual_counts = Y\n",
    "fig = plt.figure()\n",
    "fig.suptitle('Predicted versus actual accident counts')\n",
    "predicted, = plt.plot(X.index, nb_predictions, 'go-', label='Predicted counts')\n",
    "actual, = plt.plot(X.index, actual_counts, 'ro-', label='Actual counts')\n",
    "plt.legend(handles=[predicted, actual])\n",
    "plt.show()"
   ]
  },
  {
   "cell_type": "code",
   "execution_count": 12,
   "id": "81a83c73",
   "metadata": {},
   "outputs": [
    {
     "data": {
      "text/plain": [
       "<AxesSubplot:xlabel='X1'>"
      ]
     },
     "execution_count": 12,
     "metadata": {},
     "output_type": "execute_result"
    },
    {
     "data": {
      "image/png": "[encoded data removed]",
      "text/plain": [
       "<Figure size 432x288 with 1 Axes>"
      ]
     },
     "metadata": {},
     "output_type": "display_data"
    }
   ],
   "source": [
    "# CURE plot\n",
    "data[\"fitted\"] = model_2.predict()\n",
    "data[\"residuals\"] = data[\"Y\"] - data[\"fitted\"]\n",
    "data.sort_values(by=['X1'], ascending=True, inplace=True)\n",
    "data[\"Cum_residuals\"] = data[\"residuals\"].cumsum()\n",
    "data.plot(x= 'X1', y= 'Cum_residuals')"
   ]
  },
  {
   "cell_type": "code",
   "execution_count": 44,
   "id": "12c4f78d",
   "metadata": {
    "scrolled": false
   },
   "outputs": [
    {
     "name": "stdout",
     "output_type": "stream",
     "text": [
      "Optimization terminated successfully.\n",
      "         Current function value: 3.400313\n",
      "         Iterations 5\n",
      "                     NegativeBinomial Regression Results                      \n",
      "==============================================================================\n",
      "Dep. Variable:                      Y   No. Observations:                   59\n",
      "Model:               NegativeBinomial   Df Residuals:                       56\n",
      "Method:                           MLE   Df Model:                            2\n",
      "Date:                Mon, 01 Aug 2022   Pseudo R-squ.:                 0.08005\n",
      "Time:                        10:51:01   Log-Likelihood:                -200.62\n",
      "converged:                       True   LL-Null:                       -218.08\n",
      "Covariance Type:            nonrobust   LLR p-value:                 2.619e-08\n",
      "==============================================================================\n",
      "                 coef    std err          z      P>|z|      [0.025      0.975]\n",
      "------------------------------------------------------------------------------\n",
      "X1             0.2480      0.037      6.697      0.000       0.175       0.321\n",
      "X2             0.0002   3.04e-05      6.603      0.000       0.000       0.000\n",
      "X3             0.1618      0.156      1.035      0.301      -0.145       0.468\n",
      "alpha          0.3496      0.088      3.982      0.000       0.177       0.522\n",
      "==============================================================================\n"
     ]
    }
   ],
   "source": [
    "#Final\n",
    "data = pd.read_excel(\"C:\\\\Users\\\\SSP\\\\Desktop\\\\Dr_Baradaran\\\\spf.data.4.401.V1.xlsx\")\n",
    "X = data[['X1', 'X2', 'X3']]\n",
    "Y = data['Y']\n",
    "model_3 = sm.NegativeBinomial(Y,X).fit(method='newton', maxiter=1000)\n",
    "print(model_3.summary())"
   ]
  },
  {
   "cell_type": "code",
   "execution_count": 45,
   "id": "37ddba5f",
   "metadata": {},
   "outputs": [
    {
     "data": {
      "image/png": "[encoded data removed]",
      "text/plain": [
       "<Figure size 432x288 with 1 Axes>"
      ]
     },
     "metadata": {},
     "output_type": "display_data"
    }
   ],
   "source": [
    "nb_predictions = model_3.predict(X)\n",
    "actual_counts = Y\n",
    "fig = plt.figure()\n",
    "fig.suptitle('Predicted versus actual accident counts')\n",
    "predicted, = plt.plot(X.index, nb_predictions, 'go-', label='Predicted counts')\n",
    "actual, = plt.plot(X.index, actual_counts, 'ro-', label='Actual counts')\n",
    "plt.legend(handles=[predicted, actual])\n",
    "plt.show()"
   ]
  },
  {
   "cell_type": "code",
   "execution_count": 17,
   "id": "32284875",
   "metadata": {},
   "outputs": [
    {
     "data": {
      "text/plain": [
       "<AxesSubplot:xlabel='X1'>"
      ]
     },
     "execution_count": 17,
     "metadata": {},
     "output_type": "execute_result"
    },
    {
     "data": {
      "image/png": "[encoded data removed]",
      "text/plain": [
       "<Figure size 432x288 with 1 Axes>"
      ]
     },
     "metadata": {},
     "output_type": "display_data"
    }
   ],
   "source": [
    "# CURE plot\n",
    "data[\"fitted\"] = model_3.predict()\n",
    "data[\"residuals\"] = data[\"Y\"] - data[\"fitted\"]\n",
    "data.sort_values(by=['X1'], ascending=True, inplace=True)\n",
    "data[\"Cum_residuals\"] = data[\"residuals\"].cumsum()\n",
    "data.plot(x= 'X1', y= 'Cum_residuals')"
   ]
  },
  {
   "cell_type": "code",
   "execution_count": 36,
   "id": "76fa93d4",
   "metadata": {},
   "outputs": [],
   "source": [
    "from sklearn.preprocessing import StandardScaler\n",
    "scaler = StandardScaler()\n",
    "#X2_scaled = scaler.fit_transform(X.drop(columns=[\"X1\", \"X3\"]))\n",
    "X_scaled = scaler.fit_transform(X)"
   ]
  },
  {
   "cell_type": "code",
   "execution_count": 40,
   "id": "b5fab64b",
   "metadata": {},
   "outputs": [
    {
     "data": {
      "text/html": [
       "<div>\n",
       "<style scoped>\n",
       "    .dataframe tbody tr th:only-of-type {\n",
       "        vertical-align: middle;\n",
       "    }\n",
       "\n",
       "    .dataframe tbody tr th {\n",
       "        vertical-align: top;\n",
       "    }\n",
       "\n",
       "    .dataframe thead th {\n",
       "        text-align: right;\n",
       "    }\n",
       "</style>\n",
       "<table border=\"1\" class=\"dataframe\">\n",
       "  <thead>\n",
       "    <tr style=\"text-align: right;\">\n",
       "      <th></th>\n",
       "      <th>X1</th>\n",
       "      <th>X2</th>\n",
       "      <th>X3</th>\n",
       "    </tr>\n",
       "  </thead>\n",
       "  <tbody>\n",
       "    <tr>\n",
       "      <th>0</th>\n",
       "      <td>0.380406</td>\n",
       "      <td>1.469345</td>\n",
       "      <td>0.075529</td>\n",
       "    </tr>\n",
       "    <tr>\n",
       "      <th>1</th>\n",
       "      <td>2.210625</td>\n",
       "      <td>1.469345</td>\n",
       "      <td>0.184484</td>\n",
       "    </tr>\n",
       "    <tr>\n",
       "      <th>2</th>\n",
       "      <td>2.357497</td>\n",
       "      <td>1.469345</td>\n",
       "      <td>-0.175733</td>\n",
       "    </tr>\n",
       "    <tr>\n",
       "      <th>3</th>\n",
       "      <td>-1.049991</td>\n",
       "      <td>1.469345</td>\n",
       "      <td>-1.237598</td>\n",
       "    </tr>\n",
       "    <tr>\n",
       "      <th>4</th>\n",
       "      <td>-0.733864</td>\n",
       "      <td>1.469345</td>\n",
       "      <td>-0.283098</td>\n",
       "    </tr>\n",
       "    <tr>\n",
       "      <th>5</th>\n",
       "      <td>-0.259515</td>\n",
       "      <td>1.469345</td>\n",
       "      <td>-0.184099</td>\n",
       "    </tr>\n",
       "    <tr>\n",
       "      <th>6</th>\n",
       "      <td>-1.046003</td>\n",
       "      <td>1.469345</td>\n",
       "      <td>-1.237598</td>\n",
       "    </tr>\n",
       "    <tr>\n",
       "      <th>7</th>\n",
       "      <td>-0.760299</td>\n",
       "      <td>1.469345</td>\n",
       "      <td>-0.237854</td>\n",
       "    </tr>\n",
       "    <tr>\n",
       "      <th>8</th>\n",
       "      <td>-0.343945</td>\n",
       "      <td>1.469345</td>\n",
       "      <td>-0.092783</td>\n",
       "    </tr>\n",
       "    <tr>\n",
       "      <th>9</th>\n",
       "      <td>-0.027312</td>\n",
       "      <td>1.469345</td>\n",
       "      <td>-0.373631</td>\n",
       "    </tr>\n",
       "    <tr>\n",
       "      <th>10</th>\n",
       "      <td>-0.691691</td>\n",
       "      <td>1.469345</td>\n",
       "      <td>-1.237598</td>\n",
       "    </tr>\n",
       "    <tr>\n",
       "      <th>11</th>\n",
       "      <td>-0.456323</td>\n",
       "      <td>1.469345</td>\n",
       "      <td>-0.590538</td>\n",
       "    </tr>\n",
       "    <tr>\n",
       "      <th>12</th>\n",
       "      <td>1.654729</td>\n",
       "      <td>1.469345</td>\n",
       "      <td>-0.487372</td>\n",
       "    </tr>\n",
       "    <tr>\n",
       "      <th>13</th>\n",
       "      <td>-0.646029</td>\n",
       "      <td>1.469345</td>\n",
       "      <td>-1.237598</td>\n",
       "    </tr>\n",
       "    <tr>\n",
       "      <th>14</th>\n",
       "      <td>-0.377262</td>\n",
       "      <td>1.469345</td>\n",
       "      <td>-0.644918</td>\n",
       "    </tr>\n",
       "    <tr>\n",
       "      <th>15</th>\n",
       "      <td>1.085080</td>\n",
       "      <td>1.469345</td>\n",
       "      <td>-0.309531</td>\n",
       "    </tr>\n",
       "    <tr>\n",
       "      <th>16</th>\n",
       "      <td>0.425310</td>\n",
       "      <td>1.469345</td>\n",
       "      <td>-0.597947</td>\n",
       "    </tr>\n",
       "    <tr>\n",
       "      <th>17</th>\n",
       "      <td>2.002080</td>\n",
       "      <td>1.469345</td>\n",
       "      <td>-0.397927</td>\n",
       "    </tr>\n",
       "    <tr>\n",
       "      <th>18</th>\n",
       "      <td>2.135618</td>\n",
       "      <td>-0.758510</td>\n",
       "      <td>-0.430394</td>\n",
       "    </tr>\n",
       "    <tr>\n",
       "      <th>19</th>\n",
       "      <td>-0.372931</td>\n",
       "      <td>-0.758510</td>\n",
       "      <td>0.532293</td>\n",
       "    </tr>\n",
       "    <tr>\n",
       "      <th>20</th>\n",
       "      <td>-0.268300</td>\n",
       "      <td>-0.758510</td>\n",
       "      <td>0.355875</td>\n",
       "    </tr>\n",
       "    <tr>\n",
       "      <th>21</th>\n",
       "      <td>1.311012</td>\n",
       "      <td>-0.758510</td>\n",
       "      <td>0.034869</td>\n",
       "    </tr>\n",
       "    <tr>\n",
       "      <th>22</th>\n",
       "      <td>1.328824</td>\n",
       "      <td>-0.758510</td>\n",
       "      <td>-0.394996</td>\n",
       "    </tr>\n",
       "    <tr>\n",
       "      <th>23</th>\n",
       "      <td>1.076689</td>\n",
       "      <td>-0.758510</td>\n",
       "      <td>0.625041</td>\n",
       "    </tr>\n",
       "    <tr>\n",
       "      <th>24</th>\n",
       "      <td>-0.922857</td>\n",
       "      <td>-0.758510</td>\n",
       "      <td>0.173435</td>\n",
       "    </tr>\n",
       "    <tr>\n",
       "      <th>25</th>\n",
       "      <td>-0.463176</td>\n",
       "      <td>-0.758510</td>\n",
       "      <td>1.371394</td>\n",
       "    </tr>\n",
       "    <tr>\n",
       "      <th>26</th>\n",
       "      <td>-0.725566</td>\n",
       "      <td>-0.758510</td>\n",
       "      <td>1.585793</td>\n",
       "    </tr>\n",
       "    <tr>\n",
       "      <th>27</th>\n",
       "      <td>-0.650234</td>\n",
       "      <td>-0.758510</td>\n",
       "      <td>2.937200</td>\n",
       "    </tr>\n",
       "    <tr>\n",
       "      <th>28</th>\n",
       "      <td>-1.120461</td>\n",
       "      <td>-0.758510</td>\n",
       "      <td>-1.237598</td>\n",
       "    </tr>\n",
       "    <tr>\n",
       "      <th>29</th>\n",
       "      <td>-1.070298</td>\n",
       "      <td>-0.758510</td>\n",
       "      <td>3.264291</td>\n",
       "    </tr>\n",
       "    <tr>\n",
       "      <th>30</th>\n",
       "      <td>-0.848411</td>\n",
       "      <td>-0.758510</td>\n",
       "      <td>2.324403</td>\n",
       "    </tr>\n",
       "    <tr>\n",
       "      <th>31</th>\n",
       "      <td>-0.493451</td>\n",
       "      <td>-0.758510</td>\n",
       "      <td>0.790991</td>\n",
       "    </tr>\n",
       "    <tr>\n",
       "      <th>32</th>\n",
       "      <td>-0.808974</td>\n",
       "      <td>-0.758510</td>\n",
       "      <td>-0.142253</td>\n",
       "    </tr>\n",
       "    <tr>\n",
       "      <th>33</th>\n",
       "      <td>-0.886882</td>\n",
       "      <td>-0.758510</td>\n",
       "      <td>1.348974</td>\n",
       "    </tr>\n",
       "    <tr>\n",
       "      <th>34</th>\n",
       "      <td>-0.537772</td>\n",
       "      <td>-0.758510</td>\n",
       "      <td>0.191619</td>\n",
       "    </tr>\n",
       "    <tr>\n",
       "      <th>35</th>\n",
       "      <td>-1.085572</td>\n",
       "      <td>-0.758510</td>\n",
       "      <td>1.161275</td>\n",
       "    </tr>\n",
       "    <tr>\n",
       "      <th>36</th>\n",
       "      <td>-0.806899</td>\n",
       "      <td>-0.758510</td>\n",
       "      <td>-0.146702</td>\n",
       "    </tr>\n",
       "    <tr>\n",
       "      <th>37</th>\n",
       "      <td>-0.809753</td>\n",
       "      <td>-0.758510</td>\n",
       "      <td>-0.140575</td>\n",
       "    </tr>\n",
       "    <tr>\n",
       "      <th>38</th>\n",
       "      <td>-0.688059</td>\n",
       "      <td>-0.758510</td>\n",
       "      <td>0.532593</td>\n",
       "    </tr>\n",
       "    <tr>\n",
       "      <th>39</th>\n",
       "      <td>-0.613421</td>\n",
       "      <td>-0.758510</td>\n",
       "      <td>-0.446264</td>\n",
       "    </tr>\n",
       "    <tr>\n",
       "      <th>40</th>\n",
       "      <td>0.191563</td>\n",
       "      <td>-0.758510</td>\n",
       "      <td>-0.498900</td>\n",
       "    </tr>\n",
       "    <tr>\n",
       "      <th>41</th>\n",
       "      <td>0.958864</td>\n",
       "      <td>-0.758510</td>\n",
       "      <td>-0.258084</td>\n",
       "    </tr>\n",
       "    <tr>\n",
       "      <th>42</th>\n",
       "      <td>0.371381</td>\n",
       "      <td>-0.758510</td>\n",
       "      <td>0.412579</td>\n",
       "    </tr>\n",
       "    <tr>\n",
       "      <th>43</th>\n",
       "      <td>1.861285</td>\n",
       "      <td>-0.758510</td>\n",
       "      <td>-0.536113</td>\n",
       "    </tr>\n",
       "    <tr>\n",
       "      <th>44</th>\n",
       "      <td>-0.654586</td>\n",
       "      <td>-0.758510</td>\n",
       "      <td>-1.237598</td>\n",
       "    </tr>\n",
       "    <tr>\n",
       "      <th>45</th>\n",
       "      <td>-1.042801</td>\n",
       "      <td>-0.758510</td>\n",
       "      <td>-1.237598</td>\n",
       "    </tr>\n",
       "    <tr>\n",
       "      <th>46</th>\n",
       "      <td>1.423843</td>\n",
       "      <td>-0.758510</td>\n",
       "      <td>-1.034248</td>\n",
       "    </tr>\n",
       "    <tr>\n",
       "      <th>47</th>\n",
       "      <td>-0.887121</td>\n",
       "      <td>-0.758510</td>\n",
       "      <td>1.350411</td>\n",
       "    </tr>\n",
       "    <tr>\n",
       "      <th>48</th>\n",
       "      <td>0.763358</td>\n",
       "      <td>-0.758510</td>\n",
       "      <td>-0.166076</td>\n",
       "    </tr>\n",
       "    <tr>\n",
       "      <th>49</th>\n",
       "      <td>-0.889690</td>\n",
       "      <td>-0.758510</td>\n",
       "      <td>0.064170</td>\n",
       "    </tr>\n",
       "    <tr>\n",
       "      <th>50</th>\n",
       "      <td>-0.613360</td>\n",
       "      <td>-0.758510</td>\n",
       "      <td>0.344934</td>\n",
       "    </tr>\n",
       "    <tr>\n",
       "      <th>51</th>\n",
       "      <td>1.578756</td>\n",
       "      <td>-0.758510</td>\n",
       "      <td>-0.467696</td>\n",
       "    </tr>\n",
       "    <tr>\n",
       "      <th>52</th>\n",
       "      <td>-0.181010</td>\n",
       "      <td>-0.758510</td>\n",
       "      <td>-1.237598</td>\n",
       "    </tr>\n",
       "    <tr>\n",
       "      <th>53</th>\n",
       "      <td>-0.884145</td>\n",
       "      <td>0.016606</td>\n",
       "      <td>0.047529</td>\n",
       "    </tr>\n",
       "    <tr>\n",
       "      <th>54</th>\n",
       "      <td>0.322306</td>\n",
       "      <td>0.016606</td>\n",
       "      <td>-0.897689</td>\n",
       "    </tr>\n",
       "    <tr>\n",
       "      <th>55</th>\n",
       "      <td>-0.460255</td>\n",
       "      <td>0.016606</td>\n",
       "      <td>2.012533</td>\n",
       "    </tr>\n",
       "    <tr>\n",
       "      <th>56</th>\n",
       "      <td>0.347417</td>\n",
       "      <td>0.016606</td>\n",
       "      <td>-0.568030</td>\n",
       "    </tr>\n",
       "    <tr>\n",
       "      <th>57</th>\n",
       "      <td>0.278273</td>\n",
       "      <td>0.016606</td>\n",
       "      <td>-0.539027</td>\n",
       "    </tr>\n",
       "    <tr>\n",
       "      <th>58</th>\n",
       "      <td>1.113302</td>\n",
       "      <td>0.016606</td>\n",
       "      <td>-0.778951</td>\n",
       "    </tr>\n",
       "  </tbody>\n",
       "</table>\n",
       "</div>"
      ],
      "text/plain": [
       "          X1        X2        X3\n",
       "0   0.380406  1.469345  0.075529\n",
       "1   2.210625  1.469345  0.184484\n",
       "2   2.357497  1.469345 -0.175733\n",
       "3  -1.049991  1.469345 -1.237598\n",
       "4  -0.733864  1.469345 -0.283098\n",
       "5  -0.259515  1.469345 -0.184099\n",
       "6  -1.046003  1.469345 -1.237598\n",
       "7  -0.760299  1.469345 -0.237854\n",
       "8  -0.343945  1.469345 -0.092783\n",
       "9  -0.027312  1.469345 -0.373631\n",
       "10 -0.691691  1.469345 -1.237598\n",
       "11 -0.456323  1.469345 -0.590538\n",
       "12  1.654729  1.469345 -0.487372\n",
       "13 -0.646029  1.469345 -1.237598\n",
       "14 -0.377262  1.469345 -0.644918\n",
       "15  1.085080  1.469345 -0.309531\n",
       "16  0.425310  1.469345 -0.597947\n",
       "17  2.002080  1.469345 -0.397927\n",
       "18  2.135618 -0.758510 -0.430394\n",
       "19 -0.372931 -0.758510  0.532293\n",
       "20 -0.268300 -0.758510  0.355875\n",
       "21  1.311012 -0.758510  0.034869\n",
       "22  1.328824 -0.758510 -0.394996\n",
       "23  1.076689 -0.758510  0.625041\n",
       "24 -0.922857 -0.758510  0.173435\n",
       "25 -0.463176 -0.758510  1.371394\n",
       "26 -0.725566 -0.758510  1.585793\n",
       "27 -0.650234 -0.758510  2.937200\n",
       "28 -1.120461 -0.758510 -1.237598\n",
       "29 -1.070298 -0.758510  3.264291\n",
       "30 -0.848411 -0.758510  2.324403\n",
       "31 -0.493451 -0.758510  0.790991\n",
       "32 -0.808974 -0.758510 -0.142253\n",
       "33 -0.886882 -0.758510  1.348974\n",
       "34 -0.537772 -0.758510  0.191619\n",
       "35 -1.085572 -0.758510  1.161275\n",
       "36 -0.806899 -0.758510 -0.146702\n",
       "37 -0.809753 -0.758510 -0.140575\n",
       "38 -0.688059 -0.758510  0.532593\n",
       "39 -0.613421 -0.758510 -0.446264\n",
       "40  0.191563 -0.758510 -0.498900\n",
       "41  0.958864 -0.758510 -0.258084\n",
       "42  0.371381 -0.758510  0.412579\n",
       "43  1.861285 -0.758510 -0.536113\n",
       "44 -0.654586 -0.758510 -1.237598\n",
       "45 -1.042801 -0.758510 -1.237598\n",
       "46  1.423843 -0.758510 -1.034248\n",
       "47 -0.887121 -0.758510  1.350411\n",
       "48  0.763358 -0.758510 -0.166076\n",
       "49 -0.889690 -0.758510  0.064170\n",
       "50 -0.613360 -0.758510  0.344934\n",
       "51  1.578756 -0.758510 -0.467696\n",
       "52 -0.181010 -0.758510 -1.237598\n",
       "53 -0.884145  0.016606  0.047529\n",
       "54  0.322306  0.016606 -0.897689\n",
       "55 -0.460255  0.016606  2.012533\n",
       "56  0.347417  0.016606 -0.568030\n",
       "57  0.278273  0.016606 -0.539027\n",
       "58  1.113302  0.016606 -0.778951"
      ]
     },
     "execution_count": 40,
     "metadata": {},
     "output_type": "execute_result"
    }
   ],
   "source": [
    "X = pd.DataFrame(X_scaled, columns=['X1', 'X2', 'X3'])\n",
    "X"
   ]
  },
  {
   "cell_type": "code",
   "execution_count": 27,
   "id": "6ad51b4e",
   "metadata": {
    "scrolled": true
   },
   "outputs": [
    {
     "name": "stdout",
     "output_type": "stream",
     "text": [
      "Optimization terminated successfully.\n",
      "         Current function value: 3.676985\n",
      "         Iterations: 11\n",
      "         Function evaluations: 13\n",
      "         Gradient evaluations: 13\n",
      "                     NegativeBinomial Regression Results                      \n",
      "==============================================================================\n",
      "Dep. Variable:                      Y   No. Observations:                   59\n",
      "Model:               NegativeBinomial   Df Residuals:                       56\n",
      "Method:                           MLE   Df Model:                            2\n",
      "Date:                Mon, 01 Aug 2022   Pseudo R-squ.:                0.005200\n",
      "Time:                        10:43:15   Log-Likelihood:                -216.94\n",
      "converged:                       True   LL-Null:                       -218.08\n",
      "Covariance Type:            nonrobust   LLR p-value:                    0.3217\n",
      "==============================================================================\n",
      "                 coef    std err          z      P>|z|      [0.025      0.975]\n",
      "------------------------------------------------------------------------------\n",
      "X1             0.4508      0.040     11.260      0.000       0.372       0.529\n",
      "X2            -0.0644      0.118     -0.543      0.587      -0.297       0.168\n",
      "X3             0.9473      0.161      5.868      0.000       0.631       1.264\n",
      "alpha          0.7017      0.144      4.889      0.000       0.420       0.983\n",
      "==============================================================================\n"
     ]
    },
    {
     "name": "stderr",
     "output_type": "stream",
     "text": [
      "C:\\Users\\SSP\\AppData\\Local\\Temp/ipykernel_10120/3760385818.py:1: SettingWithCopyWarning: \n",
      "A value is trying to be set on a copy of a slice from a DataFrame.\n",
      "Try using .loc[row_indexer,col_indexer] = value instead\n",
      "\n",
      "See the caveats in the documentation: https://pandas.pydata.org/pandas-docs/stable/user_guide/indexing.html#returning-a-view-versus-a-copy\n",
      "  X[\"X2\"] = X2_scaled\n"
     ]
    }
   ],
   "source": [
    "X[\"X2\"] = X2_scaled\n",
    "X.sort_index(inplace=True)\n",
    "Y = data['Y']\n",
    "model_4 = sm.NegativeBinomial(Y,X).fit()\n",
    "print(model_4.summary())"
   ]
  },
  {
   "cell_type": "code",
   "execution_count": 28,
   "id": "f12b6eb4",
   "metadata": {},
   "outputs": [
    {
     "data": {
      "image/png": "[encoded data removed]",
      "text/plain": [
       "<Figure size 432x288 with 1 Axes>"
      ]
     },
     "metadata": {},
     "output_type": "display_data"
    }
   ],
   "source": [
    "nb_predictions = model_4.predict(X)\n",
    "actual_counts = Y\n",
    "fig = plt.figure()\n",
    "fig.suptitle('Predicted versus actual accident counts')\n",
    "predicted, = plt.plot(X.index, nb_predictions, 'go-', label='Predicted counts')\n",
    "actual, = plt.plot(X.index, actual_counts, 'ro-', label='Actual counts')\n",
    "plt.legend(handles=[predicted, actual])\n",
    "plt.show()"
   ]
  },
  {
   "cell_type": "code",
   "execution_count": 42,
   "id": "9827a6ac",
   "metadata": {
    "scrolled": true
   },
   "outputs": [
    {
     "name": "stdout",
     "output_type": "stream",
     "text": [
      "Optimization terminated successfully.\n",
      "         Current function value: 5.545294\n",
      "         Iterations: 273\n",
      "         Function evaluations: 462\n",
      "                     NegativeBinomial Regression Results                      \n",
      "==============================================================================\n",
      "Dep. Variable:                      Y   No. Observations:                   59\n",
      "Model:               NegativeBinomial   Df Residuals:                       56\n",
      "Method:                           MLE   Df Model:                            2\n",
      "Date:                Mon, 01 Aug 2022   Pseudo R-squ.:                 -0.5003\n",
      "Time:                        10:50:26   Log-Likelihood:                -327.17\n",
      "converged:                       True   LL-Null:                       -218.08\n",
      "Covariance Type:            nonrobust   LLR p-value:                     1.000\n",
      "==============================================================================\n",
      "                 coef    std err          z      P>|z|      [0.025      0.975]\n",
      "------------------------------------------------------------------------------\n",
      "X1             0.7112      0.153      4.655      0.000       0.412       1.011\n",
      "X2            -0.1579      0.142     -1.113      0.266      -0.436       0.120\n",
      "X3             0.0483      0.193      0.250      0.803      -0.330       0.427\n",
      "alpha         10.2008      1.510      6.757      0.000       7.242      13.160\n",
      "==============================================================================\n"
     ]
    },
    {
     "name": "stderr",
     "output_type": "stream",
     "text": [
      "C:\\Users\\SSP\\miniconda3\\envs\\python-gis\\lib\\site-packages\\statsmodels\\discrete\\discrete_model.py:2642: RuntimeWarning: divide by zero encountered in log\n",
      "  llf = coeff + size*np.log(prob) + endog*np.log(1-prob)\n",
      "C:\\Users\\SSP\\miniconda3\\envs\\python-gis\\lib\\site-packages\\statsmodels\\discrete\\discrete_model.py:2642: RuntimeWarning: invalid value encountered in multiply\n",
      "  llf = coeff + size*np.log(prob) + endog*np.log(1-prob)\n"
     ]
    }
   ],
   "source": [
    "#X[\"X2\"] = X2_scaled\n",
    "#X.sort_index(inplace=True)\n",
    "Y = data['Y']\n",
    "model_5 = sm.NegativeBinomial(Y,X).fit(method='nm', maxiter=1000)\n",
    "print(model_5.summary())"
   ]
  },
  {
   "cell_type": "code",
   "execution_count": 43,
   "id": "3f126343",
   "metadata": {},
   "outputs": [
    {
     "data": {
      "image/png": "[encoded data removed]",
      "text/plain": [
       "<Figure size 432x288 with 1 Axes>"
      ]
     },
     "metadata": {},
     "output_type": "display_data"
    }
   ],
   "source": [
    "nb_predictions = model_5.predict(X)\n",
    "actual_counts = Y\n",
    "fig = plt.figure()\n",
    "fig.suptitle('Predicted versus actual accident counts')\n",
    "predicted, = plt.plot(X.index, nb_predictions, 'go-', label='Predicted counts')\n",
    "actual, = plt.plot(X.index, actual_counts, 'ro-', label='Actual counts')\n",
    "plt.legend(handles=[predicted, actual])\n",
    "plt.show()"
   ]
  },
  {
   "cell_type": "code",
   "execution_count": 31,
   "id": "5ae4c8f3",
   "metadata": {
    "scrolled": true
   },
   "outputs": [
    {
     "name": "stdout",
     "output_type": "stream",
     "text": [
      "Optimization terminated successfully.\n",
      "         Current function value: 3.676985\n",
      "         Iterations: 11\n",
      "         Function evaluations: 13\n",
      "         Gradient evaluations: 13\n",
      "                     NegativeBinomial Regression Results                      \n",
      "==============================================================================\n",
      "Dep. Variable:                      Y   No. Observations:                   59\n",
      "Model:               NegativeBinomial   Df Residuals:                       56\n",
      "Method:                           MLE   Df Model:                            2\n",
      "Date:                Mon, 01 Aug 2022   Pseudo R-squ.:                0.005200\n",
      "Time:                        10:44:23   Log-Likelihood:                -216.94\n",
      "converged:                       True   LL-Null:                       -218.08\n",
      "Covariance Type:            nonrobust   LLR p-value:                    0.3217\n",
      "==============================================================================\n",
      "                 coef    std err          z      P>|z|      [0.025      0.975]\n",
      "------------------------------------------------------------------------------\n",
      "X1             0.4508      0.040     11.260      0.000       0.372       0.529\n",
      "X2            -0.0644      0.118     -0.543      0.587      -0.297       0.168\n",
      "X3             0.9473      0.161      5.868      0.000       0.631       1.264\n",
      "alpha          0.7017      0.144      4.889      0.000       0.420       0.983\n",
      "==============================================================================\n"
     ]
    },
    {
     "name": "stderr",
     "output_type": "stream",
     "text": [
      "C:\\Users\\SSP\\AppData\\Local\\Temp/ipykernel_10120/1291822170.py:1: SettingWithCopyWarning: \n",
      "A value is trying to be set on a copy of a slice from a DataFrame.\n",
      "Try using .loc[row_indexer,col_indexer] = value instead\n",
      "\n",
      "See the caveats in the documentation: https://pandas.pydata.org/pandas-docs/stable/user_guide/indexing.html#returning-a-view-versus-a-copy\n",
      "  X[\"X2\"] = X2_scaled\n"
     ]
    }
   ],
   "source": [
    "X[\"X2\"] = X2_scaled\n",
    "X.sort_index(inplace=True)\n",
    "Y = data['Y']\n",
    "model_6 = sm.NegativeBinomial(Y,X).fit(method='bfgs', maxiter=1000)\n",
    "print(model_6.summary())"
   ]
  },
  {
   "cell_type": "code",
   "execution_count": 32,
   "id": "fed25b35",
   "metadata": {},
   "outputs": [
    {
     "data": {
      "image/png": "[encoded data removed]",
      "text/plain": [
       "<Figure size 432x288 with 1 Axes>"
      ]
     },
     "metadata": {},
     "output_type": "display_data"
    }
   ],
   "source": [
    "nb_predictions = model_6.predict(X)\n",
    "actual_counts = Y\n",
    "fig = plt.figure()\n",
    "fig.suptitle('Predicted versus actual accident counts')\n",
    "predicted, = plt.plot(X.index, nb_predictions, 'go-', label='Predicted counts')\n",
    "actual, = plt.plot(X.index, actual_counts, 'ro-', label='Actual counts')\n",
    "plt.legend(handles=[predicted, actual])\n",
    "plt.show()"
   ]
  },
  {
   "cell_type": "code",
   "execution_count": 33,
   "id": "87d57fef",
   "metadata": {},
   "outputs": [
    {
     "data": {
      "text/plain": [
       "<AxesSubplot:xlabel='X1'>"
      ]
     },
     "execution_count": 33,
     "metadata": {},
     "output_type": "execute_result"
    },
    {
     "data": {
      "image/png": "[encoded data removed]",
      "text/plain": [
       "<Figure size 432x288 with 1 Axes>"
      ]
     },
     "metadata": {},
     "output_type": "display_data"
    }
   ],
   "source": [
    "# CURE plot\n",
    "data[\"fitted\"] = model_6.predict()\n",
    "data[\"residuals\"] = data[\"Y\"] - data[\"fitted\"]\n",
    "data.sort_values(by=['X1'], ascending=True, inplace=True)\n",
    "data[\"Cum_residuals\"] = data[\"residuals\"].cumsum()\n",
    "data.plot(x= 'X1', y= 'Cum_residuals')"
   ]
  },
  {
   "cell_type": "code",
   "execution_count": 41,
   "id": "a27d8c14",
   "metadata": {
    "scrolled": true
   },
   "outputs": [
    {
     "name": "stdout",
     "output_type": "stream",
     "text": [
      "Warning: Maximum number of iterations has been exceeded.\n",
      "         Current function value: 16.757788\n",
      "         Iterations: 1000\n",
      "                     NegativeBinomial Regression Results                      \n",
      "==============================================================================\n",
      "Dep. Variable:                      Y   No. Observations:                   59\n",
      "Model:               NegativeBinomial   Df Residuals:                       56\n",
      "Method:                           MLE   Df Model:                            2\n",
      "Date:                Mon, 01 Aug 2022   Pseudo R-squ.:                  -3.534\n",
      "Time:                        10:49:37   Log-Likelihood:                -988.71\n",
      "converged:                      False   LL-Null:                       -218.08\n",
      "Covariance Type:            nonrobust   LLR p-value:                     1.000\n",
      "==============================================================================\n",
      "                 coef    std err          z      P>|z|      [0.025      0.975]\n",
      "------------------------------------------------------------------------------\n",
      "X1             0.6627     90.668      0.007      0.994    -177.042     178.368\n",
      "X2            -0.1444     83.540     -0.002      0.999    -163.879     163.590\n",
      "X3             0.0422    113.292      0.000      1.000    -222.007     222.091\n",
      "alpha       4.337e+06        nan        nan        nan         nan         nan\n",
      "==============================================================================\n"
     ]
    },
    {
     "name": "stderr",
     "output_type": "stream",
     "text": [
      "C:\\Users\\SSP\\miniconda3\\envs\\python-gis\\lib\\site-packages\\statsmodels\\base\\model.py:566: ConvergenceWarning: Maximum Likelihood optimization failed to converge. Check mle_retvals\n",
      "  warnings.warn(\"Maximum Likelihood optimization failed to \"\n"
     ]
    }
   ],
   "source": [
    "#X = data[['X1', 'X2', 'X3']]\n",
    "#scaler = StandardScaler()\n",
    "#X_scaled = scaler.fit_transform(X)\n",
    "Y = data['Y']\n",
    "model_7 = sm.NegativeBinomial(Y,X).fit(method='newton', maxiter=1000)\n",
    "print(model_7.summary())"
   ]
  },
  {
   "cell_type": "code",
   "execution_count": null,
   "id": "7087918c",
   "metadata": {},
   "outputs": [],
   "source": []
  },
  {
   "cell_type": "code",
   "execution_count": null,
   "id": "4c73a5fb",
   "metadata": {},
   "outputs": [],
   "source": []
  },
  {
   "cell_type": "code",
   "execution_count": 19,
   "id": "100befd7",
   "metadata": {},
   "outputs": [],
   "source": [
    "# CURE plot\n",
    "data[\"fitted\"] = model_7.predict()\n",
    "data[\"residuals\"] = data[\"Y\"] - data[\"fitted\"]"
   ]
  },
  {
   "cell_type": "code",
   "execution_count": 20,
   "id": "2e23190d",
   "metadata": {},
   "outputs": [],
   "source": [
    "data.sort_values(by=['X1'], ascending=True, inplace=True)"
   ]
  },
  {
   "cell_type": "code",
   "execution_count": 21,
   "id": "85e62b12",
   "metadata": {},
   "outputs": [],
   "source": [
    "data[\"Cum_residuals\"] = data[\"residuals\"].cumsum()"
   ]
  },
  {
   "cell_type": "code",
   "execution_count": 22,
   "id": "8003e157",
   "metadata": {},
   "outputs": [
    {
     "data": {
      "text/html": [
       "<div>\n",
       "<style scoped>\n",
       "    .dataframe tbody tr th:only-of-type {\n",
       "        vertical-align: middle;\n",
       "    }\n",
       "\n",
       "    .dataframe tbody tr th {\n",
       "        vertical-align: top;\n",
       "    }\n",
       "\n",
       "    .dataframe thead th {\n",
       "        text-align: right;\n",
       "    }\n",
       "</style>\n",
       "<table border=\"1\" class=\"dataframe\">\n",
       "  <thead>\n",
       "    <tr style=\"text-align: right;\">\n",
       "      <th></th>\n",
       "      <th>seg</th>\n",
       "      <th>Y</th>\n",
       "      <th>X1</th>\n",
       "      <th>X2</th>\n",
       "      <th>X3</th>\n",
       "      <th>fitted</th>\n",
       "      <th>residuals</th>\n",
       "      <th>Cum_residuals</th>\n",
       "    </tr>\n",
       "  </thead>\n",
       "  <tbody>\n",
       "    <tr>\n",
       "      <th>28</th>\n",
       "      <td>31</td>\n",
       "      <td>0</td>\n",
       "      <td>0.505269</td>\n",
       "      <td>7307.333333</td>\n",
       "      <td>0.000000</td>\n",
       "      <td>4.910313</td>\n",
       "      <td>-4.910313</td>\n",
       "      <td>-4.910313</td>\n",
       "    </tr>\n",
       "    <tr>\n",
       "      <th>35</th>\n",
       "      <td>24</td>\n",
       "      <td>3</td>\n",
       "      <td>0.594510</td>\n",
       "      <td>7307.333333</td>\n",
       "      <td>1.682057</td>\n",
       "      <td>6.590997</td>\n",
       "      <td>-3.590997</td>\n",
       "      <td>-8.501310</td>\n",
       "    </tr>\n",
       "    <tr>\n",
       "      <th>29</th>\n",
       "      <td>30</td>\n",
       "      <td>1</td>\n",
       "      <td>0.633580</td>\n",
       "      <td>7307.333333</td>\n",
       "      <td>3.156663</td>\n",
       "      <td>8.449060</td>\n",
       "      <td>-7.449060</td>\n",
       "      <td>-15.950370</td>\n",
       "    </tr>\n",
       "    <tr>\n",
       "      <th>3</th>\n",
       "      <td>56</td>\n",
       "      <td>1</td>\n",
       "      <td>0.685524</td>\n",
       "      <td>8076.666667</td>\n",
       "      <td>0.000000</td>\n",
       "      <td>5.991754</td>\n",
       "      <td>-4.991754</td>\n",
       "      <td>-20.942125</td>\n",
       "    </tr>\n",
       "    <tr>\n",
       "      <th>6</th>\n",
       "      <td>53</td>\n",
       "      <td>4</td>\n",
       "      <td>0.695724</td>\n",
       "      <td>8076.666667</td>\n",
       "      <td>0.000000</td>\n",
       "      <td>6.006929</td>\n",
       "      <td>-2.006929</td>\n",
       "      <td>-22.949053</td>\n",
       "    </tr>\n",
       "  </tbody>\n",
       "</table>\n",
       "</div>"
      ],
      "text/plain": [
       "    seg  Y        X1           X2        X3    fitted  residuals  \\\n",
       "28   31  0  0.505269  7307.333333  0.000000  4.910313  -4.910313   \n",
       "35   24  3  0.594510  7307.333333  1.682057  6.590997  -3.590997   \n",
       "29   30  1  0.633580  7307.333333  3.156663  8.449060  -7.449060   \n",
       "3    56  1  0.685524  8076.666667  0.000000  5.991754  -4.991754   \n",
       "6    53  4  0.695724  8076.666667  0.000000  6.006929  -2.006929   \n",
       "\n",
       "    Cum_residuals  \n",
       "28      -4.910313  \n",
       "35      -8.501310  \n",
       "29     -15.950370  \n",
       "3      -20.942125  \n",
       "6      -22.949053  "
      ]
     },
     "execution_count": 22,
     "metadata": {},
     "output_type": "execute_result"
    }
   ],
   "source": [
    "data.head()"
   ]
  },
  {
   "cell_type": "code",
   "execution_count": 23,
   "id": "a7bc9011",
   "metadata": {},
   "outputs": [
    {
     "data": {
      "text/plain": [
       "<AxesSubplot:xlabel='X1'>"
      ]
     },
     "execution_count": 23,
     "metadata": {},
     "output_type": "execute_result"
    },
    {
     "data": {
      "image/png": "[encoded data removed]",
      "text/plain": [
       "<Figure size 432x288 with 1 Axes>"
      ]
     },
     "metadata": {},
     "output_type": "display_data"
    }
   ],
   "source": [
    "\"\"\"\" Second, it is now easy to say what a good CURE plot should look like. It should\n",
    "not have vertical drops because these are indicative of inordinately large\n",
    "residuals—possible outliers. It should not have long increasing or decreasing runs\n",
    "because these correspond to regions of consistent over and underestimation. It\n",
    "should meander around the horizontal axis in a manner consistent with a “symmetric\n",
    "random walk. \"\"\"\n",
    "\n",
    "data.plot(x= 'X1', y= 'Cum_residuals')"
   ]
  },
  {
   "cell_type": "code",
   "execution_count": null,
   "id": "0d71389e",
   "metadata": {},
   "outputs": [],
   "source": []
  },
  {
   "cell_type": "code",
   "execution_count": null,
   "id": "48b951b1",
   "metadata": {},
   "outputs": [],
   "source": []
  },
  {
   "cell_type": "code",
   "execution_count": null,
   "id": "a998a25c",
   "metadata": {},
   "outputs": [],
   "source": []
  },
  {
   "cell_type": "code",
   "execution_count": null,
   "id": "46d7f26f",
   "metadata": {},
   "outputs": [],
   "source": []
  },
  {
   "cell_type": "code",
   "execution_count": null,
   "id": "367b0277",
   "metadata": {},
   "outputs": [],
   "source": []
  },
  {
   "cell_type": "code",
   "execution_count": null,
   "id": "653c1ae3",
   "metadata": {},
   "outputs": [],
   "source": []
  },
  {
   "cell_type": "code",
   "execution_count": 99,
   "id": "abd7da37",
   "metadata": {},
   "outputs": [
    {
     "ename": "AttributeError",
     "evalue": "'GLMResults' object has no attribute 'score'",
     "output_type": "error",
     "traceback": [
      "\u001b[1;31m---------------------------------------------------------------------------\u001b[0m",
      "\u001b[1;31mAttributeError\u001b[0m                            Traceback (most recent call last)",
      "\u001b[1;32m~\\AppData\\Local\\Temp/ipykernel_7352/1283825665.py\u001b[0m in \u001b[0;36m<module>\u001b[1;34m\u001b[0m\n\u001b[0;32m     16\u001b[0m                     family=sm.families.NegativeBinomial()).fit()\"\"\"\n\u001b[0;32m     17\u001b[0m     \u001b[0mpreds\u001b[0m\u001b[1;33m.\u001b[0m\u001b[0mappend\u001b[0m\u001b[1;33m(\u001b[0m\u001b[0mmodel\u001b[0m\u001b[1;33m.\u001b[0m\u001b[0mget_prediction\u001b[0m\u001b[1;33m(\u001b[0m\u001b[0mX_test\u001b[0m\u001b[1;33m)\u001b[0m\u001b[1;33m)\u001b[0m\u001b[1;33m\u001b[0m\u001b[1;33m\u001b[0m\u001b[0m\n\u001b[1;32m---> 18\u001b[1;33m     \u001b[0mscores\u001b[0m\u001b[1;33m.\u001b[0m\u001b[0mappend\u001b[0m\u001b[1;33m(\u001b[0m\u001b[0mmodel\u001b[0m\u001b[1;33m.\u001b[0m\u001b[0mscore\u001b[0m\u001b[1;33m(\u001b[0m\u001b[0mX_test\u001b[0m\u001b[1;33m,\u001b[0m \u001b[0my_test\u001b[0m\u001b[1;33m)\u001b[0m\u001b[1;33m)\u001b[0m\u001b[1;33m\u001b[0m\u001b[1;33m\u001b[0m\u001b[0m\n\u001b[0m\u001b[0;32m     19\u001b[0m \u001b[0mprint\u001b[0m\u001b[1;33m(\u001b[0m\u001b[0mscores\u001b[0m\u001b[1;33m)\u001b[0m\u001b[1;33m\u001b[0m\u001b[1;33m\u001b[0m\u001b[0m\n",
      "\u001b[1;32m~\\miniconda3\\envs\\ML_DS\\lib\\site-packages\\statsmodels\\base\\wrapper.py\u001b[0m in \u001b[0;36m__getattribute__\u001b[1;34m(self, attr)\u001b[0m\n\u001b[0;32m     32\u001b[0m             \u001b[1;32mpass\u001b[0m\u001b[1;33m\u001b[0m\u001b[1;33m\u001b[0m\u001b[0m\n\u001b[0;32m     33\u001b[0m \u001b[1;33m\u001b[0m\u001b[0m\n\u001b[1;32m---> 34\u001b[1;33m         \u001b[0mobj\u001b[0m \u001b[1;33m=\u001b[0m \u001b[0mgetattr\u001b[0m\u001b[1;33m(\u001b[0m\u001b[0mresults\u001b[0m\u001b[1;33m,\u001b[0m \u001b[0mattr\u001b[0m\u001b[1;33m)\u001b[0m\u001b[1;33m\u001b[0m\u001b[1;33m\u001b[0m\u001b[0m\n\u001b[0m\u001b[0;32m     35\u001b[0m         \u001b[0mdata\u001b[0m \u001b[1;33m=\u001b[0m \u001b[0mresults\u001b[0m\u001b[1;33m.\u001b[0m\u001b[0mmodel\u001b[0m\u001b[1;33m.\u001b[0m\u001b[0mdata\u001b[0m\u001b[1;33m\u001b[0m\u001b[1;33m\u001b[0m\u001b[0m\n\u001b[0;32m     36\u001b[0m         \u001b[0mhow\u001b[0m \u001b[1;33m=\u001b[0m \u001b[0mself\u001b[0m\u001b[1;33m.\u001b[0m\u001b[0m_wrap_attrs\u001b[0m\u001b[1;33m.\u001b[0m\u001b[0mget\u001b[0m\u001b[1;33m(\u001b[0m\u001b[0mattr\u001b[0m\u001b[1;33m)\u001b[0m\u001b[1;33m\u001b[0m\u001b[1;33m\u001b[0m\u001b[0m\n",
      "\u001b[1;31mAttributeError\u001b[0m: 'GLMResults' object has no attribute 'score'"
     ]
    }
   ],
   "source": [
    "from sklearn.model_selection import KFold\n",
    "\n",
    "X = data[['X1', 'X2', 'X3']].values\n",
    "Y = data['Y'].values\n",
    "\n",
    "preds, scores = [], []\n",
    "kfold = KFold(n_splits=10, shuffle=True, random_state=1)\n",
    "\n",
    "for train_idx, test_idx in kfold.split(data):\n",
    "    X_train, X_test = X[train_idx], X[test_idx]\n",
    "    y_test = Y[test_idx]\n",
    "    model = sm.GLM(data['Y'], data[['X1', 'X2', 'X3']], \n",
    "                     family=sm.families.NegativeBinomial()).fit()\n",
    "    \"\"\"\"model = smf.glm(formula = \"Y ~ w1 + w2 + w3 + C(w4)\", \n",
    "                    data=, \n",
    "                    family=sm.families.NegativeBinomial()).fit()\"\"\"\n",
    "    preds.append(model.get_prediction(X_test))\n",
    "    scores.append(model.score(X_test, y_test))\n",
    "print(scores)\n"
   ]
  },
  {
   "cell_type": "code",
   "execution_count": null,
   "id": "0c3750af",
   "metadata": {},
   "outputs": [],
   "source": []
  },
  {
   "cell_type": "code",
   "execution_count": null,
   "id": "bdb09bcb",
   "metadata": {},
   "outputs": [],
   "source": []
  },
  {
   "cell_type": "code",
   "execution_count": 100,
   "id": "72f87c97",
   "metadata": {},
   "outputs": [
    {
     "name": "stdout",
     "output_type": "stream",
     "text": [
      "                 Generalized Linear Model Regression Results                  \n",
      "==============================================================================\n",
      "Dep. Variable:                      Y   No. Observations:                   59\n",
      "Model:                            GLM   Df Residuals:                       56\n",
      "Model Family:        NegativeBinomial   Df Model:                            2\n",
      "Link Function:                    log   Scale:                          1.0000\n",
      "Method:                          IRLS   Log-Likelihood:                -209.29\n",
      "Date:                Sun, 19 Jun 2022   Deviance:                       32.925\n",
      "Time:                        12:32:31   Pearson chi2:                     24.5\n",
      "No. Iterations:                     9   Pseudo R-squ. (CS):             0.2853\n",
      "Covariance Type:            nonrobust                                         \n",
      "==============================================================================\n",
      "                 coef    std err          z      P>|z|      [0.025      0.975]\n",
      "------------------------------------------------------------------------------\n",
      "X1             0.2531      0.055      4.632      0.000       0.146       0.360\n",
      "X2             0.0002   3.68e-05      5.534      0.000       0.000       0.000\n",
      "X3             0.1907      0.218      0.874      0.382      -0.237       0.618\n",
      "==============================================================================\n"
     ]
    }
   ],
   "source": [
    "print(model.summary())"
   ]
  },
  {
   "cell_type": "code",
   "execution_count": 102,
   "id": "79be9236",
   "metadata": {},
   "outputs": [
    {
     "data": {
      "text/plain": [
       "X1    0.253070\n",
       "X2    0.000203\n",
       "X3    0.190708\n",
       "dtype: float64"
      ]
     },
     "execution_count": 102,
     "metadata": {},
     "output_type": "execute_result"
    }
   ],
   "source": [
    "model.params"
   ]
  },
  {
   "cell_type": "code",
   "execution_count": 43,
   "id": "54b05b7e",
   "metadata": {},
   "outputs": [],
   "source": [
    "from statsmodels.graphics.api import abline_plot"
   ]
  },
  {
   "cell_type": "code",
   "execution_count": 54,
   "id": "d8f7a1ee",
   "metadata": {},
   "outputs": [],
   "source": [
    "nobs = my_model.nobs\n",
    "y = data['Y']\n",
    "yhat = my_model.mu"
   ]
  },
  {
   "cell_type": "code",
   "execution_count": 55,
   "id": "3e5bd242",
   "metadata": {},
   "outputs": [
    {
     "name": "stdout",
     "output_type": "stream",
     "text": [
      "30.485206251250727\n",
      "-12.45030685540219\n",
      "-22.001248046103832\n",
      "-5.153690013048789\n",
      "-2.5510547968358708\n",
      "-3.0141451786479596\n",
      "-2.1695955777476845\n",
      "1.5770605030725546\n",
      "-2.492208938613542\n",
      "-4.639392715514127\n",
      "-3.760031751983533\n",
      "-5.853936358372263\n",
      "-22.441094740336432\n",
      "-5.992827632608344\n",
      "-2.511700375765745\n",
      "-15.28351546723449\n",
      "0.008713773178843809\n",
      "-19.469558064724076\n",
      "5.627970779471468\n",
      "11.174357047991691\n",
      "5.940124535591389\n",
      "-3.4141247351926474\n",
      "0.757738867473492\n",
      "11.495254005408384\n",
      "-2.8996988416899923\n",
      "-4.994266631600157\n",
      "-8.349501052248891\n",
      "-9.527886437005849\n",
      "-5.0272787419267155\n",
      "-8.481572811461222\n",
      "-6.026964417613544\n",
      "15.960540791635925\n",
      "0.849639174091533\n",
      "11.048065088269606\n",
      "13.125496949393114\n",
      "-2.14210786131114\n",
      "2.874137721744315\n",
      "-0.24327709758006222\n",
      "9.348904071575184\n",
      "9.01966766072723\n",
      "5.651079243831536\n",
      "-9.62202600603598\n",
      "-2.7542490042886296\n",
      "-5.04719366725908\n",
      "-1.7967824726763082\n",
      "-2.2864665145362304\n",
      "6.901995746718612\n",
      "4.735266422825282\n",
      "6.3594009595114755\n",
      "-1.9471807714896778\n",
      "1.3742289180030127\n",
      "0.8332548636942683\n",
      "2.764960986191495\n",
      "-0.1861965028517023\n",
      "6.863875889643406\n",
      "0.42984139356545015\n",
      "5.984673569557316\n",
      "-0.41387625018439245\n",
      "-5.540384682495517\n"
     ]
    }
   ],
   "source": [
    "for i in range(0,59):\n",
    "    print(y[i] - yhat[i])"
   ]
  },
  {
   "cell_type": "code",
   "execution_count": 56,
   "id": "0c133e67",
   "metadata": {},
   "outputs": [
    {
     "data": {
      "text/plain": [
       "0     18.514794\n",
       "1     56.450307\n",
       "2     57.001248\n",
       "3      6.153690\n",
       "4      7.551055\n",
       "5     11.014145\n",
       "6      6.169596\n",
       "7      7.422939\n",
       "8     10.492209\n",
       "9     12.639393\n",
       "10     7.760032\n",
       "11     9.853936\n",
       "12    35.441095\n",
       "13     7.992828\n",
       "14     9.511700\n",
       "15    25.283515\n",
       "16    15.991286\n",
       "17    47.469558\n",
       "18    41.372029\n",
       "19     8.825643\n",
       "20    10.059875\n",
       "21    26.414125\n",
       "22    25.242261\n",
       "23    21.504746\n",
       "24     6.899699\n",
       "25     9.994267\n",
       "26     8.349501\n",
       "27     9.527886\n",
       "28     5.027279\n",
       "29     9.481573\n",
       "30     7.026964\n",
       "31     9.039459\n",
       "32     6.150361\n",
       "33     6.951935\n",
       "34     8.874503\n",
       "35     5.142108\n",
       "36     7.125862\n",
       "37     8.243277\n",
       "38     6.651096\n",
       "39     6.980332\n",
       "40    12.348921\n",
       "41    20.622026\n",
       "42    15.754249\n",
       "43    38.047194\n",
       "44     6.796782\n",
       "45     5.286467\n",
       "46    26.098004\n",
       "47     8.264734\n",
       "48    19.640599\n",
       "49     6.947181\n",
       "50     8.625771\n",
       "51    31.166745\n",
       "52     9.235039\n",
       "53     6.186197\n",
       "54    14.136124\n",
       "55    12.570159\n",
       "56    15.015326\n",
       "57    14.413876\n",
       "58    22.540385\n",
       "dtype: float64"
      ]
     },
     "execution_count": 56,
     "metadata": {},
     "output_type": "execute_result"
    }
   ],
   "source": [
    "my_model.fittedvalues"
   ]
  },
  {
   "cell_type": "code",
   "execution_count": null,
   "id": "99cbbb04",
   "metadata": {},
   "outputs": [],
   "source": []
  }
 ],
 "metadata": {
  "kernelspec": {
   "display_name": "Python 3 (ipykernel)",
   "language": "python",
   "name": "python3"
  },
  "language_info": {
   "codemirror_mode": {
    "name": "ipython",
    "version": 3
   },
   "file_extension": ".py",
   "mimetype": "text/x-python",
   "name": "python",
   "nbconvert_exporter": "python",
   "pygments_lexer": "ipython3",
   "version": "3.8.12"
  }
 },
 "nbformat": 4,
 "nbformat_minor": 5
}
